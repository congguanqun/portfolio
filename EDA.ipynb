{
 "cells": [
  {
   "cell_type": "code",
   "execution_count": 2,
   "metadata": {
    "executionInfo": {
     "elapsed": 6112,
     "status": "ok",
     "timestamp": 1683156126587,
     "user": {
      "displayName": "Danny Tsoi",
      "userId": "06065604599370212945"
     },
     "user_tz": 240
    },
    "id": "G5Ys2zHWBHAe"
   },
   "outputs": [],
   "source": [
    "# import libraries\n",
    "\n",
    "import pandas as pd\n",
    "import os\n",
    "import glob\n",
    "import numpy as np\n",
    "import matplotlib as mplib\n",
    "import matplotlib.pyplot as plt\n",
    "import seaborn as sns           "
   ]
  },
  {
   "cell_type": "code",
   "execution_count": 3,
   "metadata": {
    "colab": {
     "base_uri": "https://localhost:8080/"
    },
    "executionInfo": {
     "elapsed": 19126,
     "status": "ok",
     "timestamp": 1683156145709,
     "user": {
      "displayName": "Danny Tsoi",
      "userId": "06065604599370212945"
     },
     "user_tz": 240
    },
    "id": "MiEEGbdsCH49",
    "outputId": "cd7c7d2c-b65f-4c84-d526-6c29c2901def"
   },
   "outputs": [
    {
     "name": "stdout",
     "output_type": "stream",
     "text": [
      "Mounted at /content/gdrive\n"
     ]
    }
   ],
   "source": [
    "# Connect Google Drive to Colab\n",
    "\n",
    "from google.colab import drive\n",
    "\n",
    "drive.mount(\"/content/gdrive\")"
   ]
  },
  {
   "cell_type": "code",
   "execution_count": 6,
   "metadata": {
    "colab": {
     "base_uri": "https://localhost:8080/"
    },
    "executionInfo": {
     "elapsed": 4284,
     "status": "ok",
     "timestamp": 1683137124072,
     "user": {
      "displayName": "Danny Tsoi",
      "userId": "06065604599370212945"
     },
     "user_tz": 240
    },
    "id": "ZOzgGGr31dIb",
    "outputId": "4f3b60a6-53b4-4d7b-e448-4414c7d77362"
   },
   "outputs": [
    {
     "name": "stdout",
     "output_type": "stream",
     "text": [
      "Mounted at /content/gdrive\n"
     ]
    }
   ],
   "source": [
    "# To remount\n",
    "drive.mount(\"/content/gdrive\", force_remount=True)\n"
   ]
  },
  {
   "cell_type": "code",
   "execution_count": 4,
   "metadata": {
    "executionInfo": {
     "elapsed": 178,
     "status": "ok",
     "timestamp": 1683156184477,
     "user": {
      "displayName": "Danny Tsoi",
      "userId": "06065604599370212945"
     },
     "user_tz": 240
    },
    "id": "7f9pt9oWDOpb"
   },
   "outputs": [],
   "source": [
    "# Set path to data\n",
    "Path = \"/content/gdrive/My Drive/Group Work for ADA/Data\""
   ]
  },
  {
   "cell_type": "code",
   "execution_count": 8,
   "metadata": {
    "colab": {
     "base_uri": "https://localhost:8080/"
    },
    "executionInfo": {
     "elapsed": 18,
     "status": "ok",
     "timestamp": 1683137124073,
     "user": {
      "displayName": "Danny Tsoi",
      "userId": "06065604599370212945"
     },
     "user_tz": 240
    },
    "id": "oVD8mn7xv0ZC",
    "outputId": "3c52687c-6fbc-43e1-e88d-ee0c1f9cbe74"
   },
   "outputs": [
    {
     "name": "stdout",
     "output_type": "stream",
     "text": [
      "gdrive\tsample_data\n"
     ]
    }
   ],
   "source": [
    "!ls"
   ]
  },
  {
   "cell_type": "code",
   "execution_count": 5,
   "metadata": {
    "colab": {
     "base_uri": "https://localhost:8080/"
    },
    "executionInfo": {
     "elapsed": 396,
     "status": "ok",
     "timestamp": 1683156186911,
     "user": {
      "displayName": "Danny Tsoi",
      "userId": "06065604599370212945"
     },
     "user_tz": 240
    },
    "id": "Sry6rHcHCsTY",
    "outputId": "22130b50-559f-430b-ce46-6165d1fdefbb"
   },
   "outputs": [
    {
     "name": "stdout",
     "output_type": "stream",
     "text": [
      "/content/gdrive/MyDrive/Group Work for ADA/Data\n"
     ]
    }
   ],
   "source": [
    "# Change directory to where the data is located\n",
    "%cd /content/gdrive/MyDrive/Group Work for ADA/Data"
   ]
  },
  {
   "cell_type": "code",
   "execution_count": 6,
   "metadata": {
    "executionInfo": {
     "elapsed": 443,
     "status": "ok",
     "timestamp": 1683156189323,
     "user": {
      "displayName": "Danny Tsoi",
      "userId": "06065604599370212945"
     },
     "user_tz": 240
    },
    "id": "nogJj9FzBMQ0"
   },
   "outputs": [],
   "source": [
    "# use the chdir function from the os package to sed your working directory \n",
    "os.chdir(Path + \"/Projects\")\n"
   ]
  },
  {
   "cell_type": "code",
   "execution_count": 41,
   "metadata": {
    "colab": {
     "base_uri": "https://localhost:8080/",
     "height": 994
    },
    "executionInfo": {
     "elapsed": 48560,
     "status": "ok",
     "timestamp": 1683137525062,
     "user": {
      "displayName": "Danny Tsoi",
      "userId": "06065604599370212945"
     },
     "user_tz": 240
    },
    "id": "WPOvdhXTBdga",
    "outputId": "af0500a9-4971-48f2-a75e-9bddcbe34564"
   },
   "outputs": [
    {
     "name": "stdout",
     "output_type": "stream",
     "text": [
      "0 RePORTER_PRJ_C_FY2013.zip\n"
     ]
    },
    {
     "name": "stderr",
     "output_type": "stream",
     "text": [
      "<ipython-input-41-0259929f2daa>:11: DtypeWarning: Columns (8,35) have mixed types. Specify dtype option on import or set low_memory=False.\n",
      "  projects = pd.read_csv(file, usecols=['APPLICATION_ID', 'ACTIVITY', 'ADMINISTERING_IC', 'APPLICATION_TYPE',\n",
      "<ipython-input-41-0259929f2daa>:25: FutureWarning: The frame.append method is deprecated and will be removed from pandas in a future version. Use pandas.concat instead.\n",
      "  all_projects = all_projects.append(projects)\n"
     ]
    },
    {
     "name": "stdout",
     "output_type": "stream",
     "text": [
      "1 RePORTER_PRJ_C_FY2012.zip\n"
     ]
    },
    {
     "name": "stderr",
     "output_type": "stream",
     "text": [
      "<ipython-input-41-0259929f2daa>:25: FutureWarning: The frame.append method is deprecated and will be removed from pandas in a future version. Use pandas.concat instead.\n",
      "  all_projects = all_projects.append(projects)\n"
     ]
    },
    {
     "name": "stdout",
     "output_type": "stream",
     "text": [
      "2 RePORTER_PRJ_C_FY2014.zip\n"
     ]
    },
    {
     "name": "stderr",
     "output_type": "stream",
     "text": [
      "<ipython-input-41-0259929f2daa>:11: DtypeWarning: Columns (8,41) have mixed types. Specify dtype option on import or set low_memory=False.\n",
      "  projects = pd.read_csv(file, usecols=['APPLICATION_ID', 'ACTIVITY', 'ADMINISTERING_IC', 'APPLICATION_TYPE',\n",
      "<ipython-input-41-0259929f2daa>:25: FutureWarning: The frame.append method is deprecated and will be removed from pandas in a future version. Use pandas.concat instead.\n",
      "  all_projects = all_projects.append(projects)\n"
     ]
    },
    {
     "name": "stdout",
     "output_type": "stream",
     "text": [
      "3 RePORTER_PRJ_C_FY2016.zip\n"
     ]
    },
    {
     "name": "stderr",
     "output_type": "stream",
     "text": [
      "<ipython-input-41-0259929f2daa>:11: DtypeWarning: Columns (8) have mixed types. Specify dtype option on import or set low_memory=False.\n",
      "  projects = pd.read_csv(file, usecols=['APPLICATION_ID', 'ACTIVITY', 'ADMINISTERING_IC', 'APPLICATION_TYPE',\n",
      "<ipython-input-41-0259929f2daa>:25: FutureWarning: The frame.append method is deprecated and will be removed from pandas in a future version. Use pandas.concat instead.\n",
      "  all_projects = all_projects.append(projects)\n"
     ]
    },
    {
     "name": "stdout",
     "output_type": "stream",
     "text": [
      "4 RePORTER_PRJ_C_FY2020.zip\n"
     ]
    },
    {
     "name": "stderr",
     "output_type": "stream",
     "text": [
      "<ipython-input-41-0259929f2daa>:11: DtypeWarning: Columns (27) have mixed types. Specify dtype option on import or set low_memory=False.\n",
      "  projects = pd.read_csv(file, usecols=['APPLICATION_ID', 'ACTIVITY', 'ADMINISTERING_IC', 'APPLICATION_TYPE',\n",
      "<ipython-input-41-0259929f2daa>:25: FutureWarning: The frame.append method is deprecated and will be removed from pandas in a future version. Use pandas.concat instead.\n",
      "  all_projects = all_projects.append(projects)\n"
     ]
    },
    {
     "name": "stdout",
     "output_type": "stream",
     "text": [
      "5 RePORTER_PRJ_C_FY2015.zip\n"
     ]
    },
    {
     "name": "stderr",
     "output_type": "stream",
     "text": [
      "<ipython-input-41-0259929f2daa>:11: DtypeWarning: Columns (8) have mixed types. Specify dtype option on import or set low_memory=False.\n",
      "  projects = pd.read_csv(file, usecols=['APPLICATION_ID', 'ACTIVITY', 'ADMINISTERING_IC', 'APPLICATION_TYPE',\n",
      "<ipython-input-41-0259929f2daa>:25: FutureWarning: The frame.append method is deprecated and will be removed from pandas in a future version. Use pandas.concat instead.\n",
      "  all_projects = all_projects.append(projects)\n"
     ]
    },
    {
     "name": "stdout",
     "output_type": "stream",
     "text": [
      "6 RePORTER_PRJ_C_FY2021.zip\n"
     ]
    },
    {
     "name": "stderr",
     "output_type": "stream",
     "text": [
      "<ipython-input-41-0259929f2daa>:25: FutureWarning: The frame.append method is deprecated and will be removed from pandas in a future version. Use pandas.concat instead.\n",
      "  all_projects = all_projects.append(projects)\n"
     ]
    },
    {
     "name": "stdout",
     "output_type": "stream",
     "text": [
      "7 RePORTER_PRJ_C_FY2017_new.csv\n"
     ]
    },
    {
     "name": "stderr",
     "output_type": "stream",
     "text": [
      "<ipython-input-41-0259929f2daa>:25: FutureWarning: The frame.append method is deprecated and will be removed from pandas in a future version. Use pandas.concat instead.\n",
      "  all_projects = all_projects.append(projects)\n"
     ]
    },
    {
     "name": "stdout",
     "output_type": "stream",
     "text": [
      "8 RePORTER_PRJ_C_FY2018_new.csv\n"
     ]
    },
    {
     "name": "stderr",
     "output_type": "stream",
     "text": [
      "<ipython-input-41-0259929f2daa>:25: FutureWarning: The frame.append method is deprecated and will be removed from pandas in a future version. Use pandas.concat instead.\n",
      "  all_projects = all_projects.append(projects)\n"
     ]
    },
    {
     "name": "stdout",
     "output_type": "stream",
     "text": [
      "9 RePORTER_PRJ_C_FY2019_new.csv\n"
     ]
    },
    {
     "name": "stderr",
     "output_type": "stream",
     "text": [
      "<ipython-input-41-0259929f2daa>:25: FutureWarning: The frame.append method is deprecated and will be removed from pandas in a future version. Use pandas.concat instead.\n",
      "  all_projects = all_projects.append(projects)\n"
     ]
    },
    {
     "data": {
      "text/html": [
       "\n",
       "  <div id=\"df-c6e5d479-71c8-4b65-80bf-7ed68bb736ae\">\n",
       "    <div class=\"colab-df-container\">\n",
       "      <div>\n",
       "<style scoped>\n",
       "    .dataframe tbody tr th:only-of-type {\n",
       "        vertical-align: middle;\n",
       "    }\n",
       "\n",
       "    .dataframe tbody tr th {\n",
       "        vertical-align: top;\n",
       "    }\n",
       "\n",
       "    .dataframe thead th {\n",
       "        text-align: right;\n",
       "    }\n",
       "</style>\n",
       "<table border=\"1\" class=\"dataframe\">\n",
       "  <thead>\n",
       "    <tr style=\"text-align: right;\">\n",
       "      <th></th>\n",
       "      <th>APPLICATION_ID</th>\n",
       "      <th>ACTIVITY</th>\n",
       "      <th>ADMINISTERING_IC</th>\n",
       "      <th>APPLICATION_TYPE</th>\n",
       "      <th>ARRA_FUNDED</th>\n",
       "      <th>AWARD_NOTICE_DATE</th>\n",
       "      <th>BUDGET_START</th>\n",
       "      <th>BUDGET_END</th>\n",
       "      <th>CFDA_CODE</th>\n",
       "      <th>CORE_PROJECT_NUM</th>\n",
       "      <th>...</th>\n",
       "      <th>SERIAL_NUMBER</th>\n",
       "      <th>STUDY_SECTION</th>\n",
       "      <th>STUDY_SECTION_NAME</th>\n",
       "      <th>SUBPROJECT_ID</th>\n",
       "      <th>SUFFIX</th>\n",
       "      <th>SUPPORT_YEAR</th>\n",
       "      <th>DIRECT_COST_AMT</th>\n",
       "      <th>INDIRECT_COST_AMT</th>\n",
       "      <th>TOTAL_COST</th>\n",
       "      <th>TOTAL_COST_SUB_PROJECT</th>\n",
       "    </tr>\n",
       "  </thead>\n",
       "  <tbody>\n",
       "    <tr>\n",
       "      <th>0</th>\n",
       "      <td>100008</td>\n",
       "      <td>NaN</td>\n",
       "      <td>AF</td>\n",
       "      <td>NaN</td>\n",
       "      <td>NaN</td>\n",
       "      <td>NaN</td>\n",
       "      <td>9/29/2003</td>\n",
       "      <td>9/29/2013</td>\n",
       "      <td>NaN</td>\n",
       "      <td>233</td>\n",
       "      <td>...</td>\n",
       "      <td>-0034-</td>\n",
       "      <td>NaN</td>\n",
       "      <td>NaN</td>\n",
       "      <td>NaN</td>\n",
       "      <td>NaN</td>\n",
       "      <td>0.0</td>\n",
       "      <td>NaN</td>\n",
       "      <td>NaN</td>\n",
       "      <td>nan</td>\n",
       "      <td>NaN</td>\n",
       "    </tr>\n",
       "    <tr>\n",
       "      <th>1</th>\n",
       "      <td>100032</td>\n",
       "      <td>NaN</td>\n",
       "      <td>AF</td>\n",
       "      <td>NaN</td>\n",
       "      <td>NaN</td>\n",
       "      <td>NaN</td>\n",
       "      <td>9/29/2013</td>\n",
       "      <td>9/30/2014</td>\n",
       "      <td>93.575</td>\n",
       "      <td>NaN</td>\n",
       "      <td>...</td>\n",
       "      <td>49-01</td>\n",
       "      <td>NaN</td>\n",
       "      <td>NaN</td>\n",
       "      <td>NaN</td>\n",
       "      <td>NaN</td>\n",
       "      <td>NaN</td>\n",
       "      <td>NaN</td>\n",
       "      <td>NaN</td>\n",
       "      <td>100000.0</td>\n",
       "      <td>NaN</td>\n",
       "    </tr>\n",
       "    <tr>\n",
       "      <th>2</th>\n",
       "      <td>100060</td>\n",
       "      <td>NaN</td>\n",
       "      <td>AF</td>\n",
       "      <td>NaN</td>\n",
       "      <td>NaN</td>\n",
       "      <td>NaN</td>\n",
       "      <td>9/29/2013</td>\n",
       "      <td>9/30/2018</td>\n",
       "      <td>87.67</td>\n",
       "      <td>NaN</td>\n",
       "      <td>...</td>\n",
       "      <td>73-01</td>\n",
       "      <td>NaN</td>\n",
       "      <td>NaN</td>\n",
       "      <td>NaN</td>\n",
       "      <td>NaN</td>\n",
       "      <td>NaN</td>\n",
       "      <td>NaN</td>\n",
       "      <td>NaN</td>\n",
       "      <td>100000.0</td>\n",
       "      <td>NaN</td>\n",
       "    </tr>\n",
       "    <tr>\n",
       "      <th>3</th>\n",
       "      <td>100054</td>\n",
       "      <td>NaN</td>\n",
       "      <td>AF</td>\n",
       "      <td>NaN</td>\n",
       "      <td>NaN</td>\n",
       "      <td>NaN</td>\n",
       "      <td>9/29/2013</td>\n",
       "      <td>9/30/2018</td>\n",
       "      <td>95.67</td>\n",
       "      <td>NaN</td>\n",
       "      <td>...</td>\n",
       "      <td>74-01</td>\n",
       "      <td>NaN</td>\n",
       "      <td>NaN</td>\n",
       "      <td>NaN</td>\n",
       "      <td>NaN</td>\n",
       "      <td>NaN</td>\n",
       "      <td>NaN</td>\n",
       "      <td>NaN</td>\n",
       "      <td>100000.0</td>\n",
       "      <td>NaN</td>\n",
       "    </tr>\n",
       "    <tr>\n",
       "      <th>4</th>\n",
       "      <td>100055</td>\n",
       "      <td>NaN</td>\n",
       "      <td>AF</td>\n",
       "      <td>NaN</td>\n",
       "      <td>NaN</td>\n",
       "      <td>NaN</td>\n",
       "      <td>9/29/2013</td>\n",
       "      <td>9/30/2018</td>\n",
       "      <td>90.33</td>\n",
       "      <td>NaN</td>\n",
       "      <td>...</td>\n",
       "      <td>79-01</td>\n",
       "      <td>NaN</td>\n",
       "      <td>NaN</td>\n",
       "      <td>NaN</td>\n",
       "      <td>NaN</td>\n",
       "      <td>NaN</td>\n",
       "      <td>NaN</td>\n",
       "      <td>NaN</td>\n",
       "      <td>100000.0</td>\n",
       "      <td>NaN</td>\n",
       "    </tr>\n",
       "  </tbody>\n",
       "</table>\n",
       "<p>5 rows × 44 columns</p>\n",
       "</div>\n",
       "      <button class=\"colab-df-convert\" onclick=\"convertToInteractive('df-c6e5d479-71c8-4b65-80bf-7ed68bb736ae')\"\n",
       "              title=\"Convert this dataframe to an interactive table.\"\n",
       "              style=\"display:none;\">\n",
       "        \n",
       "  <svg xmlns=\"http://www.w3.org/2000/svg\" height=\"24px\"viewBox=\"0 0 24 24\"\n",
       "       width=\"24px\">\n",
       "    <path d=\"M0 0h24v24H0V0z\" fill=\"none\"/>\n",
       "    <path d=\"M18.56 5.44l.94 2.06.94-2.06 2.06-.94-2.06-.94-.94-2.06-.94 2.06-2.06.94zm-11 1L8.5 8.5l.94-2.06 2.06-.94-2.06-.94L8.5 2.5l-.94 2.06-2.06.94zm10 10l.94 2.06.94-2.06 2.06-.94-2.06-.94-.94-2.06-.94 2.06-2.06.94z\"/><path d=\"M17.41 7.96l-1.37-1.37c-.4-.4-.92-.59-1.43-.59-.52 0-1.04.2-1.43.59L10.3 9.45l-7.72 7.72c-.78.78-.78 2.05 0 2.83L4 21.41c.39.39.9.59 1.41.59.51 0 1.02-.2 1.41-.59l7.78-7.78 2.81-2.81c.8-.78.8-2.07 0-2.86zM5.41 20L4 18.59l7.72-7.72 1.47 1.35L5.41 20z\"/>\n",
       "  </svg>\n",
       "      </button>\n",
       "      \n",
       "  <style>\n",
       "    .colab-df-container {\n",
       "      display:flex;\n",
       "      flex-wrap:wrap;\n",
       "      gap: 12px;\n",
       "    }\n",
       "\n",
       "    .colab-df-convert {\n",
       "      background-color: #E8F0FE;\n",
       "      border: none;\n",
       "      border-radius: 50%;\n",
       "      cursor: pointer;\n",
       "      display: none;\n",
       "      fill: #1967D2;\n",
       "      height: 32px;\n",
       "      padding: 0 0 0 0;\n",
       "      width: 32px;\n",
       "    }\n",
       "\n",
       "    .colab-df-convert:hover {\n",
       "      background-color: #E2EBFA;\n",
       "      box-shadow: 0px 1px 2px rgba(60, 64, 67, 0.3), 0px 1px 3px 1px rgba(60, 64, 67, 0.15);\n",
       "      fill: #174EA6;\n",
       "    }\n",
       "\n",
       "    [theme=dark] .colab-df-convert {\n",
       "      background-color: #3B4455;\n",
       "      fill: #D2E3FC;\n",
       "    }\n",
       "\n",
       "    [theme=dark] .colab-df-convert:hover {\n",
       "      background-color: #434B5C;\n",
       "      box-shadow: 0px 1px 3px 1px rgba(0, 0, 0, 0.15);\n",
       "      filter: drop-shadow(0px 1px 2px rgba(0, 0, 0, 0.3));\n",
       "      fill: #FFFFFF;\n",
       "    }\n",
       "  </style>\n",
       "\n",
       "      <script>\n",
       "        const buttonEl =\n",
       "          document.querySelector('#df-c6e5d479-71c8-4b65-80bf-7ed68bb736ae button.colab-df-convert');\n",
       "        buttonEl.style.display =\n",
       "          google.colab.kernel.accessAllowed ? 'block' : 'none';\n",
       "\n",
       "        async function convertToInteractive(key) {\n",
       "          const element = document.querySelector('#df-c6e5d479-71c8-4b65-80bf-7ed68bb736ae');\n",
       "          const dataTable =\n",
       "            await google.colab.kernel.invokeFunction('convertToInteractive',\n",
       "                                                     [key], {});\n",
       "          if (!dataTable) return;\n",
       "\n",
       "          const docLinkHtml = 'Like what you see? Visit the ' +\n",
       "            '<a target=\"_blank\" href=https://colab.research.google.com/notebooks/data_table.ipynb>data table notebook</a>'\n",
       "            + ' to learn more about interactive tables.';\n",
       "          element.innerHTML = '';\n",
       "          dataTable['output_type'] = 'display_data';\n",
       "          await google.colab.output.renderOutput(dataTable, element);\n",
       "          const docLink = document.createElement('div');\n",
       "          docLink.innerHTML = docLinkHtml;\n",
       "          element.appendChild(docLink);\n",
       "        }\n",
       "      </script>\n",
       "    </div>\n",
       "  </div>\n",
       "  "
      ],
      "text/plain": [
       "   APPLICATION_ID ACTIVITY ADMINISTERING_IC  APPLICATION_TYPE ARRA_FUNDED  \\\n",
       "0          100008      NaN               AF               NaN         NaN   \n",
       "1          100032      NaN               AF               NaN         NaN   \n",
       "2          100060      NaN               AF               NaN         NaN   \n",
       "3          100054      NaN               AF               NaN         NaN   \n",
       "4          100055      NaN               AF               NaN         NaN   \n",
       "\n",
       "  AWARD_NOTICE_DATE BUDGET_START BUDGET_END CFDA_CODE CORE_PROJECT_NUM  ...  \\\n",
       "0               NaN    9/29/2003  9/29/2013       NaN              233  ...   \n",
       "1               NaN    9/29/2013  9/30/2014    93.575              NaN  ...   \n",
       "2               NaN    9/29/2013  9/30/2018     87.67              NaN  ...   \n",
       "3               NaN    9/29/2013  9/30/2018     95.67              NaN  ...   \n",
       "4               NaN    9/29/2013  9/30/2018     90.33              NaN  ...   \n",
       "\n",
       "  SERIAL_NUMBER STUDY_SECTION STUDY_SECTION_NAME SUBPROJECT_ID  SUFFIX  \\\n",
       "0        -0034-           NaN                NaN           NaN     NaN   \n",
       "1         49-01           NaN                NaN           NaN     NaN   \n",
       "2         73-01           NaN                NaN           NaN     NaN   \n",
       "3         74-01           NaN                NaN           NaN     NaN   \n",
       "4         79-01           NaN                NaN           NaN     NaN   \n",
       "\n",
       "  SUPPORT_YEAR DIRECT_COST_AMT INDIRECT_COST_AMT TOTAL_COST  \\\n",
       "0          0.0             NaN               NaN        nan   \n",
       "1          NaN             NaN               NaN   100000.0   \n",
       "2          NaN             NaN               NaN   100000.0   \n",
       "3          NaN             NaN               NaN   100000.0   \n",
       "4          NaN             NaN               NaN   100000.0   \n",
       "\n",
       "  TOTAL_COST_SUB_PROJECT  \n",
       "0                    NaN  \n",
       "1                    NaN  \n",
       "2                    NaN  \n",
       "3                    NaN  \n",
       "4                    NaN  \n",
       "\n",
       "[5 rows x 44 columns]"
      ]
     },
     "execution_count": 41,
     "metadata": {},
     "output_type": "execute_result"
    }
   ],
   "source": [
    "\n",
    "# Generate an empty dataframe that will hold all the data we have\n",
    "all_projects = pd.DataFrame([])\n",
    "\n",
    "\n",
    "# Now loop through each file in the folder that starts with RePORTER\n",
    "# Read that file using only the columns we need\n",
    "# And append it to the dataframe that we created above\n",
    "# This might take a little while to run (no more than 1 minute)\n",
    "for counter, file in enumerate(glob.glob(\"RePORTER*?\")):\n",
    "    print(counter,file)\n",
    "    projects = pd.read_csv(file, usecols=['APPLICATION_ID', 'ACTIVITY', 'ADMINISTERING_IC', 'APPLICATION_TYPE',\n",
    "           'ARRA_FUNDED', 'AWARD_NOTICE_DATE', 'BUDGET_START', 'BUDGET_END',\n",
    "           'CFDA_CODE', 'CORE_PROJECT_NUM', 'ED_INST_TYPE', 'FOA_NUMBER',\n",
    "           'FULL_PROJECT_NUM', 'FUNDING_MECHANISM', 'FY', 'IC_NAME',\n",
    "           'NIH_SPENDING_CATS', 'ORG_CITY', 'ORG_COUNTRY', 'ORG_DEPT',\n",
    "           'ORG_DISTRICT', 'ORG_DUNS', 'ORG_FIPS', 'ORG_NAME',\n",
    "           'ORG_STATE', 'ORG_ZIPCODE', 'PHR', 'PI_IDS', 'PI_NAMEs',\n",
    "           'PROGRAM_OFFICER_NAME', 'PROJECT_START', 'PROJECT_END', 'PROJECT_TERMS',\n",
    "           'PROJECT_TITLE', 'SERIAL_NUMBER', 'STUDY_SECTION', 'STUDY_SECTION_NAME',\n",
    "           'SUBPROJECT_ID', 'SUFFIX', 'SUPPORT_YEAR', 'DIRECT_COST_AMT',\n",
    "           'INDIRECT_COST_AMT', 'TOTAL_COST', 'TOTAL_COST_SUB_PROJECT'], \n",
    "                           encoding='latin-1')\n",
    "    projects['ORG_STATE'] = projects['ORG_STATE'].astype(str)\n",
    "    projects['TOTAL_COST'] = projects['TOTAL_COST'].astype(str)\n",
    "    all_projects = all_projects.append(projects)\n",
    "    \n",
    "# View the first 5 observations \n",
    "all_projects.head()\n"
   ]
  },
  {
   "cell_type": "code",
   "execution_count": 12,
   "metadata": {
    "executionInfo": {
     "elapsed": 129915,
     "status": "ok",
     "timestamp": 1683137349408,
     "user": {
      "displayName": "Danny Tsoi",
      "userId": "06065604599370212945"
     },
     "user_tz": 240
    },
    "id": "SY2j4ek2LDSP"
   },
   "outputs": [],
   "source": [
    "# Save as CSV file\n",
    "\n",
    "all_projects.to_csv(\"all_projects.csv\")"
   ]
  },
  {
   "cell_type": "code",
   "execution_count": 13,
   "metadata": {
    "colab": {
     "base_uri": "https://localhost:8080/"
    },
    "executionInfo": {
     "elapsed": 14,
     "status": "ok",
     "timestamp": 1683137349409,
     "user": {
      "displayName": "Danny Tsoi",
      "userId": "06065604599370212945"
     },
     "user_tz": 240
    },
    "id": "Hb_gVsFVMSYP",
    "outputId": "1f70b96a-7196-459d-c47c-259af6d7cd47"
   },
   "outputs": [
    {
     "name": "stdout",
     "output_type": "stream",
     "text": [
      " all_projects.csv\n",
      " Autism_Budget_Project_FY_1.csv\n",
      " Autism_Budget_Start_FY_1.csv\n",
      "'Autism Grouped by Priority and Ongoing or New Projects.csv'\n",
      " Autism_New_Projects_CAT.csv\n",
      " Autism_New_Projects_CAT_PI.csv\n",
      " Autism_New_Projects.csv\n",
      " autism_PI.csv\n",
      " autism_projects.csv\n",
      " autism_projects.gsheet\n",
      " Autism_Project_Start_FY_1.csv\n",
      " autism_projects.xlsx\n",
      " autism_total_cost_CAT.csv\n",
      " autism_with_CAT.csv\n",
      " desc_all_projects.csv\n",
      " desc_autism_projects.csv\n",
      " desc_autism_projects.gsheet\n",
      " EDA.xlsx\n",
      " isna_all_projects.csv\n",
      " isna_autism_projects.csv\n",
      " NCI_2016_2020.csv\n",
      " nunique_all_projects.csv\n",
      " nunique_autism_projects.csv\n",
      " RePORTER_PRJ_C_FY2012.zip\n",
      " RePORTER_PRJ_C_FY2013.zip\n",
      " RePORTER_PRJ_C_FY2014.zip\n",
      " RePORTER_PRJ_C_FY2015.zip\n",
      " RePORTER_PRJ_C_FY2016.zip\n",
      " RePORTER_PRJ_C_FY2017_new.csv\n",
      " RePORTER_PRJ_C_FY2018_new.csv\n",
      " RePORTER_PRJ_C_FY2019_new.csv\n",
      " RePORTER_PRJ_C_FY2019.zip\n",
      " RePORTER_PRJ_C_FY2020.zip\n",
      " RePORTER_PRJ_C_FY2021.zip\n"
     ]
    }
   ],
   "source": [
    "# Confirm file is saved in the folder\n",
    "\n",
    "!ls"
   ]
  },
  {
   "cell_type": "code",
   "execution_count": 14,
   "metadata": {
    "colab": {
     "base_uri": "https://localhost:8080/"
    },
    "executionInfo": {
     "elapsed": 52278,
     "status": "ok",
     "timestamp": 1683137401682,
     "user": {
      "displayName": "Danny Tsoi",
      "userId": "06065604599370212945"
     },
     "user_tz": 240
    },
    "id": "Xn5jWOTSLu9m",
    "outputId": "d16afa91-07ab-4ab2-f144-e9924643d561"
   },
   "outputs": [
    {
     "name": "stderr",
     "output_type": "stream",
     "text": [
      "<ipython-input-14-22a6d98eddf6>:3: DtypeWarning: Columns (9,35,38,40) have mixed types. Specify dtype option on import or set low_memory=False.\n",
      "  all_projects = pd.read_csv(\"all_projects.csv\", encoding=\"latin-1\")\n"
     ]
    }
   ],
   "source": [
    "# Import saved file\n",
    "\n",
    "all_projects = pd.read_csv(\"all_projects.csv\", encoding=\"latin-1\")"
   ]
  },
  {
   "cell_type": "code",
   "execution_count": 15,
   "metadata": {
    "executionInfo": {
     "elapsed": 1924,
     "status": "ok",
     "timestamp": 1683137403602,
     "user": {
      "displayName": "Danny Tsoi",
      "userId": "06065604599370212945"
     },
     "user_tz": 240
    },
    "id": "uOqpnuwrBfhY"
   },
   "outputs": [],
   "source": [
    "# Create file to generate basic summary statistics\n",
    "desc_all_projects = all_projects.describe()\n",
    "desc_all_projects.to_csv(\"desc_all_projects.csv\")\n"
   ]
  },
  {
   "cell_type": "code",
   "execution_count": 16,
   "metadata": {
    "executionInfo": {
     "elapsed": 8204,
     "status": "ok",
     "timestamp": 1683137411800,
     "user": {
      "displayName": "Danny Tsoi",
      "userId": "06065604599370212945"
     },
     "user_tz": 240
    },
    "id": "YkOPC8w0OMsy"
   },
   "outputs": [],
   "source": [
    "# Create file to determine number of unique values\n",
    "nunique_all_projects = all_projects.nunique()\n",
    "nunique_all_projects.to_csv(\"nunique_all_projects.csv\")"
   ]
  },
  {
   "cell_type": "code",
   "execution_count": 17,
   "metadata": {
    "executionInfo": {
     "elapsed": 7169,
     "status": "ok",
     "timestamp": 1683137418962,
     "user": {
      "displayName": "Danny Tsoi",
      "userId": "06065604599370212945"
     },
     "user_tz": 240
    },
    "id": "fpJtA73dPRYA"
   },
   "outputs": [],
   "source": [
    "# Create file to identify missing values for columns\n",
    "isna_all_projects = all_projects.isna().sum()\n",
    "isna_all_projects.to_csv(\"isna_all_projects.csv\")"
   ]
  },
  {
   "cell_type": "code",
   "execution_count": 18,
   "metadata": {
    "executionInfo": {
     "elapsed": 2236,
     "status": "ok",
     "timestamp": 1683137421193,
     "user": {
      "displayName": "Danny Tsoi",
      "userId": "06065604599370212945"
     },
     "user_tz": 240
    },
    "id": "nP-tW07oR5jr"
   },
   "outputs": [],
   "source": [
    "# Filter all_projects to Autism \n",
    "\n",
    "Autism_data = all_projects[all_projects['NIH_SPENDING_CATS'].str.contains('Autism', na = False)]\n",
    "\n",
    "Autism_data.to_csv(\"autism_projects.csv\")"
   ]
  },
  {
   "cell_type": "markdown",
   "metadata": {
    "id": "iPsui00xIkDJ"
   },
   "source": [
    "# Exploratory data analysis"
   ]
  },
  {
   "cell_type": "code",
   "execution_count": 19,
   "metadata": {
    "executionInfo": {
     "elapsed": 11,
     "status": "ok",
     "timestamp": 1683137421194,
     "user": {
      "displayName": "Danny Tsoi",
      "userId": "06065604599370212945"
     },
     "user_tz": 240
    },
    "id": "D6UPKXnnSVya"
   },
   "outputs": [],
   "source": [
    "# Import new file\n",
    "\n",
    "autism_projects = pd.read_csv(\"autism_projects.csv\", encoding=\"latin-1\")"
   ]
  },
  {
   "cell_type": "code",
   "execution_count": 20,
   "metadata": {
    "executionInfo": {
     "elapsed": 2823,
     "status": "ok",
     "timestamp": 1683137424010,
     "user": {
      "displayName": "Danny Tsoi",
      "userId": "06065604599370212945"
     },
     "user_tz": 240
    },
    "id": "MD-mzgkbSjrN"
   },
   "outputs": [],
   "source": [
    "# Create file to generate basic summary statistics\n",
    "desc_autism_projects = autism_projects.describe()\n",
    "desc_autism_projects.to_csv(\"desc_autism_projects.csv\")\n",
    "\n",
    "# Create file to determine number of unique values\n",
    "nunique_autism_projects = autism_projects.nunique()\n",
    "nunique_autism_projects.to_csv(\"nunique_autism_projects.csv\")\n",
    "\n",
    "# Create file to identify missing values for columns\n",
    "isna_autism_projects = autism_projects.isna().sum()\n",
    "isna_autism_projects.to_csv(\"isna_autism_projects.csv\")"
   ]
  },
  {
   "cell_type": "code",
   "execution_count": 21,
   "metadata": {
    "colab": {
     "base_uri": "https://localhost:8080/"
    },
    "executionInfo": {
     "elapsed": 21,
     "status": "ok",
     "timestamp": 1683137424011,
     "user": {
      "displayName": "Danny Tsoi",
      "userId": "06065604599370212945"
     },
     "user_tz": 240
    },
    "id": "5bkp02_QQJVB",
    "outputId": "231e9853-56fd-4f46-89ed-2752ebda5319"
   },
   "outputs": [
    {
     "data": {
      "text/plain": [
       "array(['F32', 'K99', 'R21', 'ZIA', 'R01', 'SC2', 'U01', 'K23', 'R44',\n",
       "       'U54', 'K02', 'R42', 'P50', 'P01', 'P30', 'R00', 'R03', 'R13',\n",
       "       'F31', 'DP5', 'R43', 'P20', 'SC1', 'K01', 'K08', 'N01', 'R33',\n",
       "       'DP1', 'T32', 'R34', 'F30', 'R37', 'R56', 'N02', 'DP2', 'R41',\n",
       "       'U19', 'ZIJ', 'ZIC', 'R35', 'R15', 'K00', 'K18', 'R24', 'R61',\n",
       "       'UH3', 'S10', 'UG3', 'UM1', 'N03', 'K22', 'KL2', 'F99', 'U42',\n",
       "       'ZII', 'R25'], dtype=object)"
      ]
     },
     "execution_count": 21,
     "metadata": {},
     "output_type": "execute_result"
    }
   ],
   "source": [
    "# Identify unique activities related to funding\n",
    "\n",
    "autism_projects.ACTIVITY.unique()"
   ]
  },
  {
   "cell_type": "code",
   "execution_count": 22,
   "metadata": {
    "colab": {
     "base_uri": "https://localhost:8080/"
    },
    "executionInfo": {
     "elapsed": 18,
     "status": "ok",
     "timestamp": 1683137424012,
     "user": {
      "displayName": "Danny Tsoi",
      "userId": "06065604599370212945"
     },
     "user_tz": 240
    },
    "id": "fKszqm20QOBa",
    "outputId": "d30accba-9ba2-46e2-ed2e-939f6efa944e"
   },
   "outputs": [
    {
     "data": {
      "text/plain": [
       "array(['TRAINING, INDIVIDUAL', 'OTHER RESEARCH-RELATED',\n",
       "       'Non-SBIR/STTR RPGs', 'INTRAMURAL RESEARCH', 'SBIR-STTR RPGs',\n",
       "       'RESEARCH CENTERS', 'Non SBIR/STTR Contracts',\n",
       "       'TRAINING, INSTITUTIONAL', 'NON-SBIR/STTR RPGS', 'SBIR-STTR RPGS',\n",
       "       'NON SBIR/STTR CONTRACTS'], dtype=object)"
      ]
     },
     "execution_count": 22,
     "metadata": {},
     "output_type": "execute_result"
    }
   ],
   "source": [
    "# Identify unique funding mechanisms related to announcement\n",
    "\n",
    "autism_projects.FUNDING_MECHANISM.unique()"
   ]
  },
  {
   "cell_type": "code",
   "execution_count": 23,
   "metadata": {
    "colab": {
     "base_uri": "https://localhost:8080/"
    },
    "executionInfo": {
     "elapsed": 15,
     "status": "ok",
     "timestamp": 1683137424012,
     "user": {
      "displayName": "Danny Tsoi",
      "userId": "06065604599370212945"
     },
     "user_tz": 240
    },
    "id": "Jxh5YzTZQkaa",
    "outputId": "35019aba-7d97-4596-a7bf-1e3d35e39542"
   },
   "outputs": [
    {
     "data": {
      "text/plain": [
       "array(['Autism; Basic Behavioral and Social Science; Behavioral and Social Science; Brain Disorders; Clinical Research; Eye Disease and Disorders of Vision; Intellectual and Developmental Disabilities (IDD); Mental Health; Neurosciences; ',\n",
       "       'Autism; Brain Disorders; Eye Disease and Disorders of Vision; Intellectual and Developmental Disabilities (IDD); Mental Health; ',\n",
       "       'Autism; Behavioral and Social Science; Biotechnology; Brain Disorders; Clinical Research; Genetics; Human Genome; Intellectual and Developmental Disabilities (IDD); Mental Health; Pediatric; ',\n",
       "       ...,\n",
       "       'Autism; Behavioral and Social Science; Biomedical Imaging; Brain Disorders; Genetic Testing; Genetics; Health Disparities; Intellectual and Developmental Disabilities (IDD); Mental Health; Neurosciences; Pediatric; Pediatric Research Initiative; Prevention; ',\n",
       "       'Autism; Basic Behavioral and Social Science; Behavioral and Social Science; Biomedical Imaging; Brain Disorders; Genetics; Human Genome; Intellectual and Developmental Disabilities (IDD); Mental Health; Mental Illness; Neurosciences; Pediatric; Prevention; Schizophrenia; Serious Mental Illness; ',\n",
       "       \"Acquired Cognitive Impairment; Aging; Alzheimer's Disease; Alzheimer's Disease including Alzheimer's Disease Related Dementias (AD/ADRD); Anxiety Disorders; Aphasia; Autism; Basic Behavioral and Social Science; Behavioral and Social Science; Bipolar Disorder; Brain Disorders; Clinical Research; Dementia; Depression; Down Syndrome; Health Disparities; Intellectual and Developmental Disabilities (IDD); Mental Health; Mental Illness; Minority Health; Neurodegenerative; Neurosciences; Parkinson's Disease; Pediatric; Post-Traumatic Stress Disorder (PTSD); Rehabilitation; Schizophrenia; Serious Mental Illness; \"],\n",
       "      dtype=object)"
      ]
     },
     "execution_count": 23,
     "metadata": {},
     "output_type": "execute_result"
    }
   ],
   "source": [
    "# Identify NIH Spending categories\n",
    "\n",
    "autism_projects.NIH_SPENDING_CATS.unique()"
   ]
  },
  {
   "cell_type": "code",
   "execution_count": 24,
   "metadata": {
    "colab": {
     "base_uri": "https://localhost:8080/"
    },
    "executionInfo": {
     "elapsed": 12,
     "status": "ok",
     "timestamp": 1683137424012,
     "user": {
      "displayName": "Danny Tsoi",
      "userId": "06065604599370212945"
     },
     "user_tz": 240
    },
    "id": "kxE93FDkQrsP",
    "outputId": "d39d800c-7b23-4dda-835e-4e418e9fe923"
   },
   "outputs": [
    {
     "data": {
      "text/plain": [
       "array(['PUBLIC HEALTH RELEVANCE: The proposed studies will establish whether human visual working memory can alternate flexibly between two modes of representation: either storing high-precision memories of single objects or low-precision summaries of groups of objects when most appropriate. These findings will inform several important debates about the fundamental nature (and neural basis) of visual memory, but also have important implications for research into autism and visual comparison ability.',\n",
       "       'How the collective action of distributed neural systems leads to our rich percept of the visual world is not well understood, and disorders of the circuits involved in perception, especially those involved in face recognition, can impair normal social function. Understanding the neural circuitry underlying face processing will provide valuable insights into how humans see, will improve next generation brain prosthetics for restoring visual function, and will inspire artificial vision systems.',\n",
       "       'Technological advances in genetics have increased both the ability to detect chromosomal changes associated with ASD, and the uncertainty surrounding the meaning of results. Given the high prevalence of ASD in the US population, there is significant public health value in studying the impact of genome-wide testing on the families of children with ASD, and developing evidence-based interventions for providers and parents. The interventions would improve understanding, communication and coping with the complex, uncertain genetic information that the test provides.',\n",
       "       ...,\n",
       "       'ProjectÃ\\x82Â\\xa0NarrativeÃ\\x82Â\\xa0 Ã\\x82Â\\xa0 InÃ\\x82Â\\xa0uteroÃ\\x82Â\\xa0exposureÃ\\x82Â\\xa0toÃ\\x82Â\\xa0brain-Ã\\x82Â\\xadreactiveÃ\\x82Â\\xa0antibodiesÃ\\x82Â\\xa0isÃ\\x82Â\\xa0aÃ\\x82Â\\xa0significantÃ\\x82Â\\xa0riskÃ\\x82Â\\xa0factorÃ\\x82Â\\xa0forÃ\\x82Â\\xa0developingÃ\\x82Â\\xa0AutismÃ\\x82Â\\xa0SpectrumÃ\\x82Â\\xa0 DisorderÃ\\x82Â\\xa0(ASD),Ã\\x82Â\\xa0aÃ\\x82Â\\xa0collectionÃ\\x82Â\\xa0ofÃ\\x82Â\\xa0neurodevelopmentalÃ\\x82Â\\xa0disordersÃ\\x82Â\\xa0thatÃ\\x82Â\\xa0canÃ\\x82Â\\xa0haveÃ\\x82Â\\xa0impairÃ\\x82Â\\xa0anÃ\\x82Â\\xa0individual?sÃ\\x82Â\\xa0abilityÃ\\x82Â\\xa0toÃ\\x82Â\\xa0 communicateÃ\\x82Â\\xa0andÃ\\x82Â\\xa0functionÃ\\x82Â\\xa0independently.Ã\\x82Â\\xa0Spark2FlameÃ\\x82Â\\xa0hasÃ\\x82Â\\xa0developedÃ\\x82Â\\xa0anÃ\\x82Â\\xa0innovativeÃ\\x82Â\\xa0strategyÃ\\x82Â\\xa0toÃ\\x82Â\\xa0identifyÃ\\x82Â\\xa0 pathogenicÃ\\x82Â\\xa0antibodies.Ã\\x82Â\\xa0Ã\\x82Â\\xa0Spark2FlameÃ\\x82Â\\xa0isÃ\\x82Â\\xa0seekingÃ\\x82Â\\xa0toÃ\\x82Â\\xa0advanceÃ\\x82Â\\xa0aÃ\\x82Â\\xa0diagnosticÃ\\x82Â\\xa0testÃ\\x82Â\\xa0toÃ\\x82Â\\xa0gaugeÃ\\x82Â\\xa0ASDÃ\\x82Â\\xa0riskÃ\\x82Â\\xa0thatÃ\\x82Â\\xa0 incorporatesÃ\\x82Â\\xa0theseÃ\\x82Â\\xa0biomarkersÃ\\x82Â\\xa0andÃ\\x82Â\\xa0toÃ\\x82Â\\xa0developÃ\\x82Â\\xa0matchedÃ\\x82Â\\xa0therapeuticÃ\\x82Â\\xa0biologicsÃ\\x82Â\\xa0toÃ\\x82Â\\xa0neutralizeÃ\\x82Â\\xa0theseÃ\\x82Â\\xa0antibodies.Ã\\x82Â\\xa0',\n",
       "       \"PROJECT NARRATIVE The proposed research is relevant to public health because internalizing symptoms are the leading burden of disease among children, and are related to risk for recurrent and chronic psychopathology throughout life. This study will contribute knowledge that can be used to prevent internalizing symptoms in children with autism spectrum disorder?who make up approximately 1 in 68 children in the US and have disproportionately higher levels of internalizing symptoms compared to the general population of children. Thus, the project is relevant to NIH's stated priorities to understand the complexities of comorbid symptoms among children with ASD.\",\n",
       "       'Project Narrative The synapse is the fundamental unit of information processing in our brain. Synaptic dysfunction is responsible for many neurological and psychiatric diseases. This conference brings together experts on excitatory synapses and brain function to update progress and stimulate new approaches to improve mental health and reduce the burden of neurological disease.'],\n",
       "      dtype=object)"
      ]
     },
     "execution_count": 24,
     "metadata": {},
     "output_type": "execute_result"
    }
   ],
   "source": [
    "# Identify Public Health Relevance\n",
    "\n",
    "autism_projects.PHR.unique()"
   ]
  },
  {
   "cell_type": "code",
   "execution_count": 25,
   "metadata": {
    "colab": {
     "base_uri": "https://localhost:8080/"
    },
    "executionInfo": {
     "elapsed": 11,
     "status": "ok",
     "timestamp": 1683137424012,
     "user": {
      "displayName": "Danny Tsoi",
      "userId": "06065604599370212945"
     },
     "user_tz": 240
    },
    "id": "inmzzJ5UQ5Rp",
    "outputId": "cc9a9d5f-bd72-4d56-c0fa-bbc913aed705"
   },
   "outputs": [
    {
     "data": {
      "text/plain": [
       "array(['Attention; autism spectrum disorder; Autistic Disorder; base; Behavioral; Cognitive; Collection; Consensus; Contralateral; Cues; Electroencephalography; Encapsulated; Ensure; Exhibits; Eye Movements; flexibility; Goals; Grouping; Human; Impairment; indexing; Individual; Individuation; Judgment; lead series; Light; Link; Literature; Measures; Mediating; Memory; Modeling; Nature; novel; Participant; Perception; perceptual organization; Performance; Process; public health relevance; relating to nervous system; Research; Research Design; Research Project Grants; Resolution; Resources; Sampling; Short-Term Memory; Signal Transduction; Sorting - Cell Movement; Specific qualifier value; Structure; Testing; theories; Time; Training; Vision; Vision research; Visual; Visual attention; visual cognition; visual information; visual memory; Visual Perception; visual process; visual processing; Visual system structure; Visuospatial; Work; ',\n",
       "       'Anterior; Area; base; Brain; Commit; Computer Simulation; Conflict (Psychology); Coupling; Data; design; Detection; Disease; Engineering; Face; face mask; Face Processing; Feedback; Goals; Human; Image; improved; inferotemporal cortex; innovation; insight; Interdisciplinary Study; interest; Laboratories; Macaca; Maps; Measures; Mentors; Modeling; Nature; neural circuit; next generation; Noise; novel; optogenetics; Pathway interactions; Pattern; Perception; Phase; Play; Population; Positioning Attribute; Prevalence; Primates; Process; Process Measure; Property; Prosthesis; reconstruction; Recurrence; relating to nervous system; Research Infrastructure; research study; Resolution; response; Retina; Role; Sensory; Series; Signal Transduction; Site; Social Behavior; Social Functioning; Source; Specific qualifier value; Specificity; System; Techniques; Testing; Time; tool; Training; Vision; Visual; Work; ',\n",
       "       'Address; Affect; Age; autism spectrum disorder; Autistic Disorder; base; Categories; Characteristics; Child; Clinical; clinically significant; Communication; Complex; Congenital Abnormality; coping; Counseling; Decision Making; Developmental Delay Disorders; developmental disease/disorder; Diagnosis; Diagnostic; Diagnostic tests; Disclosure; Ethnic Origin; Evidence based intervention; exome; expectation; experience; falls; Family; Future; Gender; Genetic; Genetic Counseling; Genetic screening method; Genome; genome sequencing; genome-wide; Genomics; Goals; Guidelines; Health Personnel; High Prevalence; improved; Intellectual functioning disability; Intervention; Interview; Knowledge; Laboratories; Length; Medical; Medical Technology; Microarray Analysis; Motivation; novel diagnostics; Parenting Education; Parents; Pathology; Patients; Pattern; Perception; Phenotype; Population; Prevalence; Process; Provider; Psychological Impact; psychosocial; Psychosocial Influences; Public Health; Qualitative Methods; Race; Recommendation; reproductive; Resolution; Resources; satisfaction; Scanning; Social Impacts; social stigma; Source; Stress; Stress and Coping; Structure; Subgroup; Techniques; Technology; Telephone Interviews; Test Result; Testing; theories; Time; Uncertainty; United States; Variant; Variation (Genetics); ',\n",
       "       ...,\n",
       "       'Address; Affect; Alternative Splicing; autism spectrum disorder; autistic children; Autistic Disorder; behavioral outcome; Biological Assay; Birth; Blood; Body Burden; Brain; Cell physiology; Cells; chemokine; Child; Childhood Autism Risks from Genetics and the Environment; cytokine; Data; Defect; Development; Developmental Disabilities; disorder prevention; DNA; Enrollment; Environment; Environmental Exposure; Exhibits; Exposure to; Fragile X Syndrome; FRAP1 gene; gene environment interaction; Gene Expression; Genes; Genetic Predisposition to Disease; genome wide methylation; Health; high risk; IL2RA gene; Immune; immune activation; immune function; Immune response; Immune system; Immune System and Related Disorders; Immune System Diseases; Immune Targeting; immunoregulation; Learning; male; Medical; Methylation; Molecular Analysis; monocyte; Mothers; neurodevelopment; Neurofibromatosis 1; neuron development; Neurons; Outcome; Outcomes Research; Pathway interactions; Peripheral Blood Mononuclear Cell; Plasma; polybrominated diphenyl ether; Pregnancy; Pregnancy Trimesters; Production; PTEN gene; Publishing; Regulatory T-Lymphocyte; relating to nervous system; Risk; Role; Sampling; Signal Pathway; Signal Transduction; Surrogate Mothers; synergism; System; T-Lymphocyte; Time; Toxic Environmental Substances; toxicant; Toxicant exposure; Tuberous Sclerosis; Umbilical Cord Blood; Work; ',\n",
       "       'Adult; autism spectrum disorder; Autopsy; Behavior; behavioral study; Brain; Brain Diseases; Brain region; Calcium; Calcium Signaling; Caliber; Candidate Disease Gene; career; Cell physiology; cell type; Cerebellar Cortex; Cerebellar Diseases; Cerebellum; Child; clinically relevant; Copy Number Polymorphism; Data; Data Analyses; Dendrites; Dendritic Spines; design; Development; Developmental Delay Disorders; Diagnosis; Disease; dosage; Electrophysiology (science); Elements; Evolution; Exhibits; experimental study; falls; Fiber; Functional disorder; Genes; Genetic; Glutamates; Goals; Grant; Human; Image; Immunohistochemistry; Impairment; imprint; Individual; Inherited; insight; Laboratories; Learning; Measures; Modeling; Molecular Biology Techniques; Motor; motor control; motor learning; mouse model; Mus; mutant; Neurodevelopmental Disorder; neuropsychiatric disorder; overexpression; patch clamp; Pathologic; Pathology; Patients; Phenotype; Physiological; Physiology; Problem behavior; Property; Proteins; Protocols documentation; Purkinje Cells; Regulation; repetitive behavior; Reporting; Research; Research Personnel; response; Role; Signal Transduction; skills; Social Behavior; Social Interaction; Source; Staining method; Stains; Structure of purkinje fibers; Symptoms; Synapses; synaptic pruning; Synaptic Transmission; System; Techniques; Testing; Tetanus Helper Peptide; Tissues; Training; Transgenic Organisms; transmission process; UBE3A gene; ubiquitin ligase; Vertebral column; Western Blotting; ',\n",
       "       'Address; Affect; Age; age related; Anatomy; Architecture; Area; autistic children; Autistic Disorder; Award; base; bioimaging; Biological Preservation; Biology; Brain; brain abnormalities; Brain imaging; Brain region; career; career development; Career Mobility; Child; Childhood; Childhood Neurological Disorder; Cognition; Cognitive; cognitive function; Complex; computerized data processing; Data; data acquisition; Data Set; density; design; Development; Diagnosis; Diffusion Magnetic Resonance Imaging; Disease; Doctor of Medicine; Doctor of Philosophy; Exhibits; experience; Fiber; Foundations; Functional disorder; Functional Magnetic Resonance Imaging; Goals; gray matter; Growth and Development function; Health; Human; Human Development; Impaired cognition; innovation; Knowledge; Laboratory Research; Lead; Link; Magnetic Resonance Imaging; Maps; Measures; Mentors; Mentorship; Methodology; Methods; Modeling; Morphology; MRI Scans; multimodality; Neighborhoods; nervous system disorder; network architecture; network models; Network-based; neurobehavioral; Neurobiology; neuroimaging; Neurologic; Neurologic Dysfunctions; Neuropsychology; Neurosciences; Nodal; novel; novel strategies; Organizational Models; outcome forecast; Pathway interactions; Pattern; Perception; Phenotype; Process; public health relevance; Recovery of Function; relating to nervous system; Research; Research Personnel; Rest; Signal Transduction; skills; Statistical Data Interpretation; Statistical Models; statistics; Structure; Structure-Activity Relationship; System; Techniques; tractography; Training; white matter; Work; '],\n",
       "      dtype=object)"
      ]
     },
     "execution_count": 25,
     "metadata": {},
     "output_type": "execute_result"
    }
   ],
   "source": [
    "# Identify type of research based on key words associated with project\n",
    "\n",
    "autism_projects.PROJECT_TERMS.unique()"
   ]
  },
  {
   "cell_type": "code",
   "execution_count": 26,
   "metadata": {
    "colab": {
     "base_uri": "https://localhost:8080/",
     "height": 300
    },
    "executionInfo": {
     "elapsed": 874,
     "status": "ok",
     "timestamp": 1683137424879,
     "user": {
      "displayName": "Danny Tsoi",
      "userId": "06065604599370212945"
     },
     "user_tz": 240
    },
    "id": "qKFiZL1rY5ZF",
    "outputId": "5244958a-7df9-41c9-f28e-b96b4c7f5fc5"
   },
   "outputs": [
    {
     "data": {
      "text/html": [
       "\n",
       "  <div id=\"df-09681564-f814-43f0-9b0a-f45f67573a2f\">\n",
       "    <div class=\"colab-df-container\">\n",
       "      <div>\n",
       "<style scoped>\n",
       "    .dataframe tbody tr th:only-of-type {\n",
       "        vertical-align: middle;\n",
       "    }\n",
       "\n",
       "    .dataframe tbody tr th {\n",
       "        vertical-align: top;\n",
       "    }\n",
       "\n",
       "    .dataframe thead th {\n",
       "        text-align: right;\n",
       "    }\n",
       "</style>\n",
       "<table border=\"1\" class=\"dataframe\">\n",
       "  <thead>\n",
       "    <tr style=\"text-align: right;\">\n",
       "      <th></th>\n",
       "      <th>Unnamed: 0.1</th>\n",
       "      <th>Unnamed: 0</th>\n",
       "      <th>APPLICATION_ID</th>\n",
       "      <th>APPLICATION_TYPE</th>\n",
       "      <th>CFDA_CODE</th>\n",
       "      <th>FY</th>\n",
       "      <th>ORG_DISTRICT</th>\n",
       "      <th>SERIAL_NUMBER</th>\n",
       "      <th>SUBPROJECT_ID</th>\n",
       "      <th>SUPPORT_YEAR</th>\n",
       "      <th>DIRECT_COST_AMT</th>\n",
       "      <th>INDIRECT_COST_AMT</th>\n",
       "      <th>TOTAL_COST</th>\n",
       "      <th>TOTAL_COST_SUB_PROJECT</th>\n",
       "    </tr>\n",
       "  </thead>\n",
       "  <tbody>\n",
       "    <tr>\n",
       "      <th>count</th>\n",
       "      <td>2.031000e+03</td>\n",
       "      <td>2031.000000</td>\n",
       "      <td>2.031000e+03</td>\n",
       "      <td>2027.000000</td>\n",
       "      <td>1633.000000</td>\n",
       "      <td>2031.000000</td>\n",
       "      <td>2010.000000</td>\n",
       "      <td>2027.000000</td>\n",
       "      <td>374.000000</td>\n",
       "      <td>2027.000000</td>\n",
       "      <td>1.951000e+03</td>\n",
       "      <td>1.847000e+03</td>\n",
       "      <td>1.657000e+03</td>\n",
       "      <td>3.740000e+02</td>\n",
       "    </tr>\n",
       "    <tr>\n",
       "      <th>mean</th>\n",
       "      <td>5.611771e+05</td>\n",
       "      <td>41513.250615</td>\n",
       "      <td>9.438738e+06</td>\n",
       "      <td>3.778984</td>\n",
       "      <td>414.622780</td>\n",
       "      <td>2017.504185</td>\n",
       "      <td>12.194527</td>\n",
       "      <td>87322.668969</td>\n",
       "      <td>7792.590909</td>\n",
       "      <td>3.960533</td>\n",
       "      <td>3.270441e+05</td>\n",
       "      <td>1.298125e+05</td>\n",
       "      <td>4.876957e+05</td>\n",
       "      <td>3.299815e+05</td>\n",
       "    </tr>\n",
       "    <tr>\n",
       "      <th>std</th>\n",
       "      <td>2.726706e+05</td>\n",
       "      <td>22513.927754</td>\n",
       "      <td>5.038070e+05</td>\n",
       "      <td>1.758772</td>\n",
       "      <td>288.046586</td>\n",
       "      <td>2.360149</td>\n",
       "      <td>15.151647</td>\n",
       "      <td>32090.614499</td>\n",
       "      <td>1155.524774</td>\n",
       "      <td>4.559297</td>\n",
       "      <td>4.000462e+05</td>\n",
       "      <td>1.355453e+05</td>\n",
       "      <td>6.151061e+05</td>\n",
       "      <td>2.956334e+05</td>\n",
       "    </tr>\n",
       "    <tr>\n",
       "      <th>min</th>\n",
       "      <td>4.029200e+04</td>\n",
       "      <td>48.000000</td>\n",
       "      <td>8.196763e+06</td>\n",
       "      <td>1.000000</td>\n",
       "      <td>113.000000</td>\n",
       "      <td>2012.000000</td>\n",
       "      <td>1.000000</td>\n",
       "      <td>889.000000</td>\n",
       "      <td>2.000000</td>\n",
       "      <td>1.000000</td>\n",
       "      <td>1.000000e+00</td>\n",
       "      <td>0.000000e+00</td>\n",
       "      <td>1.000000e+00</td>\n",
       "      <td>1.000000e+00</td>\n",
       "    </tr>\n",
       "    <tr>\n",
       "      <th>25%</th>\n",
       "      <td>3.397695e+05</td>\n",
       "      <td>22736.000000</td>\n",
       "      <td>9.158850e+06</td>\n",
       "      <td>1.000000</td>\n",
       "      <td>242.000000</td>\n",
       "      <td>2016.000000</td>\n",
       "      <td>3.000000</td>\n",
       "      <td>80096.000000</td>\n",
       "      <td>7871.000000</td>\n",
       "      <td>2.000000</td>\n",
       "      <td>1.407360e+05</td>\n",
       "      <td>5.800000e+04</td>\n",
       "      <td>1.956250e+05</td>\n",
       "      <td>1.636740e+05</td>\n",
       "    </tr>\n",
       "    <tr>\n",
       "      <th>50%</th>\n",
       "      <td>5.820130e+05</td>\n",
       "      <td>43041.000000</td>\n",
       "      <td>9.505947e+06</td>\n",
       "      <td>5.000000</td>\n",
       "      <td>242.000000</td>\n",
       "      <td>2018.000000</td>\n",
       "      <td>7.000000</td>\n",
       "      <td>96967.000000</td>\n",
       "      <td>8270.000000</td>\n",
       "      <td>3.000000</td>\n",
       "      <td>2.400000e+05</td>\n",
       "      <td>1.042500e+05</td>\n",
       "      <td>3.888570e+05</td>\n",
       "      <td>2.742885e+05</td>\n",
       "    </tr>\n",
       "    <tr>\n",
       "      <th>75%</th>\n",
       "      <td>7.939620e+05</td>\n",
       "      <td>62173.500000</td>\n",
       "      <td>9.779497e+06</td>\n",
       "      <td>5.000000</td>\n",
       "      <td>853.000000</td>\n",
       "      <td>2019.000000</td>\n",
       "      <td>13.000000</td>\n",
       "      <td>110593.500000</td>\n",
       "      <td>8489.000000</td>\n",
       "      <td>4.000000</td>\n",
       "      <td>3.830025e+05</td>\n",
       "      <td>1.746170e+05</td>\n",
       "      <td>5.855300e+05</td>\n",
       "      <td>4.170950e+05</td>\n",
       "    </tr>\n",
       "    <tr>\n",
       "      <th>max</th>\n",
       "      <td>1.009685e+06</td>\n",
       "      <td>82171.000000</td>\n",
       "      <td>1.048910e+07</td>\n",
       "      <td>7.000000</td>\n",
       "      <td>879.000000</td>\n",
       "      <td>2021.000000</td>\n",
       "      <td>98.000000</td>\n",
       "      <td>143552.000000</td>\n",
       "      <td>8880.000000</td>\n",
       "      <td>49.000000</td>\n",
       "      <td>3.467602e+06</td>\n",
       "      <td>1.965264e+06</td>\n",
       "      <td>1.142271e+07</td>\n",
       "      <td>2.864255e+06</td>\n",
       "    </tr>\n",
       "  </tbody>\n",
       "</table>\n",
       "</div>\n",
       "      <button class=\"colab-df-convert\" onclick=\"convertToInteractive('df-09681564-f814-43f0-9b0a-f45f67573a2f')\"\n",
       "              title=\"Convert this dataframe to an interactive table.\"\n",
       "              style=\"display:none;\">\n",
       "        \n",
       "  <svg xmlns=\"http://www.w3.org/2000/svg\" height=\"24px\"viewBox=\"0 0 24 24\"\n",
       "       width=\"24px\">\n",
       "    <path d=\"M0 0h24v24H0V0z\" fill=\"none\"/>\n",
       "    <path d=\"M18.56 5.44l.94 2.06.94-2.06 2.06-.94-2.06-.94-.94-2.06-.94 2.06-2.06.94zm-11 1L8.5 8.5l.94-2.06 2.06-.94-2.06-.94L8.5 2.5l-.94 2.06-2.06.94zm10 10l.94 2.06.94-2.06 2.06-.94-2.06-.94-.94-2.06-.94 2.06-2.06.94z\"/><path d=\"M17.41 7.96l-1.37-1.37c-.4-.4-.92-.59-1.43-.59-.52 0-1.04.2-1.43.59L10.3 9.45l-7.72 7.72c-.78.78-.78 2.05 0 2.83L4 21.41c.39.39.9.59 1.41.59.51 0 1.02-.2 1.41-.59l7.78-7.78 2.81-2.81c.8-.78.8-2.07 0-2.86zM5.41 20L4 18.59l7.72-7.72 1.47 1.35L5.41 20z\"/>\n",
       "  </svg>\n",
       "      </button>\n",
       "      \n",
       "  <style>\n",
       "    .colab-df-container {\n",
       "      display:flex;\n",
       "      flex-wrap:wrap;\n",
       "      gap: 12px;\n",
       "    }\n",
       "\n",
       "    .colab-df-convert {\n",
       "      background-color: #E8F0FE;\n",
       "      border: none;\n",
       "      border-radius: 50%;\n",
       "      cursor: pointer;\n",
       "      display: none;\n",
       "      fill: #1967D2;\n",
       "      height: 32px;\n",
       "      padding: 0 0 0 0;\n",
       "      width: 32px;\n",
       "    }\n",
       "\n",
       "    .colab-df-convert:hover {\n",
       "      background-color: #E2EBFA;\n",
       "      box-shadow: 0px 1px 2px rgba(60, 64, 67, 0.3), 0px 1px 3px 1px rgba(60, 64, 67, 0.15);\n",
       "      fill: #174EA6;\n",
       "    }\n",
       "\n",
       "    [theme=dark] .colab-df-convert {\n",
       "      background-color: #3B4455;\n",
       "      fill: #D2E3FC;\n",
       "    }\n",
       "\n",
       "    [theme=dark] .colab-df-convert:hover {\n",
       "      background-color: #434B5C;\n",
       "      box-shadow: 0px 1px 3px 1px rgba(0, 0, 0, 0.15);\n",
       "      filter: drop-shadow(0px 1px 2px rgba(0, 0, 0, 0.3));\n",
       "      fill: #FFFFFF;\n",
       "    }\n",
       "  </style>\n",
       "\n",
       "      <script>\n",
       "        const buttonEl =\n",
       "          document.querySelector('#df-09681564-f814-43f0-9b0a-f45f67573a2f button.colab-df-convert');\n",
       "        buttonEl.style.display =\n",
       "          google.colab.kernel.accessAllowed ? 'block' : 'none';\n",
       "\n",
       "        async function convertToInteractive(key) {\n",
       "          const element = document.querySelector('#df-09681564-f814-43f0-9b0a-f45f67573a2f');\n",
       "          const dataTable =\n",
       "            await google.colab.kernel.invokeFunction('convertToInteractive',\n",
       "                                                     [key], {});\n",
       "          if (!dataTable) return;\n",
       "\n",
       "          const docLinkHtml = 'Like what you see? Visit the ' +\n",
       "            '<a target=\"_blank\" href=https://colab.research.google.com/notebooks/data_table.ipynb>data table notebook</a>'\n",
       "            + ' to learn more about interactive tables.';\n",
       "          element.innerHTML = '';\n",
       "          dataTable['output_type'] = 'display_data';\n",
       "          await google.colab.output.renderOutput(dataTable, element);\n",
       "          const docLink = document.createElement('div');\n",
       "          docLink.innerHTML = docLinkHtml;\n",
       "          element.appendChild(docLink);\n",
       "        }\n",
       "      </script>\n",
       "    </div>\n",
       "  </div>\n",
       "  "
      ],
      "text/plain": [
       "       Unnamed: 0.1    Unnamed: 0  APPLICATION_ID  APPLICATION_TYPE  \\\n",
       "count  2.031000e+03   2031.000000    2.031000e+03       2027.000000   \n",
       "mean   5.611771e+05  41513.250615    9.438738e+06          3.778984   \n",
       "std    2.726706e+05  22513.927754    5.038070e+05          1.758772   \n",
       "min    4.029200e+04     48.000000    8.196763e+06          1.000000   \n",
       "25%    3.397695e+05  22736.000000    9.158850e+06          1.000000   \n",
       "50%    5.820130e+05  43041.000000    9.505947e+06          5.000000   \n",
       "75%    7.939620e+05  62173.500000    9.779497e+06          5.000000   \n",
       "max    1.009685e+06  82171.000000    1.048910e+07          7.000000   \n",
       "\n",
       "         CFDA_CODE           FY  ORG_DISTRICT  SERIAL_NUMBER  SUBPROJECT_ID  \\\n",
       "count  1633.000000  2031.000000   2010.000000    2027.000000     374.000000   \n",
       "mean    414.622780  2017.504185     12.194527   87322.668969    7792.590909   \n",
       "std     288.046586     2.360149     15.151647   32090.614499    1155.524774   \n",
       "min     113.000000  2012.000000      1.000000     889.000000       2.000000   \n",
       "25%     242.000000  2016.000000      3.000000   80096.000000    7871.000000   \n",
       "50%     242.000000  2018.000000      7.000000   96967.000000    8270.000000   \n",
       "75%     853.000000  2019.000000     13.000000  110593.500000    8489.000000   \n",
       "max     879.000000  2021.000000     98.000000  143552.000000    8880.000000   \n",
       "\n",
       "       SUPPORT_YEAR  DIRECT_COST_AMT  INDIRECT_COST_AMT    TOTAL_COST  \\\n",
       "count   2027.000000     1.951000e+03       1.847000e+03  1.657000e+03   \n",
       "mean       3.960533     3.270441e+05       1.298125e+05  4.876957e+05   \n",
       "std        4.559297     4.000462e+05       1.355453e+05  6.151061e+05   \n",
       "min        1.000000     1.000000e+00       0.000000e+00  1.000000e+00   \n",
       "25%        2.000000     1.407360e+05       5.800000e+04  1.956250e+05   \n",
       "50%        3.000000     2.400000e+05       1.042500e+05  3.888570e+05   \n",
       "75%        4.000000     3.830025e+05       1.746170e+05  5.855300e+05   \n",
       "max       49.000000     3.467602e+06       1.965264e+06  1.142271e+07   \n",
       "\n",
       "       TOTAL_COST_SUB_PROJECT  \n",
       "count            3.740000e+02  \n",
       "mean             3.299815e+05  \n",
       "std              2.956334e+05  \n",
       "min              1.000000e+00  \n",
       "25%              1.636740e+05  \n",
       "50%              2.742885e+05  \n",
       "75%              4.170950e+05  \n",
       "max              2.864255e+06  "
      ]
     },
     "execution_count": 26,
     "metadata": {},
     "output_type": "execute_result"
    }
   ],
   "source": [
    "# Subsetting out based on project terms\n",
    "\n",
    "p_d = autism_projects[autism_projects['PROJECT_TERMS'].str.contains('treatment|prevention|lifespan', na = False)]\n",
    "p_d.describe()"
   ]
  },
  {
   "cell_type": "code",
   "execution_count": 27,
   "metadata": {
    "colab": {
     "base_uri": "https://localhost:8080/"
    },
    "executionInfo": {
     "elapsed": 33,
     "status": "ok",
     "timestamp": 1683137424880,
     "user": {
      "displayName": "Danny Tsoi",
      "userId": "06065604599370212945"
     },
     "user_tz": 240
    },
    "id": "2zhx-ik3cW_p",
    "outputId": "5e005e0e-4660-4f07-b016-5ebb5033ca95"
   },
   "outputs": [
    {
     "data": {
      "text/plain": [
       "374"
      ]
     },
     "execution_count": 27,
     "metadata": {},
     "output_type": "execute_result"
    }
   ],
   "source": [
    "# Identifying missing values\n",
    "\n",
    "p_d['TOTAL_COST'].isna().sum()"
   ]
  },
  {
   "cell_type": "code",
   "execution_count": 28,
   "metadata": {
    "colab": {
     "base_uri": "https://localhost:8080/"
    },
    "executionInfo": {
     "elapsed": 29,
     "status": "ok",
     "timestamp": 1683137424880,
     "user": {
      "displayName": "Danny Tsoi",
      "userId": "06065604599370212945"
     },
     "user_tz": 240
    },
    "id": "MzNJ52B87iWS",
    "outputId": "b076e305-3b4e-47c8-b2b8-746bd40d5e73"
   },
   "outputs": [
    {
     "data": {
      "text/plain": [
       "1657"
      ]
     },
     "execution_count": 28,
     "metadata": {},
     "output_type": "execute_result"
    }
   ],
   "source": [
    "p_d['TOTAL_COST_SUB_PROJECT'].isna().sum()"
   ]
  },
  {
   "cell_type": "code",
   "execution_count": 29,
   "metadata": {
    "colab": {
     "base_uri": "https://localhost:8080/"
    },
    "executionInfo": {
     "elapsed": 27,
     "status": "ok",
     "timestamp": 1683137424880,
     "user": {
      "displayName": "Danny Tsoi",
      "userId": "06065604599370212945"
     },
     "user_tz": 240
    },
    "id": "HbGyP2x2cekC",
    "outputId": "62a4e500-fd10-4ed9-d5d2-973f3636d9af"
   },
   "outputs": [
    {
     "data": {
      "text/plain": [
       "FY\n",
       "2012     82\n",
       "2013     73\n",
       "2014     90\n",
       "2015    107\n",
       "2016    129\n",
       "2017    156\n",
       "2018    174\n",
       "2019    160\n",
       "2020    176\n",
       "2021    171\n",
       "Name: PI_NAMEs, dtype: int64"
      ]
     },
     "execution_count": 29,
     "metadata": {},
     "output_type": "execute_result"
    }
   ],
   "source": [
    "# Identify general number of PIs\n",
    "\n",
    "p_d.groupby(\"FY\")[\"PI_NAMEs\"].nunique()"
   ]
  },
  {
   "cell_type": "code",
   "execution_count": 30,
   "metadata": {
    "colab": {
     "base_uri": "https://localhost:8080/"
    },
    "executionInfo": {
     "elapsed": 24,
     "status": "ok",
     "timestamp": 1683137424880,
     "user": {
      "displayName": "Danny Tsoi",
      "userId": "06065604599370212945"
     },
     "user_tz": 240
    },
    "id": "soYY6cn2o8bN",
    "outputId": "5bbbb710-287b-48cf-ddf2-1f776d130742"
   },
   "outputs": [
    {
     "data": {
      "text/plain": [
       "<bound method IndexOpsMixin.value_counts of Unnamed: 0.1                int64\n",
       "Unnamed: 0                  int64\n",
       "APPLICATION_ID              int64\n",
       "ACTIVITY                   object\n",
       "ADMINISTERING_IC           object\n",
       "APPLICATION_TYPE          float64\n",
       "ARRA_FUNDED                object\n",
       "AWARD_NOTICE_DATE          object\n",
       "BUDGET_START               object\n",
       "BUDGET_END                 object\n",
       "CFDA_CODE                 float64\n",
       "CORE_PROJECT_NUM           object\n",
       "ED_INST_TYPE               object\n",
       "FOA_NUMBER                 object\n",
       "FULL_PROJECT_NUM           object\n",
       "FUNDING_MECHANISM          object\n",
       "FY                          int64\n",
       "IC_NAME                    object\n",
       "NIH_SPENDING_CATS          object\n",
       "ORG_CITY                   object\n",
       "ORG_COUNTRY                object\n",
       "ORG_DEPT                   object\n",
       "ORG_DISTRICT              float64\n",
       "ORG_DUNS                   object\n",
       "ORG_FIPS                   object\n",
       "ORG_NAME                   object\n",
       "ORG_STATE                  object\n",
       "ORG_ZIPCODE                object\n",
       "PHR                        object\n",
       "PI_IDS                     object\n",
       "PI_NAMEs                   object\n",
       "PROGRAM_OFFICER_NAME       object\n",
       "PROJECT_START              object\n",
       "PROJECT_END                object\n",
       "PROJECT_TERMS              object\n",
       "PROJECT_TITLE              object\n",
       "SERIAL_NUMBER             float64\n",
       "STUDY_SECTION              object\n",
       "STUDY_SECTION_NAME         object\n",
       "SUBPROJECT_ID             float64\n",
       "SUFFIX                     object\n",
       "SUPPORT_YEAR              float64\n",
       "DIRECT_COST_AMT           float64\n",
       "INDIRECT_COST_AMT         float64\n",
       "TOTAL_COST                float64\n",
       "TOTAL_COST_SUB_PROJECT    float64\n",
       "dtype: object>"
      ]
     },
     "execution_count": 30,
     "metadata": {},
     "output_type": "execute_result"
    }
   ],
   "source": [
    "autism_projects.dtypes.value_counts"
   ]
  },
  {
   "cell_type": "code",
   "execution_count": 31,
   "metadata": {
    "colab": {
     "base_uri": "https://localhost:8080/",
     "height": 363
    },
    "executionInfo": {
     "elapsed": 22,
     "status": "ok",
     "timestamp": 1683137424880,
     "user": {
      "displayName": "Danny Tsoi",
      "userId": "06065604599370212945"
     },
     "user_tz": 240
    },
    "id": "DI5XnMdlFFM7",
    "outputId": "1c4bab27-bf97-41c2-9942-74b439f7cf5a"
   },
   "outputs": [
    {
     "data": {
      "text/html": [
       "\n",
       "  <div id=\"df-d0f51589-d5f2-4820-b0ec-61bb81428957\">\n",
       "    <div class=\"colab-df-container\">\n",
       "      <div>\n",
       "<style scoped>\n",
       "    .dataframe tbody tr th:only-of-type {\n",
       "        vertical-align: middle;\n",
       "    }\n",
       "\n",
       "    .dataframe tbody tr th {\n",
       "        vertical-align: top;\n",
       "    }\n",
       "\n",
       "    .dataframe thead th {\n",
       "        text-align: right;\n",
       "    }\n",
       "</style>\n",
       "<table border=\"1\" class=\"dataframe\">\n",
       "  <thead>\n",
       "    <tr style=\"text-align: right;\">\n",
       "      <th></th>\n",
       "      <th>FY</th>\n",
       "      <th>Autism_Core_Projects</th>\n",
       "    </tr>\n",
       "  </thead>\n",
       "  <tbody>\n",
       "    <tr>\n",
       "      <th>0</th>\n",
       "      <td>2012</td>\n",
       "      <td>83</td>\n",
       "    </tr>\n",
       "    <tr>\n",
       "      <th>1</th>\n",
       "      <td>2013</td>\n",
       "      <td>66</td>\n",
       "    </tr>\n",
       "    <tr>\n",
       "      <th>2</th>\n",
       "      <td>2014</td>\n",
       "      <td>88</td>\n",
       "    </tr>\n",
       "    <tr>\n",
       "      <th>3</th>\n",
       "      <td>2015</td>\n",
       "      <td>103</td>\n",
       "    </tr>\n",
       "    <tr>\n",
       "      <th>4</th>\n",
       "      <td>2016</td>\n",
       "      <td>125</td>\n",
       "    </tr>\n",
       "    <tr>\n",
       "      <th>5</th>\n",
       "      <td>2017</td>\n",
       "      <td>140</td>\n",
       "    </tr>\n",
       "    <tr>\n",
       "      <th>6</th>\n",
       "      <td>2018</td>\n",
       "      <td>160</td>\n",
       "    </tr>\n",
       "    <tr>\n",
       "      <th>7</th>\n",
       "      <td>2019</td>\n",
       "      <td>153</td>\n",
       "    </tr>\n",
       "    <tr>\n",
       "      <th>8</th>\n",
       "      <td>2020</td>\n",
       "      <td>171</td>\n",
       "    </tr>\n",
       "    <tr>\n",
       "      <th>9</th>\n",
       "      <td>2021</td>\n",
       "      <td>164</td>\n",
       "    </tr>\n",
       "  </tbody>\n",
       "</table>\n",
       "</div>\n",
       "      <button class=\"colab-df-convert\" onclick=\"convertToInteractive('df-d0f51589-d5f2-4820-b0ec-61bb81428957')\"\n",
       "              title=\"Convert this dataframe to an interactive table.\"\n",
       "              style=\"display:none;\">\n",
       "        \n",
       "  <svg xmlns=\"http://www.w3.org/2000/svg\" height=\"24px\"viewBox=\"0 0 24 24\"\n",
       "       width=\"24px\">\n",
       "    <path d=\"M0 0h24v24H0V0z\" fill=\"none\"/>\n",
       "    <path d=\"M18.56 5.44l.94 2.06.94-2.06 2.06-.94-2.06-.94-.94-2.06-.94 2.06-2.06.94zm-11 1L8.5 8.5l.94-2.06 2.06-.94-2.06-.94L8.5 2.5l-.94 2.06-2.06.94zm10 10l.94 2.06.94-2.06 2.06-.94-2.06-.94-.94-2.06-.94 2.06-2.06.94z\"/><path d=\"M17.41 7.96l-1.37-1.37c-.4-.4-.92-.59-1.43-.59-.52 0-1.04.2-1.43.59L10.3 9.45l-7.72 7.72c-.78.78-.78 2.05 0 2.83L4 21.41c.39.39.9.59 1.41.59.51 0 1.02-.2 1.41-.59l7.78-7.78 2.81-2.81c.8-.78.8-2.07 0-2.86zM5.41 20L4 18.59l7.72-7.72 1.47 1.35L5.41 20z\"/>\n",
       "  </svg>\n",
       "      </button>\n",
       "      \n",
       "  <style>\n",
       "    .colab-df-container {\n",
       "      display:flex;\n",
       "      flex-wrap:wrap;\n",
       "      gap: 12px;\n",
       "    }\n",
       "\n",
       "    .colab-df-convert {\n",
       "      background-color: #E8F0FE;\n",
       "      border: none;\n",
       "      border-radius: 50%;\n",
       "      cursor: pointer;\n",
       "      display: none;\n",
       "      fill: #1967D2;\n",
       "      height: 32px;\n",
       "      padding: 0 0 0 0;\n",
       "      width: 32px;\n",
       "    }\n",
       "\n",
       "    .colab-df-convert:hover {\n",
       "      background-color: #E2EBFA;\n",
       "      box-shadow: 0px 1px 2px rgba(60, 64, 67, 0.3), 0px 1px 3px 1px rgba(60, 64, 67, 0.15);\n",
       "      fill: #174EA6;\n",
       "    }\n",
       "\n",
       "    [theme=dark] .colab-df-convert {\n",
       "      background-color: #3B4455;\n",
       "      fill: #D2E3FC;\n",
       "    }\n",
       "\n",
       "    [theme=dark] .colab-df-convert:hover {\n",
       "      background-color: #434B5C;\n",
       "      box-shadow: 0px 1px 3px 1px rgba(0, 0, 0, 0.15);\n",
       "      filter: drop-shadow(0px 1px 2px rgba(0, 0, 0, 0.3));\n",
       "      fill: #FFFFFF;\n",
       "    }\n",
       "  </style>\n",
       "\n",
       "      <script>\n",
       "        const buttonEl =\n",
       "          document.querySelector('#df-d0f51589-d5f2-4820-b0ec-61bb81428957 button.colab-df-convert');\n",
       "        buttonEl.style.display =\n",
       "          google.colab.kernel.accessAllowed ? 'block' : 'none';\n",
       "\n",
       "        async function convertToInteractive(key) {\n",
       "          const element = document.querySelector('#df-d0f51589-d5f2-4820-b0ec-61bb81428957');\n",
       "          const dataTable =\n",
       "            await google.colab.kernel.invokeFunction('convertToInteractive',\n",
       "                                                     [key], {});\n",
       "          if (!dataTable) return;\n",
       "\n",
       "          const docLinkHtml = 'Like what you see? Visit the ' +\n",
       "            '<a target=\"_blank\" href=https://colab.research.google.com/notebooks/data_table.ipynb>data table notebook</a>'\n",
       "            + ' to learn more about interactive tables.';\n",
       "          element.innerHTML = '';\n",
       "          dataTable['output_type'] = 'display_data';\n",
       "          await google.colab.output.renderOutput(dataTable, element);\n",
       "          const docLink = document.createElement('div');\n",
       "          docLink.innerHTML = docLinkHtml;\n",
       "          element.appendChild(docLink);\n",
       "        }\n",
       "      </script>\n",
       "    </div>\n",
       "  </div>\n",
       "  "
      ],
      "text/plain": [
       "     FY  Autism_Core_Projects\n",
       "0  2012                    83\n",
       "1  2013                    66\n",
       "2  2014                    88\n",
       "3  2015                   103\n",
       "4  2016                   125\n",
       "5  2017                   140\n",
       "6  2018                   160\n",
       "7  2019                   153\n",
       "8  2020                   171\n",
       "9  2021                   164"
      ]
     },
     "execution_count": 31,
     "metadata": {},
     "output_type": "execute_result"
    }
   ],
   "source": [
    "# calculate how many Autism Core Projects each fiscal year\n",
    "Autism_Annual = p_d.groupby(['FY'])['CORE_PROJECT_NUM'].nunique()\n",
    "\n",
    "# Convert into a dataframe and reset index\n",
    "Autism_Annual = Autism_Annual.to_frame().reset_index()\n",
    "\n",
    "# Rename CORE_PROJECT_NUM to Autism_Core_Projects\n",
    "Autism_Annual.rename(columns={'CORE_PROJECT_NUM':'Autism_Core_Projects'}, inplace = True)\n",
    "\n",
    "Autism_Annual"
   ]
  },
  {
   "cell_type": "code",
   "execution_count": 32,
   "metadata": {
    "colab": {
     "base_uri": "https://localhost:8080/",
     "height": 363
    },
    "executionInfo": {
     "elapsed": 21,
     "status": "ok",
     "timestamp": 1683137424880,
     "user": {
      "displayName": "Danny Tsoi",
      "userId": "06065604599370212945"
     },
     "user_tz": 240
    },
    "id": "n1OCw7mZK7Zf",
    "outputId": "98eb0f6c-4d8b-43b9-e319-418d5330096c"
   },
   "outputs": [
    {
     "data": {
      "text/html": [
       "\n",
       "  <div id=\"df-2f067321-5fca-4c12-9169-66054bbedf08\">\n",
       "    <div class=\"colab-df-container\">\n",
       "      <div>\n",
       "<style scoped>\n",
       "    .dataframe tbody tr th:only-of-type {\n",
       "        vertical-align: middle;\n",
       "    }\n",
       "\n",
       "    .dataframe tbody tr th {\n",
       "        vertical-align: top;\n",
       "    }\n",
       "\n",
       "    .dataframe thead th {\n",
       "        text-align: right;\n",
       "    }\n",
       "</style>\n",
       "<table border=\"1\" class=\"dataframe\">\n",
       "  <thead>\n",
       "    <tr style=\"text-align: right;\">\n",
       "      <th></th>\n",
       "      <th>FY</th>\n",
       "      <th>PI_IDS</th>\n",
       "    </tr>\n",
       "  </thead>\n",
       "  <tbody>\n",
       "    <tr>\n",
       "      <th>0</th>\n",
       "      <td>2012</td>\n",
       "      <td>82</td>\n",
       "    </tr>\n",
       "    <tr>\n",
       "      <th>1</th>\n",
       "      <td>2013</td>\n",
       "      <td>73</td>\n",
       "    </tr>\n",
       "    <tr>\n",
       "      <th>2</th>\n",
       "      <td>2014</td>\n",
       "      <td>90</td>\n",
       "    </tr>\n",
       "    <tr>\n",
       "      <th>3</th>\n",
       "      <td>2015</td>\n",
       "      <td>107</td>\n",
       "    </tr>\n",
       "    <tr>\n",
       "      <th>4</th>\n",
       "      <td>2016</td>\n",
       "      <td>129</td>\n",
       "    </tr>\n",
       "    <tr>\n",
       "      <th>5</th>\n",
       "      <td>2017</td>\n",
       "      <td>156</td>\n",
       "    </tr>\n",
       "    <tr>\n",
       "      <th>6</th>\n",
       "      <td>2018</td>\n",
       "      <td>174</td>\n",
       "    </tr>\n",
       "    <tr>\n",
       "      <th>7</th>\n",
       "      <td>2019</td>\n",
       "      <td>160</td>\n",
       "    </tr>\n",
       "    <tr>\n",
       "      <th>8</th>\n",
       "      <td>2020</td>\n",
       "      <td>176</td>\n",
       "    </tr>\n",
       "    <tr>\n",
       "      <th>9</th>\n",
       "      <td>2021</td>\n",
       "      <td>171</td>\n",
       "    </tr>\n",
       "  </tbody>\n",
       "</table>\n",
       "</div>\n",
       "      <button class=\"colab-df-convert\" onclick=\"convertToInteractive('df-2f067321-5fca-4c12-9169-66054bbedf08')\"\n",
       "              title=\"Convert this dataframe to an interactive table.\"\n",
       "              style=\"display:none;\">\n",
       "        \n",
       "  <svg xmlns=\"http://www.w3.org/2000/svg\" height=\"24px\"viewBox=\"0 0 24 24\"\n",
       "       width=\"24px\">\n",
       "    <path d=\"M0 0h24v24H0V0z\" fill=\"none\"/>\n",
       "    <path d=\"M18.56 5.44l.94 2.06.94-2.06 2.06-.94-2.06-.94-.94-2.06-.94 2.06-2.06.94zm-11 1L8.5 8.5l.94-2.06 2.06-.94-2.06-.94L8.5 2.5l-.94 2.06-2.06.94zm10 10l.94 2.06.94-2.06 2.06-.94-2.06-.94-.94-2.06-.94 2.06-2.06.94z\"/><path d=\"M17.41 7.96l-1.37-1.37c-.4-.4-.92-.59-1.43-.59-.52 0-1.04.2-1.43.59L10.3 9.45l-7.72 7.72c-.78.78-.78 2.05 0 2.83L4 21.41c.39.39.9.59 1.41.59.51 0 1.02-.2 1.41-.59l7.78-7.78 2.81-2.81c.8-.78.8-2.07 0-2.86zM5.41 20L4 18.59l7.72-7.72 1.47 1.35L5.41 20z\"/>\n",
       "  </svg>\n",
       "      </button>\n",
       "      \n",
       "  <style>\n",
       "    .colab-df-container {\n",
       "      display:flex;\n",
       "      flex-wrap:wrap;\n",
       "      gap: 12px;\n",
       "    }\n",
       "\n",
       "    .colab-df-convert {\n",
       "      background-color: #E8F0FE;\n",
       "      border: none;\n",
       "      border-radius: 50%;\n",
       "      cursor: pointer;\n",
       "      display: none;\n",
       "      fill: #1967D2;\n",
       "      height: 32px;\n",
       "      padding: 0 0 0 0;\n",
       "      width: 32px;\n",
       "    }\n",
       "\n",
       "    .colab-df-convert:hover {\n",
       "      background-color: #E2EBFA;\n",
       "      box-shadow: 0px 1px 2px rgba(60, 64, 67, 0.3), 0px 1px 3px 1px rgba(60, 64, 67, 0.15);\n",
       "      fill: #174EA6;\n",
       "    }\n",
       "\n",
       "    [theme=dark] .colab-df-convert {\n",
       "      background-color: #3B4455;\n",
       "      fill: #D2E3FC;\n",
       "    }\n",
       "\n",
       "    [theme=dark] .colab-df-convert:hover {\n",
       "      background-color: #434B5C;\n",
       "      box-shadow: 0px 1px 3px 1px rgba(0, 0, 0, 0.15);\n",
       "      filter: drop-shadow(0px 1px 2px rgba(0, 0, 0, 0.3));\n",
       "      fill: #FFFFFF;\n",
       "    }\n",
       "  </style>\n",
       "\n",
       "      <script>\n",
       "        const buttonEl =\n",
       "          document.querySelector('#df-2f067321-5fca-4c12-9169-66054bbedf08 button.colab-df-convert');\n",
       "        buttonEl.style.display =\n",
       "          google.colab.kernel.accessAllowed ? 'block' : 'none';\n",
       "\n",
       "        async function convertToInteractive(key) {\n",
       "          const element = document.querySelector('#df-2f067321-5fca-4c12-9169-66054bbedf08');\n",
       "          const dataTable =\n",
       "            await google.colab.kernel.invokeFunction('convertToInteractive',\n",
       "                                                     [key], {});\n",
       "          if (!dataTable) return;\n",
       "\n",
       "          const docLinkHtml = 'Like what you see? Visit the ' +\n",
       "            '<a target=\"_blank\" href=https://colab.research.google.com/notebooks/data_table.ipynb>data table notebook</a>'\n",
       "            + ' to learn more about interactive tables.';\n",
       "          element.innerHTML = '';\n",
       "          dataTable['output_type'] = 'display_data';\n",
       "          await google.colab.output.renderOutput(dataTable, element);\n",
       "          const docLink = document.createElement('div');\n",
       "          docLink.innerHTML = docLinkHtml;\n",
       "          element.appendChild(docLink);\n",
       "        }\n",
       "      </script>\n",
       "    </div>\n",
       "  </div>\n",
       "  "
      ],
      "text/plain": [
       "     FY  PI_IDS\n",
       "0  2012      82\n",
       "1  2013      73\n",
       "2  2014      90\n",
       "3  2015     107\n",
       "4  2016     129\n",
       "5  2017     156\n",
       "6  2018     174\n",
       "7  2019     160\n",
       "8  2020     176\n",
       "9  2021     171"
      ]
     },
     "execution_count": 32,
     "metadata": {},
     "output_type": "execute_result"
    }
   ],
   "source": [
    "# calculate how many unique PIS for Autism Projects each fiscal year\n",
    "Autism_Annual = p_d.groupby(['FY'])['PI_IDS'].nunique().reset_index()\n",
    "Autism_Annual"
   ]
  },
  {
   "cell_type": "code",
   "execution_count": 33,
   "metadata": {
    "colab": {
     "base_uri": "https://localhost:8080/",
     "height": 567
    },
    "executionInfo": {
     "elapsed": 21,
     "status": "ok",
     "timestamp": 1683137424881,
     "user": {
      "displayName": "Danny Tsoi",
      "userId": "06065604599370212945"
     },
     "user_tz": 240
    },
    "id": "jyDRtjCTDH0k",
    "outputId": "54b2d128-819d-41be-c6d1-b45be2f7b96f"
   },
   "outputs": [
    {
     "data": {
      "text/plain": [
       "<seaborn.axisgrid.FacetGrid at 0x7fcba95f5390>"
      ]
     },
     "execution_count": 33,
     "metadata": {},
     "output_type": "execute_result"
    },
    {
     "data": {
      "image/png": "[encoded data removed]",
      "text/plain": [
       "<Figure size 500x500 with 1 Axes>"
      ]
     },
     "metadata": {},
     "output_type": "display_data"
    }
   ],
   "source": [
    "# Barplot for each FY\n",
    "\n",
    "yearly_projects = sns.catplot(data=Autism_Annual, x=\"FY\", y=\"PI_IDS\", kind=\"bar\", color=\"blue\")\n",
    "\n",
    "# Rotate label\n",
    "plt.xticks(rotation=90, ha='right')\n",
    "\n",
    "# Change the x-axis label\n",
    "yearly_projects.set(xlabel =\"Fiscal Year\", \n",
    "# Change the y-axis label\n",
    "                    ylabel = \"Number of Unique PIs\",\n",
    "# Change the title\n",
    "                    title = \"Number of Autism Projects Has Been Increasing Since 2012\")\n"
   ]
  },
  {
   "cell_type": "code",
   "execution_count": 34,
   "metadata": {
    "colab": {
     "base_uri": "https://localhost:8080/",
     "height": 300
    },
    "executionInfo": {
     "elapsed": 18,
     "status": "ok",
     "timestamp": 1683137424881,
     "user": {
      "displayName": "Danny Tsoi",
      "userId": "06065604599370212945"
     },
     "user_tz": 240
    },
    "id": "8l8YMZuHEqP-",
    "outputId": "238f2180-7176-4a25-98e7-2fc9c78f96d6"
   },
   "outputs": [
    {
     "data": {
      "text/html": [
       "\n",
       "  <div id=\"df-7e4183bc-bf7f-4d7a-b09b-c26feb04b096\">\n",
       "    <div class=\"colab-df-container\">\n",
       "      <div>\n",
       "<style scoped>\n",
       "    .dataframe tbody tr th:only-of-type {\n",
       "        vertical-align: middle;\n",
       "    }\n",
       "\n",
       "    .dataframe tbody tr th {\n",
       "        vertical-align: top;\n",
       "    }\n",
       "\n",
       "    .dataframe thead th {\n",
       "        text-align: right;\n",
       "    }\n",
       "</style>\n",
       "<table border=\"1\" class=\"dataframe\">\n",
       "  <thead>\n",
       "    <tr style=\"text-align: right;\">\n",
       "      <th></th>\n",
       "      <th>Unnamed: 0.1</th>\n",
       "      <th>Unnamed: 0</th>\n",
       "      <th>APPLICATION_ID</th>\n",
       "      <th>APPLICATION_TYPE</th>\n",
       "      <th>CFDA_CODE</th>\n",
       "      <th>FY</th>\n",
       "      <th>ORG_DISTRICT</th>\n",
       "      <th>SERIAL_NUMBER</th>\n",
       "      <th>SUBPROJECT_ID</th>\n",
       "      <th>SUPPORT_YEAR</th>\n",
       "      <th>DIRECT_COST_AMT</th>\n",
       "      <th>INDIRECT_COST_AMT</th>\n",
       "      <th>TOTAL_COST</th>\n",
       "      <th>TOTAL_COST_SUB_PROJECT</th>\n",
       "    </tr>\n",
       "  </thead>\n",
       "  <tbody>\n",
       "    <tr>\n",
       "      <th>count</th>\n",
       "      <td>7.274000e+03</td>\n",
       "      <td>7274.000000</td>\n",
       "      <td>7.274000e+03</td>\n",
       "      <td>7240.000000</td>\n",
       "      <td>6192.000000</td>\n",
       "      <td>7274.000000</td>\n",
       "      <td>7096.000000</td>\n",
       "      <td>7240.000000</td>\n",
       "      <td>911.000000</td>\n",
       "      <td>7240.000000</td>\n",
       "      <td>6.900000e+03</td>\n",
       "      <td>6.337000e+03</td>\n",
       "      <td>6.363000e+03</td>\n",
       "      <td>9.110000e+02</td>\n",
       "    </tr>\n",
       "    <tr>\n",
       "      <th>mean</th>\n",
       "      <td>5.317092e+05</td>\n",
       "      <td>41482.817569</td>\n",
       "      <td>9.367368e+06</td>\n",
       "      <td>3.745166</td>\n",
       "      <td>400.644218</td>\n",
       "      <td>2017.149436</td>\n",
       "      <td>12.367954</td>\n",
       "      <td>85602.841436</td>\n",
       "      <td>7552.403952</td>\n",
       "      <td>3.809807</td>\n",
       "      <td>3.031725e+05</td>\n",
       "      <td>1.315175e+05</td>\n",
       "      <td>4.588588e+05</td>\n",
       "      <td>3.132649e+05</td>\n",
       "    </tr>\n",
       "    <tr>\n",
       "      <th>std</th>\n",
       "      <td>2.820472e+05</td>\n",
       "      <td>22636.147805</td>\n",
       "      <td>5.355154e+05</td>\n",
       "      <td>1.797791</td>\n",
       "      <td>284.428640</td>\n",
       "      <td>2.524582</td>\n",
       "      <td>15.540532</td>\n",
       "      <td>34323.368435</td>\n",
       "      <td>1431.273179</td>\n",
       "      <td>4.373833</td>\n",
       "      <td>3.869287e+05</td>\n",
       "      <td>1.245621e+05</td>\n",
       "      <td>5.599567e+05</td>\n",
       "      <td>2.659228e+05</td>\n",
       "    </tr>\n",
       "    <tr>\n",
       "      <th>min</th>\n",
       "      <td>1.888600e+04</td>\n",
       "      <td>6.000000</td>\n",
       "      <td>8.109948e+06</td>\n",
       "      <td>1.000000</td>\n",
       "      <td>113.000000</td>\n",
       "      <td>2012.000000</td>\n",
       "      <td>0.000000</td>\n",
       "      <td>73.000000</td>\n",
       "      <td>1.000000</td>\n",
       "      <td>1.000000</td>\n",
       "      <td>1.000000e+00</td>\n",
       "      <td>0.000000e+00</td>\n",
       "      <td>1.000000e+00</td>\n",
       "      <td>1.000000e+00</td>\n",
       "    </tr>\n",
       "    <tr>\n",
       "      <th>25%</th>\n",
       "      <td>2.897328e+05</td>\n",
       "      <td>22167.000000</td>\n",
       "      <td>8.995280e+06</td>\n",
       "      <td>1.000000</td>\n",
       "      <td>242.000000</td>\n",
       "      <td>2015.000000</td>\n",
       "      <td>3.000000</td>\n",
       "      <td>75427.000000</td>\n",
       "      <td>6294.000000</td>\n",
       "      <td>1.000000</td>\n",
       "      <td>1.319002e+05</td>\n",
       "      <td>6.002500e+04</td>\n",
       "      <td>1.884470e+05</td>\n",
       "      <td>1.636740e+05</td>\n",
       "    </tr>\n",
       "    <tr>\n",
       "      <th>50%</th>\n",
       "      <td>5.413180e+05</td>\n",
       "      <td>42781.500000</td>\n",
       "      <td>9.447212e+06</td>\n",
       "      <td>5.000000</td>\n",
       "      <td>242.000000</td>\n",
       "      <td>2018.000000</td>\n",
       "      <td>7.000000</td>\n",
       "      <td>97793.000000</td>\n",
       "      <td>8278.000000</td>\n",
       "      <td>3.000000</td>\n",
       "      <td>2.314555e+05</td>\n",
       "      <td>1.129100e+05</td>\n",
       "      <td>3.737500e+05</td>\n",
       "      <td>2.615390e+05</td>\n",
       "    </tr>\n",
       "    <tr>\n",
       "      <th>75%</th>\n",
       "      <td>7.771148e+05</td>\n",
       "      <td>62789.500000</td>\n",
       "      <td>9.752644e+06</td>\n",
       "      <td>5.000000</td>\n",
       "      <td>853.000000</td>\n",
       "      <td>2019.000000</td>\n",
       "      <td>13.000000</td>\n",
       "      <td>109885.000000</td>\n",
       "      <td>8509.000000</td>\n",
       "      <td>4.000000</td>\n",
       "      <td>3.566165e+05</td>\n",
       "      <td>1.737500e+05</td>\n",
       "      <td>5.608205e+05</td>\n",
       "      <td>3.864340e+05</td>\n",
       "    </tr>\n",
       "    <tr>\n",
       "      <th>max</th>\n",
       "      <td>1.009685e+06</td>\n",
       "      <td>82690.000000</td>\n",
       "      <td>1.049102e+07</td>\n",
       "      <td>9.000000</td>\n",
       "      <td>999.000000</td>\n",
       "      <td>2021.000000</td>\n",
       "      <td>98.000000</td>\n",
       "      <td>211820.000000</td>\n",
       "      <td>9031.000000</td>\n",
       "      <td>49.000000</td>\n",
       "      <td>5.640527e+06</td>\n",
       "      <td>1.965264e+06</td>\n",
       "      <td>1.142271e+07</td>\n",
       "      <td>2.864255e+06</td>\n",
       "    </tr>\n",
       "  </tbody>\n",
       "</table>\n",
       "</div>\n",
       "      <button class=\"colab-df-convert\" onclick=\"convertToInteractive('df-7e4183bc-bf7f-4d7a-b09b-c26feb04b096')\"\n",
       "              title=\"Convert this dataframe to an interactive table.\"\n",
       "              style=\"display:none;\">\n",
       "        \n",
       "  <svg xmlns=\"http://www.w3.org/2000/svg\" height=\"24px\"viewBox=\"0 0 24 24\"\n",
       "       width=\"24px\">\n",
       "    <path d=\"M0 0h24v24H0V0z\" fill=\"none\"/>\n",
       "    <path d=\"M18.56 5.44l.94 2.06.94-2.06 2.06-.94-2.06-.94-.94-2.06-.94 2.06-2.06.94zm-11 1L8.5 8.5l.94-2.06 2.06-.94-2.06-.94L8.5 2.5l-.94 2.06-2.06.94zm10 10l.94 2.06.94-2.06 2.06-.94-2.06-.94-.94-2.06-.94 2.06-2.06.94z\"/><path d=\"M17.41 7.96l-1.37-1.37c-.4-.4-.92-.59-1.43-.59-.52 0-1.04.2-1.43.59L10.3 9.45l-7.72 7.72c-.78.78-.78 2.05 0 2.83L4 21.41c.39.39.9.59 1.41.59.51 0 1.02-.2 1.41-.59l7.78-7.78 2.81-2.81c.8-.78.8-2.07 0-2.86zM5.41 20L4 18.59l7.72-7.72 1.47 1.35L5.41 20z\"/>\n",
       "  </svg>\n",
       "      </button>\n",
       "      \n",
       "  <style>\n",
       "    .colab-df-container {\n",
       "      display:flex;\n",
       "      flex-wrap:wrap;\n",
       "      gap: 12px;\n",
       "    }\n",
       "\n",
       "    .colab-df-convert {\n",
       "      background-color: #E8F0FE;\n",
       "      border: none;\n",
       "      border-radius: 50%;\n",
       "      cursor: pointer;\n",
       "      display: none;\n",
       "      fill: #1967D2;\n",
       "      height: 32px;\n",
       "      padding: 0 0 0 0;\n",
       "      width: 32px;\n",
       "    }\n",
       "\n",
       "    .colab-df-convert:hover {\n",
       "      background-color: #E2EBFA;\n",
       "      box-shadow: 0px 1px 2px rgba(60, 64, 67, 0.3), 0px 1px 3px 1px rgba(60, 64, 67, 0.15);\n",
       "      fill: #174EA6;\n",
       "    }\n",
       "\n",
       "    [theme=dark] .colab-df-convert {\n",
       "      background-color: #3B4455;\n",
       "      fill: #D2E3FC;\n",
       "    }\n",
       "\n",
       "    [theme=dark] .colab-df-convert:hover {\n",
       "      background-color: #434B5C;\n",
       "      box-shadow: 0px 1px 3px 1px rgba(0, 0, 0, 0.15);\n",
       "      filter: drop-shadow(0px 1px 2px rgba(0, 0, 0, 0.3));\n",
       "      fill: #FFFFFF;\n",
       "    }\n",
       "  </style>\n",
       "\n",
       "      <script>\n",
       "        const buttonEl =\n",
       "          document.querySelector('#df-7e4183bc-bf7f-4d7a-b09b-c26feb04b096 button.colab-df-convert');\n",
       "        buttonEl.style.display =\n",
       "          google.colab.kernel.accessAllowed ? 'block' : 'none';\n",
       "\n",
       "        async function convertToInteractive(key) {\n",
       "          const element = document.querySelector('#df-7e4183bc-bf7f-4d7a-b09b-c26feb04b096');\n",
       "          const dataTable =\n",
       "            await google.colab.kernel.invokeFunction('convertToInteractive',\n",
       "                                                     [key], {});\n",
       "          if (!dataTable) return;\n",
       "\n",
       "          const docLinkHtml = 'Like what you see? Visit the ' +\n",
       "            '<a target=\"_blank\" href=https://colab.research.google.com/notebooks/data_table.ipynb>data table notebook</a>'\n",
       "            + ' to learn more about interactive tables.';\n",
       "          element.innerHTML = '';\n",
       "          dataTable['output_type'] = 'display_data';\n",
       "          await google.colab.output.renderOutput(dataTable, element);\n",
       "          const docLink = document.createElement('div');\n",
       "          docLink.innerHTML = docLinkHtml;\n",
       "          element.appendChild(docLink);\n",
       "        }\n",
       "      </script>\n",
       "    </div>\n",
       "  </div>\n",
       "  "
      ],
      "text/plain": [
       "       Unnamed: 0.1    Unnamed: 0  APPLICATION_ID  APPLICATION_TYPE  \\\n",
       "count  7.274000e+03   7274.000000    7.274000e+03       7240.000000   \n",
       "mean   5.317092e+05  41482.817569    9.367368e+06          3.745166   \n",
       "std    2.820472e+05  22636.147805    5.355154e+05          1.797791   \n",
       "min    1.888600e+04      6.000000    8.109948e+06          1.000000   \n",
       "25%    2.897328e+05  22167.000000    8.995280e+06          1.000000   \n",
       "50%    5.413180e+05  42781.500000    9.447212e+06          5.000000   \n",
       "75%    7.771148e+05  62789.500000    9.752644e+06          5.000000   \n",
       "max    1.009685e+06  82690.000000    1.049102e+07          9.000000   \n",
       "\n",
       "         CFDA_CODE           FY  ORG_DISTRICT  SERIAL_NUMBER  SUBPROJECT_ID  \\\n",
       "count  6192.000000  7274.000000   7096.000000    7240.000000     911.000000   \n",
       "mean    400.644218  2017.149436     12.367954   85602.841436    7552.403952   \n",
       "std     284.428640     2.524582     15.540532   34323.368435    1431.273179   \n",
       "min     113.000000  2012.000000      0.000000      73.000000       1.000000   \n",
       "25%     242.000000  2015.000000      3.000000   75427.000000    6294.000000   \n",
       "50%     242.000000  2018.000000      7.000000   97793.000000    8278.000000   \n",
       "75%     853.000000  2019.000000     13.000000  109885.000000    8509.000000   \n",
       "max     999.000000  2021.000000     98.000000  211820.000000    9031.000000   \n",
       "\n",
       "       SUPPORT_YEAR  DIRECT_COST_AMT  INDIRECT_COST_AMT    TOTAL_COST  \\\n",
       "count   7240.000000     6.900000e+03       6.337000e+03  6.363000e+03   \n",
       "mean       3.809807     3.031725e+05       1.315175e+05  4.588588e+05   \n",
       "std        4.373833     3.869287e+05       1.245621e+05  5.599567e+05   \n",
       "min        1.000000     1.000000e+00       0.000000e+00  1.000000e+00   \n",
       "25%        1.000000     1.319002e+05       6.002500e+04  1.884470e+05   \n",
       "50%        3.000000     2.314555e+05       1.129100e+05  3.737500e+05   \n",
       "75%        4.000000     3.566165e+05       1.737500e+05  5.608205e+05   \n",
       "max       49.000000     5.640527e+06       1.965264e+06  1.142271e+07   \n",
       "\n",
       "       TOTAL_COST_SUB_PROJECT  \n",
       "count            9.110000e+02  \n",
       "mean             3.132649e+05  \n",
       "std              2.659228e+05  \n",
       "min              1.000000e+00  \n",
       "25%              1.636740e+05  \n",
       "50%              2.615390e+05  \n",
       "75%              3.864340e+05  \n",
       "max              2.864255e+06  "
      ]
     },
     "execution_count": 34,
     "metadata": {},
     "output_type": "execute_result"
    }
   ],
   "source": [
    "# Importing data\n",
    "a_p = pd.read_csv(\"autism_projects.csv\", encoding = 'latin-1')\n",
    "\n",
    "a_p.describe()"
   ]
  },
  {
   "cell_type": "code",
   "execution_count": 35,
   "metadata": {
    "executionInfo": {
     "elapsed": 18,
     "status": "ok",
     "timestamp": 1683137424881,
     "user": {
      "displayName": "Danny Tsoi",
      "userId": "06065604599370212945"
     },
     "user_tz": 240
    },
    "id": "YWrpFyAs26z_"
   },
   "outputs": [],
   "source": [
    "# Look at available methods\n",
    "\n",
    "# dir(a_p)"
   ]
  },
  {
   "cell_type": "code",
   "execution_count": 36,
   "metadata": {
    "colab": {
     "base_uri": "https://localhost:8080/"
    },
    "executionInfo": {
     "elapsed": 404,
     "status": "ok",
     "timestamp": 1683137425268,
     "user": {
      "displayName": "Danny Tsoi",
      "userId": "06065604599370212945"
     },
     "user_tz": 240
    },
    "id": "-eZNvnbvPZi8",
    "outputId": "c37b7930-59c8-4466-8f92-9a67e9a92e50"
   },
   "outputs": [
    {
     "data": {
      "text/plain": [
       "Unnamed: 0.1                int64\n",
       "Unnamed: 0                  int64\n",
       "APPLICATION_ID              int64\n",
       "ACTIVITY                   object\n",
       "ADMINISTERING_IC           object\n",
       "APPLICATION_TYPE          float64\n",
       "ARRA_FUNDED                object\n",
       "AWARD_NOTICE_DATE          object\n",
       "BUDGET_START               object\n",
       "BUDGET_END                 object\n",
       "CFDA_CODE                 float64\n",
       "CORE_PROJECT_NUM           object\n",
       "ED_INST_TYPE               object\n",
       "FOA_NUMBER                 object\n",
       "FULL_PROJECT_NUM           object\n",
       "FUNDING_MECHANISM          object\n",
       "FY                          int64\n",
       "IC_NAME                    object\n",
       "NIH_SPENDING_CATS          object\n",
       "ORG_CITY                   object\n",
       "ORG_COUNTRY                object\n",
       "ORG_DEPT                   object\n",
       "ORG_DISTRICT              float64\n",
       "ORG_DUNS                   object\n",
       "ORG_FIPS                   object\n",
       "ORG_NAME                   object\n",
       "ORG_STATE                  object\n",
       "ORG_ZIPCODE                object\n",
       "PHR                        object\n",
       "PI_IDS                     object\n",
       "PI_NAMEs                   object\n",
       "PROGRAM_OFFICER_NAME       object\n",
       "PROJECT_START              object\n",
       "PROJECT_END                object\n",
       "PROJECT_TERMS              object\n",
       "PROJECT_TITLE              object\n",
       "SERIAL_NUMBER             float64\n",
       "STUDY_SECTION              object\n",
       "STUDY_SECTION_NAME         object\n",
       "SUBPROJECT_ID             float64\n",
       "SUFFIX                     object\n",
       "SUPPORT_YEAR              float64\n",
       "DIRECT_COST_AMT           float64\n",
       "INDIRECT_COST_AMT         float64\n",
       "TOTAL_COST                float64\n",
       "TOTAL_COST_SUB_PROJECT    float64\n",
       "dtype: object"
      ]
     },
     "execution_count": 36,
     "metadata": {},
     "output_type": "execute_result"
    }
   ],
   "source": [
    "a_p.dtypes"
   ]
  },
  {
   "cell_type": "code",
   "execution_count": 43,
   "metadata": {
    "executionInfo": {
     "elapsed": 3194,
     "status": "ok",
     "timestamp": 1683137629766,
     "user": {
      "displayName": "Danny Tsoi",
      "userId": "06065604599370212945"
     },
     "user_tz": 240
    },
    "id": "f7UjDgvZN-Sj"
   },
   "outputs": [],
   "source": [
    "\n",
    "# convert PROJECT_START into a date variable\n",
    "a_p['PROJECT_START_YEAR'] = pd.to_datetime(a_p['PROJECT_START'])\n",
    "\n",
    "# a_p['PROJECT_START_CY'] = a_p['PROJECT_START'].dt.to_period('Q-SEP')\n",
    "\n",
    "# convert BUDGET_START into a date variable\n",
    "a_p['BUDGET_START_YEAR'] = pd.to_datetime(a_p['BUDGET_START'])\n",
    "\n",
    "# a_p['BUDGET_START_CY'] = a_p['BUDGET_START'].dt.to_period('Q-SEP')\n",
    "\n",
    "# # df['Fiscal Year Range'] = df['Date'].dt.to_period('Q-APR').dt.qyear.apply(lambda x: str(x-1) + \"-\" + str(x))\n",
    "# # print(df)\n"
   ]
  },
  {
   "cell_type": "code",
   "execution_count": 47,
   "metadata": {
    "colab": {
     "base_uri": "https://localhost:8080/",
     "height": 254
    },
    "executionInfo": {
     "elapsed": 362,
     "status": "ok",
     "timestamp": 1683137724343,
     "user": {
      "displayName": "Danny Tsoi",
      "userId": "06065604599370212945"
     },
     "user_tz": 240
    },
    "id": "D5WGSLI42z_w",
    "outputId": "6c845fc1-f497-4115-f9f3-ea56b0ab1392"
   },
   "outputs": [
    {
     "data": {
      "text/html": [
       "\n",
       "  <div id=\"df-4c69c0c9-93cf-49d1-a35e-0cb9cdff1a1f\">\n",
       "    <div class=\"colab-df-container\">\n",
       "      <div>\n",
       "<style scoped>\n",
       "    .dataframe tbody tr th:only-of-type {\n",
       "        vertical-align: middle;\n",
       "    }\n",
       "\n",
       "    .dataframe tbody tr th {\n",
       "        vertical-align: top;\n",
       "    }\n",
       "\n",
       "    .dataframe thead th {\n",
       "        text-align: right;\n",
       "    }\n",
       "</style>\n",
       "<table border=\"1\" class=\"dataframe\">\n",
       "  <thead>\n",
       "    <tr style=\"text-align: right;\">\n",
       "      <th></th>\n",
       "      <th>Unnamed: 0.1</th>\n",
       "      <th>Unnamed: 0</th>\n",
       "      <th>APPLICATION_ID</th>\n",
       "      <th>ACTIVITY</th>\n",
       "      <th>ADMINISTERING_IC</th>\n",
       "      <th>APPLICATION_TYPE</th>\n",
       "      <th>ARRA_FUNDED</th>\n",
       "      <th>AWARD_NOTICE_DATE</th>\n",
       "      <th>BUDGET_START</th>\n",
       "      <th>BUDGET_END</th>\n",
       "      <th>...</th>\n",
       "      <th>SUFFIX</th>\n",
       "      <th>SUPPORT_YEAR</th>\n",
       "      <th>DIRECT_COST_AMT</th>\n",
       "      <th>INDIRECT_COST_AMT</th>\n",
       "      <th>TOTAL_COST</th>\n",
       "      <th>TOTAL_COST_SUB_PROJECT</th>\n",
       "      <th>PROJECT_START_YEAR</th>\n",
       "      <th>PROJECT_END_YEAR</th>\n",
       "      <th>BUDGET_START_YEAR</th>\n",
       "      <th>BUDGET_END_YEAR</th>\n",
       "    </tr>\n",
       "  </thead>\n",
       "  <tbody>\n",
       "    <tr>\n",
       "      <th>0</th>\n",
       "      <td>18886</td>\n",
       "      <td>18886</td>\n",
       "      <td>8522938</td>\n",
       "      <td>F32</td>\n",
       "      <td>EY</td>\n",
       "      <td>1.0</td>\n",
       "      <td>N</td>\n",
       "      <td>5/13/2013</td>\n",
       "      <td>2013-09-01</td>\n",
       "      <td>2014-08-31</td>\n",
       "      <td>...</td>\n",
       "      <td>NaN</td>\n",
       "      <td>1.0</td>\n",
       "      <td>47114.0</td>\n",
       "      <td>NaN</td>\n",
       "      <td>47114.0</td>\n",
       "      <td>NaN</td>\n",
       "      <td>2013.0</td>\n",
       "      <td>2016.0</td>\n",
       "      <td>2013.0</td>\n",
       "      <td>2014.0</td>\n",
       "    </tr>\n",
       "    <tr>\n",
       "      <th>1</th>\n",
       "      <td>19227</td>\n",
       "      <td>19227</td>\n",
       "      <td>8528613</td>\n",
       "      <td>K99</td>\n",
       "      <td>EY</td>\n",
       "      <td>5.0</td>\n",
       "      <td>N</td>\n",
       "      <td>8/26/2013</td>\n",
       "      <td>2013-09-01</td>\n",
       "      <td>2015-08-31</td>\n",
       "      <td>...</td>\n",
       "      <td>NaN</td>\n",
       "      <td>2.0</td>\n",
       "      <td>83333.0</td>\n",
       "      <td>6667.0</td>\n",
       "      <td>90000.0</td>\n",
       "      <td>NaN</td>\n",
       "      <td>2012.0</td>\n",
       "      <td>2015.0</td>\n",
       "      <td>2013.0</td>\n",
       "      <td>2015.0</td>\n",
       "    </tr>\n",
       "    <tr>\n",
       "      <th>2</th>\n",
       "      <td>19380</td>\n",
       "      <td>19380</td>\n",
       "      <td>8441517</td>\n",
       "      <td>R21</td>\n",
       "      <td>HG</td>\n",
       "      <td>5.0</td>\n",
       "      <td>N</td>\n",
       "      <td>12/10/2012</td>\n",
       "      <td>2013-01-01</td>\n",
       "      <td>2015-12-31</td>\n",
       "      <td>...</td>\n",
       "      <td>NaN</td>\n",
       "      <td>2.0</td>\n",
       "      <td>125000.0</td>\n",
       "      <td>75000.0</td>\n",
       "      <td>200000.0</td>\n",
       "      <td>NaN</td>\n",
       "      <td>2012.0</td>\n",
       "      <td>2015.0</td>\n",
       "      <td>2013.0</td>\n",
       "      <td>2015.0</td>\n",
       "    </tr>\n",
       "  </tbody>\n",
       "</table>\n",
       "<p>3 rows × 50 columns</p>\n",
       "</div>\n",
       "      <button class=\"colab-df-convert\" onclick=\"convertToInteractive('df-4c69c0c9-93cf-49d1-a35e-0cb9cdff1a1f')\"\n",
       "              title=\"Convert this dataframe to an interactive table.\"\n",
       "              style=\"display:none;\">\n",
       "        \n",
       "  <svg xmlns=\"http://www.w3.org/2000/svg\" height=\"24px\"viewBox=\"0 0 24 24\"\n",
       "       width=\"24px\">\n",
       "    <path d=\"M0 0h24v24H0V0z\" fill=\"none\"/>\n",
       "    <path d=\"M18.56 5.44l.94 2.06.94-2.06 2.06-.94-2.06-.94-.94-2.06-.94 2.06-2.06.94zm-11 1L8.5 8.5l.94-2.06 2.06-.94-2.06-.94L8.5 2.5l-.94 2.06-2.06.94zm10 10l.94 2.06.94-2.06 2.06-.94-2.06-.94-.94-2.06-.94 2.06-2.06.94z\"/><path d=\"M17.41 7.96l-1.37-1.37c-.4-.4-.92-.59-1.43-.59-.52 0-1.04.2-1.43.59L10.3 9.45l-7.72 7.72c-.78.78-.78 2.05 0 2.83L4 21.41c.39.39.9.59 1.41.59.51 0 1.02-.2 1.41-.59l7.78-7.78 2.81-2.81c.8-.78.8-2.07 0-2.86zM5.41 20L4 18.59l7.72-7.72 1.47 1.35L5.41 20z\"/>\n",
       "  </svg>\n",
       "      </button>\n",
       "      \n",
       "  <style>\n",
       "    .colab-df-container {\n",
       "      display:flex;\n",
       "      flex-wrap:wrap;\n",
       "      gap: 12px;\n",
       "    }\n",
       "\n",
       "    .colab-df-convert {\n",
       "      background-color: #E8F0FE;\n",
       "      border: none;\n",
       "      border-radius: 50%;\n",
       "      cursor: pointer;\n",
       "      display: none;\n",
       "      fill: #1967D2;\n",
       "      height: 32px;\n",
       "      padding: 0 0 0 0;\n",
       "      width: 32px;\n",
       "    }\n",
       "\n",
       "    .colab-df-convert:hover {\n",
       "      background-color: #E2EBFA;\n",
       "      box-shadow: 0px 1px 2px rgba(60, 64, 67, 0.3), 0px 1px 3px 1px rgba(60, 64, 67, 0.15);\n",
       "      fill: #174EA6;\n",
       "    }\n",
       "\n",
       "    [theme=dark] .colab-df-convert {\n",
       "      background-color: #3B4455;\n",
       "      fill: #D2E3FC;\n",
       "    }\n",
       "\n",
       "    [theme=dark] .colab-df-convert:hover {\n",
       "      background-color: #434B5C;\n",
       "      box-shadow: 0px 1px 3px 1px rgba(0, 0, 0, 0.15);\n",
       "      filter: drop-shadow(0px 1px 2px rgba(0, 0, 0, 0.3));\n",
       "      fill: #FFFFFF;\n",
       "    }\n",
       "  </style>\n",
       "\n",
       "      <script>\n",
       "        const buttonEl =\n",
       "          document.querySelector('#df-4c69c0c9-93cf-49d1-a35e-0cb9cdff1a1f button.colab-df-convert');\n",
       "        buttonEl.style.display =\n",
       "          google.colab.kernel.accessAllowed ? 'block' : 'none';\n",
       "\n",
       "        async function convertToInteractive(key) {\n",
       "          const element = document.querySelector('#df-4c69c0c9-93cf-49d1-a35e-0cb9cdff1a1f');\n",
       "          const dataTable =\n",
       "            await google.colab.kernel.invokeFunction('convertToInteractive',\n",
       "                                                     [key], {});\n",
       "          if (!dataTable) return;\n",
       "\n",
       "          const docLinkHtml = 'Like what you see? Visit the ' +\n",
       "            '<a target=\"_blank\" href=https://colab.research.google.com/notebooks/data_table.ipynb>data table notebook</a>'\n",
       "            + ' to learn more about interactive tables.';\n",
       "          element.innerHTML = '';\n",
       "          dataTable['output_type'] = 'display_data';\n",
       "          await google.colab.output.renderOutput(dataTable, element);\n",
       "          const docLink = document.createElement('div');\n",
       "          docLink.innerHTML = docLinkHtml;\n",
       "          element.appendChild(docLink);\n",
       "        }\n",
       "      </script>\n",
       "    </div>\n",
       "  </div>\n",
       "  "
      ],
      "text/plain": [
       "   Unnamed: 0.1  Unnamed: 0  APPLICATION_ID ACTIVITY ADMINISTERING_IC  \\\n",
       "0         18886       18886         8522938      F32               EY   \n",
       "1         19227       19227         8528613      K99               EY   \n",
       "2         19380       19380         8441517      R21               HG   \n",
       "\n",
       "   APPLICATION_TYPE ARRA_FUNDED AWARD_NOTICE_DATE BUDGET_START BUDGET_END  \\\n",
       "0               1.0           N         5/13/2013   2013-09-01 2014-08-31   \n",
       "1               5.0           N         8/26/2013   2013-09-01 2015-08-31   \n",
       "2               5.0           N        12/10/2012   2013-01-01 2015-12-31   \n",
       "\n",
       "   ...  SUFFIX SUPPORT_YEAR DIRECT_COST_AMT INDIRECT_COST_AMT TOTAL_COST  \\\n",
       "0  ...     NaN          1.0         47114.0               NaN    47114.0   \n",
       "1  ...     NaN          2.0         83333.0            6667.0    90000.0   \n",
       "2  ...     NaN          2.0        125000.0           75000.0   200000.0   \n",
       "\n",
       "  TOTAL_COST_SUB_PROJECT  PROJECT_START_YEAR PROJECT_END_YEAR  \\\n",
       "0                    NaN              2013.0           2016.0   \n",
       "1                    NaN              2012.0           2015.0   \n",
       "2                    NaN              2012.0           2015.0   \n",
       "\n",
       "  BUDGET_START_YEAR BUDGET_END_YEAR  \n",
       "0            2013.0          2014.0  \n",
       "1            2013.0          2015.0  \n",
       "2            2013.0          2015.0  \n",
       "\n",
       "[3 rows x 50 columns]"
      ]
     },
     "execution_count": 47,
     "metadata": {},
     "output_type": "execute_result"
    }
   ],
   "source": [
    "# Importing data\n",
    "a_p = pd.read_csv(\"autism_projects.csv\", encoding = 'latin-1')\n",
    "\n",
    "a_p.describe()\n",
    "\n",
    "# convert PROJECT_START into a date variable\n",
    "a_p['PROJECT_START'] = pd.to_datetime(a_p['PROJECT_START'])\n",
    "\n",
    "# Create a new year variable from the PROJECT_START\n",
    "a_p['PROJECT_START_YEAR'] = a_p['PROJECT_START'].dt.year\n",
    "\n",
    "# convert PROJECT_START into a date variable\n",
    "a_p['PROJECT_END'] = pd.to_datetime(a_p['PROJECT_END'])\n",
    "\n",
    "# Create a new year variable from the PROJECT_END\n",
    "a_p['PROJECT_END_YEAR'] = a_p['PROJECT_END'].dt.year\n",
    "\n",
    "# convert PROJECT_START into a date variable\n",
    "a_p['BUDGET_START'] = pd.to_datetime(a_p['BUDGET_START'])\n",
    "\n",
    "# Create a new year variable from the PROJECT_START\n",
    "a_p['BUDGET_START_YEAR'] = a_p['BUDGET_START'].dt.year\n",
    "\n",
    "# convert PROJECT_START into a date variable\n",
    "a_p['BUDGET_END'] = pd.to_datetime(a_p['BUDGET_END'])\n",
    "\n",
    "# Create a new year variable from the PROJECT_END\n",
    "a_p['BUDGET_END_YEAR'] = a_p['BUDGET_END'].dt.year\n",
    "\n",
    "# View the first 3 observarions for select variables \n",
    "a_p.head(3)"
   ]
  },
  {
   "cell_type": "code",
   "execution_count": 44,
   "metadata": {
    "colab": {
     "base_uri": "https://localhost:8080/",
     "height": 317
    },
    "executionInfo": {
     "elapsed": 520,
     "status": "ok",
     "timestamp": 1683137632473,
     "user": {
      "displayName": "Danny Tsoi",
      "userId": "06065604599370212945"
     },
     "user_tz": 240
    },
    "id": "-xp1OaJYSDzQ",
    "outputId": "9a75f43f-9fc1-4dc0-b4bb-83952f0f3174"
   },
   "outputs": [
    {
     "data": {
      "text/html": [
       "\n",
       "  <div id=\"df-4e3a5706-c80b-4c7d-ac34-81cbd1ebba4a\">\n",
       "    <div class=\"colab-df-container\">\n",
       "      <div>\n",
       "<style scoped>\n",
       "    .dataframe tbody tr th:only-of-type {\n",
       "        vertical-align: middle;\n",
       "    }\n",
       "\n",
       "    .dataframe tbody tr th {\n",
       "        vertical-align: top;\n",
       "    }\n",
       "\n",
       "    .dataframe thead th {\n",
       "        text-align: right;\n",
       "    }\n",
       "</style>\n",
       "<table border=\"1\" class=\"dataframe\">\n",
       "  <thead>\n",
       "    <tr style=\"text-align: right;\">\n",
       "      <th></th>\n",
       "      <th>Unnamed: 0.1</th>\n",
       "      <th>Unnamed: 0</th>\n",
       "      <th>APPLICATION_ID</th>\n",
       "      <th>ACTIVITY</th>\n",
       "      <th>ADMINISTERING_IC</th>\n",
       "      <th>APPLICATION_TYPE</th>\n",
       "      <th>ARRA_FUNDED</th>\n",
       "      <th>AWARD_NOTICE_DATE</th>\n",
       "      <th>BUDGET_START</th>\n",
       "      <th>BUDGET_END</th>\n",
       "      <th>...</th>\n",
       "      <th>SUBPROJECT_ID</th>\n",
       "      <th>SUFFIX</th>\n",
       "      <th>SUPPORT_YEAR</th>\n",
       "      <th>DIRECT_COST_AMT</th>\n",
       "      <th>INDIRECT_COST_AMT</th>\n",
       "      <th>TOTAL_COST</th>\n",
       "      <th>TOTAL_COST_SUB_PROJECT</th>\n",
       "      <th>PROJECT_START_CY</th>\n",
       "      <th>PROJECT_START_YEAR</th>\n",
       "      <th>BUDGET_START_YEAR</th>\n",
       "    </tr>\n",
       "  </thead>\n",
       "  <tbody>\n",
       "    <tr>\n",
       "      <th>0</th>\n",
       "      <td>18886</td>\n",
       "      <td>18886</td>\n",
       "      <td>8522938</td>\n",
       "      <td>F32</td>\n",
       "      <td>EY</td>\n",
       "      <td>1.0</td>\n",
       "      <td>N</td>\n",
       "      <td>5/13/2013</td>\n",
       "      <td>2013-09-01</td>\n",
       "      <td>8/31/2014</td>\n",
       "      <td>...</td>\n",
       "      <td>NaN</td>\n",
       "      <td>NaN</td>\n",
       "      <td>1.0</td>\n",
       "      <td>47114.0</td>\n",
       "      <td>NaN</td>\n",
       "      <td>47114.0</td>\n",
       "      <td>NaN</td>\n",
       "      <td>2013Q4</td>\n",
       "      <td>2013-09-01</td>\n",
       "      <td>2013-09-01</td>\n",
       "    </tr>\n",
       "    <tr>\n",
       "      <th>1</th>\n",
       "      <td>19227</td>\n",
       "      <td>19227</td>\n",
       "      <td>8528613</td>\n",
       "      <td>K99</td>\n",
       "      <td>EY</td>\n",
       "      <td>5.0</td>\n",
       "      <td>N</td>\n",
       "      <td>8/26/2013</td>\n",
       "      <td>2013-09-01</td>\n",
       "      <td>8/31/2015</td>\n",
       "      <td>...</td>\n",
       "      <td>NaN</td>\n",
       "      <td>NaN</td>\n",
       "      <td>2.0</td>\n",
       "      <td>83333.0</td>\n",
       "      <td>6667.0</td>\n",
       "      <td>90000.0</td>\n",
       "      <td>NaN</td>\n",
       "      <td>2012Q4</td>\n",
       "      <td>2012-09-01</td>\n",
       "      <td>2013-09-01</td>\n",
       "    </tr>\n",
       "    <tr>\n",
       "      <th>2</th>\n",
       "      <td>19380</td>\n",
       "      <td>19380</td>\n",
       "      <td>8441517</td>\n",
       "      <td>R21</td>\n",
       "      <td>HG</td>\n",
       "      <td>5.0</td>\n",
       "      <td>N</td>\n",
       "      <td>12/10/2012</td>\n",
       "      <td>2013-01-01</td>\n",
       "      <td>12/31/2015</td>\n",
       "      <td>...</td>\n",
       "      <td>NaN</td>\n",
       "      <td>NaN</td>\n",
       "      <td>2.0</td>\n",
       "      <td>125000.0</td>\n",
       "      <td>75000.0</td>\n",
       "      <td>200000.0</td>\n",
       "      <td>NaN</td>\n",
       "      <td>2012Q2</td>\n",
       "      <td>2012-03-09</td>\n",
       "      <td>2013-01-01</td>\n",
       "    </tr>\n",
       "    <tr>\n",
       "      <th>3</th>\n",
       "      <td>19666</td>\n",
       "      <td>19666</td>\n",
       "      <td>8750685</td>\n",
       "      <td>ZIA</td>\n",
       "      <td>HG</td>\n",
       "      <td>1.0</td>\n",
       "      <td>N</td>\n",
       "      <td>NaN</td>\n",
       "      <td>NaT</td>\n",
       "      <td>NaN</td>\n",
       "      <td>...</td>\n",
       "      <td>NaN</td>\n",
       "      <td>NaN</td>\n",
       "      <td>9.0</td>\n",
       "      <td>NaN</td>\n",
       "      <td>NaN</td>\n",
       "      <td>589154.0</td>\n",
       "      <td>NaN</td>\n",
       "      <td>NaT</td>\n",
       "      <td>NaT</td>\n",
       "      <td>NaT</td>\n",
       "    </tr>\n",
       "    <tr>\n",
       "      <th>4</th>\n",
       "      <td>29268</td>\n",
       "      <td>29268</td>\n",
       "      <td>8502765</td>\n",
       "      <td>R01</td>\n",
       "      <td>NS</td>\n",
       "      <td>7.0</td>\n",
       "      <td>N</td>\n",
       "      <td>9/13/2013</td>\n",
       "      <td>2013-07-01</td>\n",
       "      <td>9/30/2014</td>\n",
       "      <td>...</td>\n",
       "      <td>NaN</td>\n",
       "      <td>NaN</td>\n",
       "      <td>5.0</td>\n",
       "      <td>236425.0</td>\n",
       "      <td>212783.0</td>\n",
       "      <td>449208.0</td>\n",
       "      <td>NaN</td>\n",
       "      <td>2009Q4</td>\n",
       "      <td>2009-08-01</td>\n",
       "      <td>2013-07-01</td>\n",
       "    </tr>\n",
       "  </tbody>\n",
       "</table>\n",
       "<p>5 rows × 49 columns</p>\n",
       "</div>\n",
       "      <button class=\"colab-df-convert\" onclick=\"convertToInteractive('df-4e3a5706-c80b-4c7d-ac34-81cbd1ebba4a')\"\n",
       "              title=\"Convert this dataframe to an interactive table.\"\n",
       "              style=\"display:none;\">\n",
       "        \n",
       "  <svg xmlns=\"http://www.w3.org/2000/svg\" height=\"24px\"viewBox=\"0 0 24 24\"\n",
       "       width=\"24px\">\n",
       "    <path d=\"M0 0h24v24H0V0z\" fill=\"none\"/>\n",
       "    <path d=\"M18.56 5.44l.94 2.06.94-2.06 2.06-.94-2.06-.94-.94-2.06-.94 2.06-2.06.94zm-11 1L8.5 8.5l.94-2.06 2.06-.94-2.06-.94L8.5 2.5l-.94 2.06-2.06.94zm10 10l.94 2.06.94-2.06 2.06-.94-2.06-.94-.94-2.06-.94 2.06-2.06.94z\"/><path d=\"M17.41 7.96l-1.37-1.37c-.4-.4-.92-.59-1.43-.59-.52 0-1.04.2-1.43.59L10.3 9.45l-7.72 7.72c-.78.78-.78 2.05 0 2.83L4 21.41c.39.39.9.59 1.41.59.51 0 1.02-.2 1.41-.59l7.78-7.78 2.81-2.81c.8-.78.8-2.07 0-2.86zM5.41 20L4 18.59l7.72-7.72 1.47 1.35L5.41 20z\"/>\n",
       "  </svg>\n",
       "      </button>\n",
       "      \n",
       "  <style>\n",
       "    .colab-df-container {\n",
       "      display:flex;\n",
       "      flex-wrap:wrap;\n",
       "      gap: 12px;\n",
       "    }\n",
       "\n",
       "    .colab-df-convert {\n",
       "      background-color: #E8F0FE;\n",
       "      border: none;\n",
       "      border-radius: 50%;\n",
       "      cursor: pointer;\n",
       "      display: none;\n",
       "      fill: #1967D2;\n",
       "      height: 32px;\n",
       "      padding: 0 0 0 0;\n",
       "      width: 32px;\n",
       "    }\n",
       "\n",
       "    .colab-df-convert:hover {\n",
       "      background-color: #E2EBFA;\n",
       "      box-shadow: 0px 1px 2px rgba(60, 64, 67, 0.3), 0px 1px 3px 1px rgba(60, 64, 67, 0.15);\n",
       "      fill: #174EA6;\n",
       "    }\n",
       "\n",
       "    [theme=dark] .colab-df-convert {\n",
       "      background-color: #3B4455;\n",
       "      fill: #D2E3FC;\n",
       "    }\n",
       "\n",
       "    [theme=dark] .colab-df-convert:hover {\n",
       "      background-color: #434B5C;\n",
       "      box-shadow: 0px 1px 3px 1px rgba(0, 0, 0, 0.15);\n",
       "      filter: drop-shadow(0px 1px 2px rgba(0, 0, 0, 0.3));\n",
       "      fill: #FFFFFF;\n",
       "    }\n",
       "  </style>\n",
       "\n",
       "      <script>\n",
       "        const buttonEl =\n",
       "          document.querySelector('#df-4e3a5706-c80b-4c7d-ac34-81cbd1ebba4a button.colab-df-convert');\n",
       "        buttonEl.style.display =\n",
       "          google.colab.kernel.accessAllowed ? 'block' : 'none';\n",
       "\n",
       "        async function convertToInteractive(key) {\n",
       "          const element = document.querySelector('#df-4e3a5706-c80b-4c7d-ac34-81cbd1ebba4a');\n",
       "          const dataTable =\n",
       "            await google.colab.kernel.invokeFunction('convertToInteractive',\n",
       "                                                     [key], {});\n",
       "          if (!dataTable) return;\n",
       "\n",
       "          const docLinkHtml = 'Like what you see? Visit the ' +\n",
       "            '<a target=\"_blank\" href=https://colab.research.google.com/notebooks/data_table.ipynb>data table notebook</a>'\n",
       "            + ' to learn more about interactive tables.';\n",
       "          element.innerHTML = '';\n",
       "          dataTable['output_type'] = 'display_data';\n",
       "          await google.colab.output.renderOutput(dataTable, element);\n",
       "          const docLink = document.createElement('div');\n",
       "          docLink.innerHTML = docLinkHtml;\n",
       "          element.appendChild(docLink);\n",
       "        }\n",
       "      </script>\n",
       "    </div>\n",
       "  </div>\n",
       "  "
      ],
      "text/plain": [
       "   Unnamed: 0.1  Unnamed: 0  APPLICATION_ID ACTIVITY ADMINISTERING_IC  \\\n",
       "0         18886       18886         8522938      F32               EY   \n",
       "1         19227       19227         8528613      K99               EY   \n",
       "2         19380       19380         8441517      R21               HG   \n",
       "3         19666       19666         8750685      ZIA               HG   \n",
       "4         29268       29268         8502765      R01               NS   \n",
       "\n",
       "   APPLICATION_TYPE ARRA_FUNDED AWARD_NOTICE_DATE BUDGET_START  BUDGET_END  \\\n",
       "0               1.0           N         5/13/2013   2013-09-01   8/31/2014   \n",
       "1               5.0           N         8/26/2013   2013-09-01   8/31/2015   \n",
       "2               5.0           N        12/10/2012   2013-01-01  12/31/2015   \n",
       "3               1.0           N               NaN          NaT         NaN   \n",
       "4               7.0           N         9/13/2013   2013-07-01   9/30/2014   \n",
       "\n",
       "   ...  SUBPROJECT_ID SUFFIX SUPPORT_YEAR DIRECT_COST_AMT INDIRECT_COST_AMT  \\\n",
       "0  ...            NaN    NaN          1.0         47114.0               NaN   \n",
       "1  ...            NaN    NaN          2.0         83333.0            6667.0   \n",
       "2  ...            NaN    NaN          2.0        125000.0           75000.0   \n",
       "3  ...            NaN    NaN          9.0             NaN               NaN   \n",
       "4  ...            NaN    NaN          5.0        236425.0          212783.0   \n",
       "\n",
       "  TOTAL_COST  TOTAL_COST_SUB_PROJECT PROJECT_START_CY PROJECT_START_YEAR  \\\n",
       "0    47114.0                     NaN           2013Q4         2013-09-01   \n",
       "1    90000.0                     NaN           2012Q4         2012-09-01   \n",
       "2   200000.0                     NaN           2012Q2         2012-03-09   \n",
       "3   589154.0                     NaN              NaT                NaT   \n",
       "4   449208.0                     NaN           2009Q4         2009-08-01   \n",
       "\n",
       "  BUDGET_START_YEAR  \n",
       "0        2013-09-01  \n",
       "1        2013-09-01  \n",
       "2        2013-01-01  \n",
       "3               NaT  \n",
       "4        2013-07-01  \n",
       "\n",
       "[5 rows x 49 columns]"
      ]
     },
     "execution_count": 44,
     "metadata": {},
     "output_type": "execute_result"
    }
   ],
   "source": [
    "a_p.head()"
   ]
  },
  {
   "cell_type": "code",
   "execution_count": 45,
   "metadata": {
    "colab": {
     "base_uri": "https://localhost:8080/"
    },
    "executionInfo": {
     "elapsed": 4,
     "status": "ok",
     "timestamp": 1683137635768,
     "user": {
      "displayName": "Danny Tsoi",
      "userId": "06065604599370212945"
     },
     "user_tz": 240
    },
    "id": "-xVxXoTFx0mw",
    "outputId": "c5543358-b833-4587-e85a-8619ada37648"
   },
   "outputs": [
    {
     "data": {
      "text/plain": [
       "Index(['Unnamed: 0.1', 'Unnamed: 0', 'APPLICATION_ID', 'ACTIVITY',\n",
       "       'ADMINISTERING_IC', 'APPLICATION_TYPE', 'ARRA_FUNDED',\n",
       "       'AWARD_NOTICE_DATE', 'BUDGET_START', 'BUDGET_END', 'CFDA_CODE',\n",
       "       'CORE_PROJECT_NUM', 'ED_INST_TYPE', 'FOA_NUMBER', 'FULL_PROJECT_NUM',\n",
       "       'FUNDING_MECHANISM', 'FY', 'IC_NAME', 'NIH_SPENDING_CATS', 'ORG_CITY',\n",
       "       'ORG_COUNTRY', 'ORG_DEPT', 'ORG_DISTRICT', 'ORG_DUNS', 'ORG_FIPS',\n",
       "       'ORG_NAME', 'ORG_STATE', 'ORG_ZIPCODE', 'PHR', 'PI_IDS', 'PI_NAMEs',\n",
       "       'PROGRAM_OFFICER_NAME', 'PROJECT_START', 'PROJECT_END', 'PROJECT_TERMS',\n",
       "       'PROJECT_TITLE', 'SERIAL_NUMBER', 'STUDY_SECTION', 'STUDY_SECTION_NAME',\n",
       "       'SUBPROJECT_ID', 'SUFFIX', 'SUPPORT_YEAR', 'DIRECT_COST_AMT',\n",
       "       'INDIRECT_COST_AMT', 'TOTAL_COST', 'TOTAL_COST_SUB_PROJECT',\n",
       "       'PROJECT_START_CY', 'PROJECT_START_YEAR', 'BUDGET_START_YEAR'],\n",
       "      dtype='object')"
      ]
     },
     "execution_count": 45,
     "metadata": {},
     "output_type": "execute_result"
    }
   ],
   "source": [
    "a_p.columns"
   ]
  },
  {
   "cell_type": "code",
   "execution_count": 48,
   "metadata": {
    "executionInfo": {
     "elapsed": 1322,
     "status": "ok",
     "timestamp": 1683137736465,
     "user": {
      "displayName": "Danny Tsoi",
      "userId": "06065604599370212945"
     },
     "user_tz": 240
    },
    "id": "sYfvzHxYDeM-"
   },
   "outputs": [],
   "source": [
    "# View the first 3 observations for select variables \n",
    "a_p[['PROJECT_START_YEAR', 'PROJECT_START']].head(3)\n",
    "\n",
    "# Create a new data frame that has a variable where the PROJECT_START_YEAR is 2014\n",
    "a_p_new = a_p[a_p['PROJECT_START_YEAR'] >= 2014]\n",
    "\n",
    "# Group by Project Start/End Year and FY\n",
    "a_p_proj_grp = a_p.groupby(['FY', 'PROJECT_START_YEAR'])[\"PROJECT_END_YEAR\"].value_counts()\n",
    "a_p_proj_grp.to_csv(\"Autism_Project_Start_FY_1.csv\")\n",
    "\n",
    "# Group by Budget Start/End Year and FY\n",
    "a_p_budg_grp = a_p.groupby(['FY', 'BUDGET_START_YEAR'])[\"BUDGET_END_YEAR\"].value_counts()\n",
    "a_p_budg_grp.to_csv(\"Autism_Budget_Start_FY_1.csv\")\n",
    "\n"
   ]
  },
  {
   "cell_type": "code",
   "execution_count": 49,
   "metadata": {
    "colab": {
     "base_uri": "https://localhost:8080/"
    },
    "executionInfo": {
     "elapsed": 1662,
     "status": "ok",
     "timestamp": 1683137744282,
     "user": {
      "displayName": "Danny Tsoi",
      "userId": "06065604599370212945"
     },
     "user_tz": 240
    },
    "id": "UM5txoc0LoQA",
    "outputId": "d55b6082-8787-498f-e411-ab28172a24c2"
   },
   "outputs": [
    {
     "data": {
      "text/plain": [
       "FY    PROJECT_START_YEAR  BUDGET_START_YEAR\n",
       "2012  1975.0              2011.0               1\n",
       "      1977.0              2012.0               1\n",
       "      1987.0              2012.0               1\n",
       "      1994.0              2012.0               1\n",
       "      1996.0              2012.0               2\n",
       "Name: BUDGET_START_YEAR, dtype: int64"
      ]
     },
     "execution_count": 49,
     "metadata": {},
     "output_type": "execute_result"
    }
   ],
   "source": [
    "# Group by Project and Budget Start Year\n",
    "\n",
    "a_p_grp = a_p.groupby(['FY', 'PROJECT_START_YEAR'])[\"BUDGET_START_YEAR\"].value_counts()\n",
    "a_p_grp.to_csv(\"Autism_Budget_Project_FY_1.csv\")\n",
    "\n",
    "a_p_grp.head()"
   ]
  },
  {
   "cell_type": "code",
   "execution_count": 50,
   "metadata": {
    "colab": {
     "base_uri": "https://localhost:8080/"
    },
    "executionInfo": {
     "elapsed": 1089,
     "status": "ok",
     "timestamp": 1683137748235,
     "user": {
      "displayName": "Danny Tsoi",
      "userId": "06065604599370212945"
     },
     "user_tz": 240
    },
    "id": "dEGwWhRfD2Vj",
    "outputId": "2cef54b1-ad6a-472d-b761-ab9c3a136ac5"
   },
   "outputs": [
    {
     "data": {
      "text/plain": [
       "FY    PROJECT_START_YEAR  PROJECT_END_YEAR\n",
       "2012  1975.0              2013.0              1\n",
       "      1977.0              2016.0              1\n",
       "      1987.0              2017.0              1\n",
       "      1994.0              2015.0              1\n",
       "      1996.0              2016.0              2\n",
       "Name: PROJECT_END_YEAR, dtype: int64"
      ]
     },
     "execution_count": 50,
     "metadata": {},
     "output_type": "execute_result"
    }
   ],
   "source": [
    "a_p_proj_grp.head()\n"
   ]
  },
  {
   "cell_type": "code",
   "execution_count": 51,
   "metadata": {
    "colab": {
     "base_uri": "https://localhost:8080/"
    },
    "executionInfo": {
     "elapsed": 418,
     "status": "ok",
     "timestamp": 1683137751152,
     "user": {
      "displayName": "Danny Tsoi",
      "userId": "06065604599370212945"
     },
     "user_tz": 240
    },
    "id": "bNhmsZ_NG-NC",
    "outputId": "d4fdb800-f8a1-4ad6-ab68-66a5f132e8db"
   },
   "outputs": [
    {
     "data": {
      "text/plain": [
       "FY    BUDGET_START_YEAR  BUDGET_END_YEAR\n",
       "2012  2011.0             2012.0              30\n",
       "                         2013.0               1\n",
       "                         2014.0               1\n",
       "      2012.0             2013.0             317\n",
       "                         2014.0              43\n",
       "Name: BUDGET_END_YEAR, dtype: int64"
      ]
     },
     "execution_count": 51,
     "metadata": {},
     "output_type": "execute_result"
    }
   ],
   "source": [
    "a_p_budg_grp.head()"
   ]
  },
  {
   "cell_type": "code",
   "execution_count": 52,
   "metadata": {
    "colab": {
     "base_uri": "https://localhost:8080/",
     "height": 206
    },
    "executionInfo": {
     "elapsed": 519,
     "status": "ok",
     "timestamp": 1683137754331,
     "user": {
      "displayName": "Danny Tsoi",
      "userId": "06065604599370212945"
     },
     "user_tz": 240
    },
    "id": "7rIFOVhjWaBf",
    "outputId": "c3b36154-9992-4759-f6ab-1f8712c5d684"
   },
   "outputs": [
    {
     "data": {
      "text/html": [
       "\n",
       "  <div id=\"df-8aafb496-1d42-4be6-b7d5-c37dacd93241\">\n",
       "    <div class=\"colab-df-container\">\n",
       "      <div>\n",
       "<style scoped>\n",
       "    .dataframe tbody tr th:only-of-type {\n",
       "        vertical-align: middle;\n",
       "    }\n",
       "\n",
       "    .dataframe tbody tr th {\n",
       "        vertical-align: top;\n",
       "    }\n",
       "\n",
       "    .dataframe thead th {\n",
       "        text-align: right;\n",
       "    }\n",
       "</style>\n",
       "<table border=\"1\" class=\"dataframe\">\n",
       "  <thead>\n",
       "    <tr style=\"text-align: right;\">\n",
       "      <th></th>\n",
       "      <th>FY</th>\n",
       "      <th>BUDGET_START_YEAR</th>\n",
       "      <th>BUDGET_END_YEAR</th>\n",
       "      <th>Count</th>\n",
       "    </tr>\n",
       "  </thead>\n",
       "  <tbody>\n",
       "    <tr>\n",
       "      <th>0</th>\n",
       "      <td>2012</td>\n",
       "      <td>2011.0</td>\n",
       "      <td>2012.0</td>\n",
       "      <td>30</td>\n",
       "    </tr>\n",
       "    <tr>\n",
       "      <th>1</th>\n",
       "      <td>2012</td>\n",
       "      <td>2011.0</td>\n",
       "      <td>2013.0</td>\n",
       "      <td>1</td>\n",
       "    </tr>\n",
       "    <tr>\n",
       "      <th>2</th>\n",
       "      <td>2012</td>\n",
       "      <td>2011.0</td>\n",
       "      <td>2014.0</td>\n",
       "      <td>1</td>\n",
       "    </tr>\n",
       "    <tr>\n",
       "      <th>3</th>\n",
       "      <td>2012</td>\n",
       "      <td>2012.0</td>\n",
       "      <td>2013.0</td>\n",
       "      <td>317</td>\n",
       "    </tr>\n",
       "    <tr>\n",
       "      <th>4</th>\n",
       "      <td>2012</td>\n",
       "      <td>2012.0</td>\n",
       "      <td>2014.0</td>\n",
       "      <td>43</td>\n",
       "    </tr>\n",
       "  </tbody>\n",
       "</table>\n",
       "</div>\n",
       "      <button class=\"colab-df-convert\" onclick=\"convertToInteractive('df-8aafb496-1d42-4be6-b7d5-c37dacd93241')\"\n",
       "              title=\"Convert this dataframe to an interactive table.\"\n",
       "              style=\"display:none;\">\n",
       "        \n",
       "  <svg xmlns=\"http://www.w3.org/2000/svg\" height=\"24px\"viewBox=\"0 0 24 24\"\n",
       "       width=\"24px\">\n",
       "    <path d=\"M0 0h24v24H0V0z\" fill=\"none\"/>\n",
       "    <path d=\"M18.56 5.44l.94 2.06.94-2.06 2.06-.94-2.06-.94-.94-2.06-.94 2.06-2.06.94zm-11 1L8.5 8.5l.94-2.06 2.06-.94-2.06-.94L8.5 2.5l-.94 2.06-2.06.94zm10 10l.94 2.06.94-2.06 2.06-.94-2.06-.94-.94-2.06-.94 2.06-2.06.94z\"/><path d=\"M17.41 7.96l-1.37-1.37c-.4-.4-.92-.59-1.43-.59-.52 0-1.04.2-1.43.59L10.3 9.45l-7.72 7.72c-.78.78-.78 2.05 0 2.83L4 21.41c.39.39.9.59 1.41.59.51 0 1.02-.2 1.41-.59l7.78-7.78 2.81-2.81c.8-.78.8-2.07 0-2.86zM5.41 20L4 18.59l7.72-7.72 1.47 1.35L5.41 20z\"/>\n",
       "  </svg>\n",
       "      </button>\n",
       "      \n",
       "  <style>\n",
       "    .colab-df-container {\n",
       "      display:flex;\n",
       "      flex-wrap:wrap;\n",
       "      gap: 12px;\n",
       "    }\n",
       "\n",
       "    .colab-df-convert {\n",
       "      background-color: #E8F0FE;\n",
       "      border: none;\n",
       "      border-radius: 50%;\n",
       "      cursor: pointer;\n",
       "      display: none;\n",
       "      fill: #1967D2;\n",
       "      height: 32px;\n",
       "      padding: 0 0 0 0;\n",
       "      width: 32px;\n",
       "    }\n",
       "\n",
       "    .colab-df-convert:hover {\n",
       "      background-color: #E2EBFA;\n",
       "      box-shadow: 0px 1px 2px rgba(60, 64, 67, 0.3), 0px 1px 3px 1px rgba(60, 64, 67, 0.15);\n",
       "      fill: #174EA6;\n",
       "    }\n",
       "\n",
       "    [theme=dark] .colab-df-convert {\n",
       "      background-color: #3B4455;\n",
       "      fill: #D2E3FC;\n",
       "    }\n",
       "\n",
       "    [theme=dark] .colab-df-convert:hover {\n",
       "      background-color: #434B5C;\n",
       "      box-shadow: 0px 1px 3px 1px rgba(0, 0, 0, 0.15);\n",
       "      filter: drop-shadow(0px 1px 2px rgba(0, 0, 0, 0.3));\n",
       "      fill: #FFFFFF;\n",
       "    }\n",
       "  </style>\n",
       "\n",
       "      <script>\n",
       "        const buttonEl =\n",
       "          document.querySelector('#df-8aafb496-1d42-4be6-b7d5-c37dacd93241 button.colab-df-convert');\n",
       "        buttonEl.style.display =\n",
       "          google.colab.kernel.accessAllowed ? 'block' : 'none';\n",
       "\n",
       "        async function convertToInteractive(key) {\n",
       "          const element = document.querySelector('#df-8aafb496-1d42-4be6-b7d5-c37dacd93241');\n",
       "          const dataTable =\n",
       "            await google.colab.kernel.invokeFunction('convertToInteractive',\n",
       "                                                     [key], {});\n",
       "          if (!dataTable) return;\n",
       "\n",
       "          const docLinkHtml = 'Like what you see? Visit the ' +\n",
       "            '<a target=\"_blank\" href=https://colab.research.google.com/notebooks/data_table.ipynb>data table notebook</a>'\n",
       "            + ' to learn more about interactive tables.';\n",
       "          element.innerHTML = '';\n",
       "          dataTable['output_type'] = 'display_data';\n",
       "          await google.colab.output.renderOutput(dataTable, element);\n",
       "          const docLink = document.createElement('div');\n",
       "          docLink.innerHTML = docLinkHtml;\n",
       "          element.appendChild(docLink);\n",
       "        }\n",
       "      </script>\n",
       "    </div>\n",
       "  </div>\n",
       "  "
      ],
      "text/plain": [
       "     FY  BUDGET_START_YEAR  BUDGET_END_YEAR  Count\n",
       "0  2012             2011.0           2012.0     30\n",
       "1  2012             2011.0           2013.0      1\n",
       "2  2012             2011.0           2014.0      1\n",
       "3  2012             2012.0           2013.0    317\n",
       "4  2012             2012.0           2014.0     43"
      ]
     },
     "execution_count": 52,
     "metadata": {},
     "output_type": "execute_result"
    }
   ],
   "source": [
    "a_p_budg = pd.read_csv(\"Autism_Budget_Start_FY_1.csv\", encoding='latin-1')\n",
    "\n",
    "# Rename CORE_PROJECT_NUM to Autism_Core_Projects\n",
    "a_p_budg.rename(columns={'BUDGET_END_YEAR.1':'Count'}, inplace = True)\n",
    "\n",
    "a_p_budg.head()"
   ]
  },
  {
   "cell_type": "code",
   "execution_count": 53,
   "metadata": {
    "executionInfo": {
     "elapsed": 468,
     "status": "ok",
     "timestamp": 1683137758581,
     "user": {
      "displayName": "Danny Tsoi",
      "userId": "06065604599370212945"
     },
     "user_tz": 240
    },
    "id": "kUYPLQEAuMbn"
   },
   "outputs": [],
   "source": [
    "a_p_new_grp = a_p.groupby(['FY', 'BUDGET_START_YEAR', 'BUDGET_END_YEAR','PROJECT_START_YEAR', 'PROJECT_END_YEAR']) ['APPLICATION_ID'].nunique()\n",
    "\n",
    "a_p_new_grp.head()\n",
    "\n",
    "a_p_new_grp.to_csv(\"Autism_New_Projects.csv\")\n",
    "\n",
    "a_p_new_grp = pd.read_csv(\"Autism_New_Projects.csv\", encoding = False)\n",
    "\n",
    "a_p_new_grp.rename(columns={'APPLICATION_ID':'Count'}, inplace = True)"
   ]
  },
  {
   "cell_type": "code",
   "execution_count": 56,
   "metadata": {
    "executionInfo": {
     "elapsed": 305,
     "status": "ok",
     "timestamp": 1683137806648,
     "user": {
      "displayName": "Danny Tsoi",
      "userId": "06065604599370212945"
     },
     "user_tz": 240
    },
    "id": "M7TMmxoZ0iwH"
   },
   "outputs": [],
   "source": [
    "# convert PROJECT_START into a date variable\n",
    "a_p_new_grp['PROJECT_START_YEAR'] = pd.to_datetime(a_p_new_grp['PROJECT_START_YEAR'])\n",
    "\n",
    "\n",
    "# convert BUDGET_START into a date variable\n",
    "a_p_new_grp['BUDGET_START_YEAR'] = pd.to_datetime(a_p_new_grp['BUDGET_START_YEAR'])\n"
   ]
  },
  {
   "cell_type": "code",
   "execution_count": 57,
   "metadata": {
    "executionInfo": {
     "elapsed": 865,
     "status": "ok",
     "timestamp": 1683137809613,
     "user": {
      "displayName": "Danny Tsoi",
      "userId": "06065604599370212945"
     },
     "user_tz": 240
    },
    "id": "L8ex1c-W1YfZ"
   },
   "outputs": [],
   "source": [
    "a_p_new_grp.to_csv(\"Autism_New_Projects.csv\")"
   ]
  },
  {
   "cell_type": "markdown",
   "metadata": {
    "id": "D_LJEuGO7b86"
   },
   "source": [
    "# Measure - Ratio of Ongoing and New Projects"
   ]
  },
  {
   "cell_type": "code",
   "execution_count": 7,
   "metadata": {
    "colab": {
     "base_uri": "https://localhost:8080/",
     "height": 254
    },
    "executionInfo": {
     "elapsed": 1207,
     "status": "ok",
     "timestamp": 1683156199017,
     "user": {
      "displayName": "Danny Tsoi",
      "userId": "06065604599370212945"
     },
     "user_tz": 240
    },
    "id": "t1Cj5sUI0w5s",
    "outputId": "ef46c7db-97de-496e-ca47-dab907c75b8e"
   },
   "outputs": [
    {
     "data": {
      "text/html": [
       "\n",
       "  <div id=\"df-7141ce83-a0c4-4a2f-be86-1a5dd8ba790d\">\n",
       "    <div class=\"colab-df-container\">\n",
       "      <div>\n",
       "<style scoped>\n",
       "    .dataframe tbody tr th:only-of-type {\n",
       "        vertical-align: middle;\n",
       "    }\n",
       "\n",
       "    .dataframe tbody tr th {\n",
       "        vertical-align: top;\n",
       "    }\n",
       "\n",
       "    .dataframe thead th {\n",
       "        text-align: right;\n",
       "    }\n",
       "</style>\n",
       "<table border=\"1\" class=\"dataframe\">\n",
       "  <thead>\n",
       "    <tr style=\"text-align: right;\">\n",
       "      <th></th>\n",
       "      <th>Unnamed: 0.1</th>\n",
       "      <th>Unnamed: 0</th>\n",
       "      <th>APPLICATION_ID</th>\n",
       "      <th>ACTIVITY</th>\n",
       "      <th>ADMINISTERING_IC</th>\n",
       "      <th>APPLICATION_TYPE</th>\n",
       "      <th>ARRA_FUNDED</th>\n",
       "      <th>AWARD_NOTICE_DATE</th>\n",
       "      <th>BUDGET_START</th>\n",
       "      <th>BUDGET_END</th>\n",
       "      <th>...</th>\n",
       "      <th>SUFFIX</th>\n",
       "      <th>SUPPORT_YEAR</th>\n",
       "      <th>DIRECT_COST_AMT</th>\n",
       "      <th>INDIRECT_COST_AMT</th>\n",
       "      <th>TOTAL_COST</th>\n",
       "      <th>TOTAL_COST_SUB_PROJECT</th>\n",
       "      <th>PROJECT_START_YEAR</th>\n",
       "      <th>PROJECT_END_YEAR</th>\n",
       "      <th>BUDGET_START_YEAR</th>\n",
       "      <th>BUDGET_END_YEAR</th>\n",
       "    </tr>\n",
       "  </thead>\n",
       "  <tbody>\n",
       "    <tr>\n",
       "      <th>0</th>\n",
       "      <td>18886</td>\n",
       "      <td>18886</td>\n",
       "      <td>8522938</td>\n",
       "      <td>F32</td>\n",
       "      <td>EY</td>\n",
       "      <td>1.0</td>\n",
       "      <td>N</td>\n",
       "      <td>5/13/2013</td>\n",
       "      <td>2013-09-01</td>\n",
       "      <td>2014-08-31</td>\n",
       "      <td>...</td>\n",
       "      <td>NaN</td>\n",
       "      <td>1.0</td>\n",
       "      <td>47114.0</td>\n",
       "      <td>NaN</td>\n",
       "      <td>47114.0</td>\n",
       "      <td>NaN</td>\n",
       "      <td>2013.0</td>\n",
       "      <td>2016.0</td>\n",
       "      <td>2013.0</td>\n",
       "      <td>2014.0</td>\n",
       "    </tr>\n",
       "    <tr>\n",
       "      <th>1</th>\n",
       "      <td>19227</td>\n",
       "      <td>19227</td>\n",
       "      <td>8528613</td>\n",
       "      <td>K99</td>\n",
       "      <td>EY</td>\n",
       "      <td>5.0</td>\n",
       "      <td>N</td>\n",
       "      <td>8/26/2013</td>\n",
       "      <td>2013-09-01</td>\n",
       "      <td>2015-08-31</td>\n",
       "      <td>...</td>\n",
       "      <td>NaN</td>\n",
       "      <td>2.0</td>\n",
       "      <td>83333.0</td>\n",
       "      <td>6667.0</td>\n",
       "      <td>90000.0</td>\n",
       "      <td>NaN</td>\n",
       "      <td>2012.0</td>\n",
       "      <td>2015.0</td>\n",
       "      <td>2013.0</td>\n",
       "      <td>2015.0</td>\n",
       "    </tr>\n",
       "    <tr>\n",
       "      <th>2</th>\n",
       "      <td>19380</td>\n",
       "      <td>19380</td>\n",
       "      <td>8441517</td>\n",
       "      <td>R21</td>\n",
       "      <td>HG</td>\n",
       "      <td>5.0</td>\n",
       "      <td>N</td>\n",
       "      <td>12/10/2012</td>\n",
       "      <td>2013-01-01</td>\n",
       "      <td>2015-12-31</td>\n",
       "      <td>...</td>\n",
       "      <td>NaN</td>\n",
       "      <td>2.0</td>\n",
       "      <td>125000.0</td>\n",
       "      <td>75000.0</td>\n",
       "      <td>200000.0</td>\n",
       "      <td>NaN</td>\n",
       "      <td>2012.0</td>\n",
       "      <td>2015.0</td>\n",
       "      <td>2013.0</td>\n",
       "      <td>2015.0</td>\n",
       "    </tr>\n",
       "  </tbody>\n",
       "</table>\n",
       "<p>3 rows × 50 columns</p>\n",
       "</div>\n",
       "      <button class=\"colab-df-convert\" onclick=\"convertToInteractive('df-7141ce83-a0c4-4a2f-be86-1a5dd8ba790d')\"\n",
       "              title=\"Convert this dataframe to an interactive table.\"\n",
       "              style=\"display:none;\">\n",
       "        \n",
       "  <svg xmlns=\"http://www.w3.org/2000/svg\" height=\"24px\"viewBox=\"0 0 24 24\"\n",
       "       width=\"24px\">\n",
       "    <path d=\"M0 0h24v24H0V0z\" fill=\"none\"/>\n",
       "    <path d=\"M18.56 5.44l.94 2.06.94-2.06 2.06-.94-2.06-.94-.94-2.06-.94 2.06-2.06.94zm-11 1L8.5 8.5l.94-2.06 2.06-.94-2.06-.94L8.5 2.5l-.94 2.06-2.06.94zm10 10l.94 2.06.94-2.06 2.06-.94-2.06-.94-.94-2.06-.94 2.06-2.06.94z\"/><path d=\"M17.41 7.96l-1.37-1.37c-.4-.4-.92-.59-1.43-.59-.52 0-1.04.2-1.43.59L10.3 9.45l-7.72 7.72c-.78.78-.78 2.05 0 2.83L4 21.41c.39.39.9.59 1.41.59.51 0 1.02-.2 1.41-.59l7.78-7.78 2.81-2.81c.8-.78.8-2.07 0-2.86zM5.41 20L4 18.59l7.72-7.72 1.47 1.35L5.41 20z\"/>\n",
       "  </svg>\n",
       "      </button>\n",
       "      \n",
       "  <style>\n",
       "    .colab-df-container {\n",
       "      display:flex;\n",
       "      flex-wrap:wrap;\n",
       "      gap: 12px;\n",
       "    }\n",
       "\n",
       "    .colab-df-convert {\n",
       "      background-color: #E8F0FE;\n",
       "      border: none;\n",
       "      border-radius: 50%;\n",
       "      cursor: pointer;\n",
       "      display: none;\n",
       "      fill: #1967D2;\n",
       "      height: 32px;\n",
       "      padding: 0 0 0 0;\n",
       "      width: 32px;\n",
       "    }\n",
       "\n",
       "    .colab-df-convert:hover {\n",
       "      background-color: #E2EBFA;\n",
       "      box-shadow: 0px 1px 2px rgba(60, 64, 67, 0.3), 0px 1px 3px 1px rgba(60, 64, 67, 0.15);\n",
       "      fill: #174EA6;\n",
       "    }\n",
       "\n",
       "    [theme=dark] .colab-df-convert {\n",
       "      background-color: #3B4455;\n",
       "      fill: #D2E3FC;\n",
       "    }\n",
       "\n",
       "    [theme=dark] .colab-df-convert:hover {\n",
       "      background-color: #434B5C;\n",
       "      box-shadow: 0px 1px 3px 1px rgba(0, 0, 0, 0.15);\n",
       "      filter: drop-shadow(0px 1px 2px rgba(0, 0, 0, 0.3));\n",
       "      fill: #FFFFFF;\n",
       "    }\n",
       "  </style>\n",
       "\n",
       "      <script>\n",
       "        const buttonEl =\n",
       "          document.querySelector('#df-7141ce83-a0c4-4a2f-be86-1a5dd8ba790d button.colab-df-convert');\n",
       "        buttonEl.style.display =\n",
       "          google.colab.kernel.accessAllowed ? 'block' : 'none';\n",
       "\n",
       "        async function convertToInteractive(key) {\n",
       "          const element = document.querySelector('#df-7141ce83-a0c4-4a2f-be86-1a5dd8ba790d');\n",
       "          const dataTable =\n",
       "            await google.colab.kernel.invokeFunction('convertToInteractive',\n",
       "                                                     [key], {});\n",
       "          if (!dataTable) return;\n",
       "\n",
       "          const docLinkHtml = 'Like what you see? Visit the ' +\n",
       "            '<a target=\"_blank\" href=https://colab.research.google.com/notebooks/data_table.ipynb>data table notebook</a>'\n",
       "            + ' to learn more about interactive tables.';\n",
       "          element.innerHTML = '';\n",
       "          dataTable['output_type'] = 'display_data';\n",
       "          await google.colab.output.renderOutput(dataTable, element);\n",
       "          const docLink = document.createElement('div');\n",
       "          docLink.innerHTML = docLinkHtml;\n",
       "          element.appendChild(docLink);\n",
       "        }\n",
       "      </script>\n",
       "    </div>\n",
       "  </div>\n",
       "  "
      ],
      "text/plain": [
       "   Unnamed: 0.1  Unnamed: 0  APPLICATION_ID ACTIVITY ADMINISTERING_IC  \\\n",
       "0         18886       18886         8522938      F32               EY   \n",
       "1         19227       19227         8528613      K99               EY   \n",
       "2         19380       19380         8441517      R21               HG   \n",
       "\n",
       "   APPLICATION_TYPE ARRA_FUNDED AWARD_NOTICE_DATE BUDGET_START BUDGET_END  \\\n",
       "0               1.0           N         5/13/2013   2013-09-01 2014-08-31   \n",
       "1               5.0           N         8/26/2013   2013-09-01 2015-08-31   \n",
       "2               5.0           N        12/10/2012   2013-01-01 2015-12-31   \n",
       "\n",
       "   ...  SUFFIX SUPPORT_YEAR DIRECT_COST_AMT INDIRECT_COST_AMT TOTAL_COST  \\\n",
       "0  ...     NaN          1.0         47114.0               NaN    47114.0   \n",
       "1  ...     NaN          2.0         83333.0            6667.0    90000.0   \n",
       "2  ...     NaN          2.0        125000.0           75000.0   200000.0   \n",
       "\n",
       "  TOTAL_COST_SUB_PROJECT  PROJECT_START_YEAR PROJECT_END_YEAR  \\\n",
       "0                    NaN              2013.0           2016.0   \n",
       "1                    NaN              2012.0           2015.0   \n",
       "2                    NaN              2012.0           2015.0   \n",
       "\n",
       "  BUDGET_START_YEAR BUDGET_END_YEAR  \n",
       "0            2013.0          2014.0  \n",
       "1            2013.0          2015.0  \n",
       "2            2013.0          2015.0  \n",
       "\n",
       "[3 rows x 50 columns]"
      ]
     },
     "execution_count": 7,
     "metadata": {},
     "output_type": "execute_result"
    }
   ],
   "source": [
    "# Importing data\n",
    "a_p = pd.read_csv(\"autism_projects.csv\", encoding = 'latin-1')\n",
    "\n",
    "a_p.describe()\n",
    "\n",
    "# convert PROJECT_START into a date variable\n",
    "a_p['PROJECT_START'] = pd.to_datetime(a_p['PROJECT_START'])\n",
    "\n",
    "# Create a new year variable from the PROJECT_START\n",
    "a_p['PROJECT_START_YEAR'] = a_p['PROJECT_START'].dt.year\n",
    "\n",
    "# convert PROJECT_START into a date variable\n",
    "a_p['PROJECT_END'] = pd.to_datetime(a_p['PROJECT_END'])\n",
    "\n",
    "# Create a new year variable from the PROJECT_END\n",
    "a_p['PROJECT_END_YEAR'] = a_p['PROJECT_END'].dt.year\n",
    "\n",
    "# convert PROJECT_START into a date variable\n",
    "a_p['BUDGET_START'] = pd.to_datetime(a_p['BUDGET_START'])\n",
    "\n",
    "# Create a new year variable from the PROJECT_START\n",
    "a_p['BUDGET_START_YEAR'] = a_p['BUDGET_START'].dt.year\n",
    "\n",
    "# convert PROJECT_START into a date variable\n",
    "a_p['BUDGET_END'] = pd.to_datetime(a_p['BUDGET_END'])\n",
    "\n",
    "# Create a new year variable from the PROJECT_END\n",
    "a_p['BUDGET_END_YEAR'] = a_p['BUDGET_END'].dt.year\n",
    "\n",
    "# View the first 3 observarions for select variables \n",
    "a_p.head(3)"
   ]
  },
  {
   "cell_type": "code",
   "execution_count": 15,
   "metadata": {
    "colab": {
     "base_uri": "https://localhost:8080/"
    },
    "executionInfo": {
     "elapsed": 230,
     "status": "ok",
     "timestamp": 1683156470689,
     "user": {
      "displayName": "Danny Tsoi",
      "userId": "06065604599370212945"
     },
     "user_tz": 240
    },
    "id": "aLnZOxvvwNKc",
    "outputId": "0667c6b8-98b8-4fdc-de17-a97ece078ec1"
   },
   "outputs": [
    {
     "data": {
      "text/plain": [
       "0       1.0\n",
       "1       0.0\n",
       "2       0.0\n",
       "3       0.0\n",
       "4       0.0\n",
       "       ... \n",
       "7269    0.0\n",
       "7270    0.0\n",
       "7271    0.0\n",
       "7272    0.0\n",
       "7273    0.0\n",
       "Name: New, Length: 7274, dtype: float64"
      ]
     },
     "execution_count": 15,
     "metadata": {},
     "output_type": "execute_result"
    }
   ],
   "source": [
    "### Assigning ongoing and new projects\n",
    "\n",
    "a_p.loc[(a_p['PROJECT_START_YEAR'] == a_p['FY']),'New'] = 1\n",
    "a_p.New = a_p.New.fillna(value=0)\n",
    "a_p.New"
   ]
  },
  {
   "cell_type": "code",
   "execution_count": 16,
   "metadata": {
    "executionInfo": {
     "elapsed": 1115,
     "status": "ok",
     "timestamp": 1683156479798,
     "user": {
      "displayName": "Danny Tsoi",
      "userId": "06065604599370212945"
     },
     "user_tz": 240
    },
    "id": "L4yRiyKZjzWb"
   },
   "outputs": [],
   "source": [
    "# Assigning Categorization for research priorities \n",
    "\n",
    "a_p.loc[a_p['PROJECT_TERMS'].str.contains('treatment|services|intervention|lifespan'),'Priority'] = 1\n",
    "a_p.Priority = a_p.Priority.fillna(value=0)\n",
    "a_p.Priority\n",
    "\n",
    "a_p.to_csv(\"autism_with_CAT.csv\")\n"
   ]
  },
  {
   "cell_type": "markdown",
   "metadata": {
    "id": "MT96uBtXj1qa"
   },
   "source": []
  },
  {
   "cell_type": "code",
   "execution_count": 20,
   "metadata": {
    "colab": {
     "base_uri": "https://localhost:8080/"
    },
    "executionInfo": {
     "elapsed": 303,
     "status": "ok",
     "timestamp": 1683156784238,
     "user": {
      "displayName": "Danny Tsoi",
      "userId": "06065604599370212945"
     },
     "user_tz": 240
    },
    "id": "bOCrUo1C7ivq",
    "outputId": "d0314354-4a5d-4d58-aaf9-3127ed0c62e2"
   },
   "outputs": [
    {
     "data": {
      "text/plain": [
       "FY    Priority  New  BUDGET_START_YEAR  BUDGET_END_YEAR  PROJECT_START_YEAR  PROJECT_END_YEAR  PI_NAMEs                                          PI_IDS                      \n",
       "2012  0.0       0.0  2011.0             2012.0           1975.0              2013.0            TAYLOR, PALMER WILLIAM;                           1898468;                        1\n",
       "                                                         2003.0              2013.0            GAO, FEN-BIAO ;                                   6802203;                        1\n",
       "                                                         2007.0              2012.0            PIERCE, KAREN L;                                  1890826;                        1\n",
       "                                                                             2013.0            STRICKLAND, DOROTHY CAY;                          1974164;                        1\n",
       "                                                         2008.0              2013.0            MESSINGER, DANIEL S.; STONE, WENDY L. (contact);  1909355; 1879337 (contact);     1\n",
       "                                                                                                                                                                                ..\n",
       "2021  1.0       1.0  2021.0             2022.0           2021.0              2026.0            WALL, DENNIS PAUL;                                8231445;                        1\n",
       "                                                                                               WETHERBY, AMY M;                                  6474280;                        1\n",
       "                                                                                               YANG, YANG ;                                      12032778;                       2\n",
       "                                        2023.0           2021.0              2023.0            CHANNELL, MARIE MOORE;                            11900536;                       1\n",
       "                     2022.0             2022.0           2022.0              2023.0            DUNHAM, KACIE A;                                  15218226;                       1\n",
       "Name: APPLICATION_ID, Length: 4679, dtype: int64"
      ]
     },
     "execution_count": 20,
     "metadata": {},
     "output_type": "execute_result"
    }
   ],
   "source": [
    "a_p_new_cat = a_p.groupby(['FY', 'Priority', 'New','BUDGET_START_YEAR', 'BUDGET_END_YEAR','PROJECT_START_YEAR', 'PROJECT_END_YEAR', 'PI_NAMEs', 'PI_IDS']) ['APPLICATION_ID'].nunique()\n",
    "\n",
    "a_p_new_cat.to_csv(\"Autism_New_Projects_CAT.csv\")\n",
    "a_p_new_cat"
   ]
  },
  {
   "cell_type": "code",
   "execution_count": 21,
   "metadata": {
    "colab": {
     "base_uri": "https://localhost:8080/",
     "height": 300
    },
    "executionInfo": {
     "elapsed": 190,
     "status": "ok",
     "timestamp": 1683156807892,
     "user": {
      "displayName": "Danny Tsoi",
      "userId": "06065604599370212945"
     },
     "user_tz": 240
    },
    "id": "VcdNsviDz5_Y",
    "outputId": "52ffeb01-3ff6-4926-8f2a-06852467482f"
   },
   "outputs": [
    {
     "data": {
      "text/html": [
       "\n",
       "  <div id=\"df-f729a4e5-fce0-49e6-8806-4453127c95bb\">\n",
       "    <div class=\"colab-df-container\">\n",
       "      <div>\n",
       "<style scoped>\n",
       "    .dataframe tbody tr th:only-of-type {\n",
       "        vertical-align: middle;\n",
       "    }\n",
       "\n",
       "    .dataframe tbody tr th {\n",
       "        vertical-align: top;\n",
       "    }\n",
       "\n",
       "    .dataframe thead th {\n",
       "        text-align: right;\n",
       "    }\n",
       "</style>\n",
       "<table border=\"1\" class=\"dataframe\">\n",
       "  <thead>\n",
       "    <tr style=\"text-align: right;\">\n",
       "      <th></th>\n",
       "      <th>FY</th>\n",
       "      <th>Priority</th>\n",
       "      <th>New</th>\n",
       "      <th>BUDGET_START_YEAR</th>\n",
       "      <th>BUDGET_END_YEAR</th>\n",
       "      <th>PROJECT_START_YEAR</th>\n",
       "      <th>PROJECT_END_YEAR</th>\n",
       "      <th>APPLICATION_ID</th>\n",
       "    </tr>\n",
       "  </thead>\n",
       "  <tbody>\n",
       "    <tr>\n",
       "      <th>count</th>\n",
       "      <td>4679.000000</td>\n",
       "      <td>4679.000000</td>\n",
       "      <td>4679.000000</td>\n",
       "      <td>4679.000000</td>\n",
       "      <td>4679.000000</td>\n",
       "      <td>4679.000000</td>\n",
       "      <td>4679.000000</td>\n",
       "      <td>4679.000000</td>\n",
       "    </tr>\n",
       "    <tr>\n",
       "      <th>mean</th>\n",
       "      <td>2016.946356</td>\n",
       "      <td>0.344732</td>\n",
       "      <td>0.296858</td>\n",
       "      <td>2016.882240</td>\n",
       "      <td>2018.020303</td>\n",
       "      <td>2014.451165</td>\n",
       "      <td>2019.486642</td>\n",
       "      <td>1.027570</td>\n",
       "    </tr>\n",
       "    <tr>\n",
       "      <th>std</th>\n",
       "      <td>2.848518</td>\n",
       "      <td>0.475332</td>\n",
       "      <td>0.456922</td>\n",
       "      <td>2.858428</td>\n",
       "      <td>2.930179</td>\n",
       "      <td>4.730184</td>\n",
       "      <td>3.184269</td>\n",
       "      <td>0.172651</td>\n",
       "    </tr>\n",
       "    <tr>\n",
       "      <th>min</th>\n",
       "      <td>2012.000000</td>\n",
       "      <td>0.000000</td>\n",
       "      <td>0.000000</td>\n",
       "      <td>2010.000000</td>\n",
       "      <td>2012.000000</td>\n",
       "      <td>1975.000000</td>\n",
       "      <td>2012.000000</td>\n",
       "      <td>1.000000</td>\n",
       "    </tr>\n",
       "    <tr>\n",
       "      <th>25%</th>\n",
       "      <td>2015.000000</td>\n",
       "      <td>0.000000</td>\n",
       "      <td>0.000000</td>\n",
       "      <td>2015.000000</td>\n",
       "      <td>2016.000000</td>\n",
       "      <td>2012.000000</td>\n",
       "      <td>2017.000000</td>\n",
       "      <td>1.000000</td>\n",
       "    </tr>\n",
       "    <tr>\n",
       "      <th>50%</th>\n",
       "      <td>2017.000000</td>\n",
       "      <td>0.000000</td>\n",
       "      <td>0.000000</td>\n",
       "      <td>2017.000000</td>\n",
       "      <td>2018.000000</td>\n",
       "      <td>2015.000000</td>\n",
       "      <td>2020.000000</td>\n",
       "      <td>1.000000</td>\n",
       "    </tr>\n",
       "    <tr>\n",
       "      <th>75%</th>\n",
       "      <td>2019.000000</td>\n",
       "      <td>1.000000</td>\n",
       "      <td>1.000000</td>\n",
       "      <td>2019.000000</td>\n",
       "      <td>2021.000000</td>\n",
       "      <td>2017.000000</td>\n",
       "      <td>2022.000000</td>\n",
       "      <td>1.000000</td>\n",
       "    </tr>\n",
       "    <tr>\n",
       "      <th>max</th>\n",
       "      <td>2021.000000</td>\n",
       "      <td>1.000000</td>\n",
       "      <td>1.000000</td>\n",
       "      <td>2022.000000</td>\n",
       "      <td>2025.000000</td>\n",
       "      <td>2022.000000</td>\n",
       "      <td>2029.000000</td>\n",
       "      <td>3.000000</td>\n",
       "    </tr>\n",
       "  </tbody>\n",
       "</table>\n",
       "</div>\n",
       "      <button class=\"colab-df-convert\" onclick=\"convertToInteractive('df-f729a4e5-fce0-49e6-8806-4453127c95bb')\"\n",
       "              title=\"Convert this dataframe to an interactive table.\"\n",
       "              style=\"display:none;\">\n",
       "        \n",
       "  <svg xmlns=\"http://www.w3.org/2000/svg\" height=\"24px\"viewBox=\"0 0 24 24\"\n",
       "       width=\"24px\">\n",
       "    <path d=\"M0 0h24v24H0V0z\" fill=\"none\"/>\n",
       "    <path d=\"M18.56 5.44l.94 2.06.94-2.06 2.06-.94-2.06-.94-.94-2.06-.94 2.06-2.06.94zm-11 1L8.5 8.5l.94-2.06 2.06-.94-2.06-.94L8.5 2.5l-.94 2.06-2.06.94zm10 10l.94 2.06.94-2.06 2.06-.94-2.06-.94-.94-2.06-.94 2.06-2.06.94z\"/><path d=\"M17.41 7.96l-1.37-1.37c-.4-.4-.92-.59-1.43-.59-.52 0-1.04.2-1.43.59L10.3 9.45l-7.72 7.72c-.78.78-.78 2.05 0 2.83L4 21.41c.39.39.9.59 1.41.59.51 0 1.02-.2 1.41-.59l7.78-7.78 2.81-2.81c.8-.78.8-2.07 0-2.86zM5.41 20L4 18.59l7.72-7.72 1.47 1.35L5.41 20z\"/>\n",
       "  </svg>\n",
       "      </button>\n",
       "      \n",
       "  <style>\n",
       "    .colab-df-container {\n",
       "      display:flex;\n",
       "      flex-wrap:wrap;\n",
       "      gap: 12px;\n",
       "    }\n",
       "\n",
       "    .colab-df-convert {\n",
       "      background-color: #E8F0FE;\n",
       "      border: none;\n",
       "      border-radius: 50%;\n",
       "      cursor: pointer;\n",
       "      display: none;\n",
       "      fill: #1967D2;\n",
       "      height: 32px;\n",
       "      padding: 0 0 0 0;\n",
       "      width: 32px;\n",
       "    }\n",
       "\n",
       "    .colab-df-convert:hover {\n",
       "      background-color: #E2EBFA;\n",
       "      box-shadow: 0px 1px 2px rgba(60, 64, 67, 0.3), 0px 1px 3px 1px rgba(60, 64, 67, 0.15);\n",
       "      fill: #174EA6;\n",
       "    }\n",
       "\n",
       "    [theme=dark] .colab-df-convert {\n",
       "      background-color: #3B4455;\n",
       "      fill: #D2E3FC;\n",
       "    }\n",
       "\n",
       "    [theme=dark] .colab-df-convert:hover {\n",
       "      background-color: #434B5C;\n",
       "      box-shadow: 0px 1px 3px 1px rgba(0, 0, 0, 0.15);\n",
       "      filter: drop-shadow(0px 1px 2px rgba(0, 0, 0, 0.3));\n",
       "      fill: #FFFFFF;\n",
       "    }\n",
       "  </style>\n",
       "\n",
       "      <script>\n",
       "        const buttonEl =\n",
       "          document.querySelector('#df-f729a4e5-fce0-49e6-8806-4453127c95bb button.colab-df-convert');\n",
       "        buttonEl.style.display =\n",
       "          google.colab.kernel.accessAllowed ? 'block' : 'none';\n",
       "\n",
       "        async function convertToInteractive(key) {\n",
       "          const element = document.querySelector('#df-f729a4e5-fce0-49e6-8806-4453127c95bb');\n",
       "          const dataTable =\n",
       "            await google.colab.kernel.invokeFunction('convertToInteractive',\n",
       "                                                     [key], {});\n",
       "          if (!dataTable) return;\n",
       "\n",
       "          const docLinkHtml = 'Like what you see? Visit the ' +\n",
       "            '<a target=\"_blank\" href=https://colab.research.google.com/notebooks/data_table.ipynb>data table notebook</a>'\n",
       "            + ' to learn more about interactive tables.';\n",
       "          element.innerHTML = '';\n",
       "          dataTable['output_type'] = 'display_data';\n",
       "          await google.colab.output.renderOutput(dataTable, element);\n",
       "          const docLink = document.createElement('div');\n",
       "          docLink.innerHTML = docLinkHtml;\n",
       "          element.appendChild(docLink);\n",
       "        }\n",
       "      </script>\n",
       "    </div>\n",
       "  </div>\n",
       "  "
      ],
      "text/plain": [
       "                FY     Priority          New  BUDGET_START_YEAR  \\\n",
       "count  4679.000000  4679.000000  4679.000000        4679.000000   \n",
       "mean   2016.946356     0.344732     0.296858        2016.882240   \n",
       "std       2.848518     0.475332     0.456922           2.858428   \n",
       "min    2012.000000     0.000000     0.000000        2010.000000   \n",
       "25%    2015.000000     0.000000     0.000000        2015.000000   \n",
       "50%    2017.000000     0.000000     0.000000        2017.000000   \n",
       "75%    2019.000000     1.000000     1.000000        2019.000000   \n",
       "max    2021.000000     1.000000     1.000000        2022.000000   \n",
       "\n",
       "       BUDGET_END_YEAR  PROJECT_START_YEAR  PROJECT_END_YEAR  APPLICATION_ID  \n",
       "count      4679.000000         4679.000000       4679.000000     4679.000000  \n",
       "mean       2018.020303         2014.451165       2019.486642        1.027570  \n",
       "std           2.930179            4.730184          3.184269        0.172651  \n",
       "min        2012.000000         1975.000000       2012.000000        1.000000  \n",
       "25%        2016.000000         2012.000000       2017.000000        1.000000  \n",
       "50%        2018.000000         2015.000000       2020.000000        1.000000  \n",
       "75%        2021.000000         2017.000000       2022.000000        1.000000  \n",
       "max        2025.000000         2022.000000       2029.000000        3.000000  "
      ]
     },
     "execution_count": 21,
     "metadata": {},
     "output_type": "execute_result"
    }
   ],
   "source": [
    "# Categorization by Research priority and unique applications works!\n",
    "a_p_new_cat = pd.read_csv(\"Autism_New_Projects_CAT.csv\", encoding='latin-1')\n",
    "\n",
    "a_p_new_cat.describe()\n",
    "\n"
   ]
  },
  {
   "cell_type": "code",
   "execution_count": 22,
   "metadata": {
    "colab": {
     "base_uri": "https://localhost:8080/"
    },
    "executionInfo": {
     "elapsed": 210,
     "status": "ok",
     "timestamp": 1683156823048,
     "user": {
      "displayName": "Danny Tsoi",
      "userId": "06065604599370212945"
     },
     "user_tz": 240
    },
    "id": "JwkY9yg19Lee",
    "outputId": "c5a90107-88ad-47b8-ee7d-5855994a9e2c"
   },
   "outputs": [
    {
     "data": {
      "text/plain": [
       "Index(['FY', 'Priority', 'New', 'BUDGET_START_YEAR', 'BUDGET_END_YEAR',\n",
       "       'PROJECT_START_YEAR', 'PROJECT_END_YEAR', 'PI_NAMEs', 'PI_IDS',\n",
       "       'APPLICATION_ID'],\n",
       "      dtype='object')"
      ]
     },
     "execution_count": 22,
     "metadata": {},
     "output_type": "execute_result"
    }
   ],
   "source": [
    "a_p_new_cat.columns"
   ]
  },
  {
   "cell_type": "code",
   "execution_count": 24,
   "metadata": {
    "colab": {
     "base_uri": "https://localhost:8080/",
     "height": 708
    },
    "executionInfo": {
     "elapsed": 528,
     "status": "ok",
     "timestamp": 1683156835854,
     "user": {
      "displayName": "Danny Tsoi",
      "userId": "06065604599370212945"
     },
     "user_tz": 240
    },
    "id": "YKVzMr4_EEl4",
    "outputId": "6c37ac5e-9edd-476e-d1e4-e48815168d0d"
   },
   "outputs": [
    {
     "data": {
      "text/html": [
       "\n",
       "  <div id=\"df-9eb918b0-5f35-426e-9e06-56bb0d23a436\">\n",
       "    <div class=\"colab-df-container\">\n",
       "      <div>\n",
       "<style scoped>\n",
       "    .dataframe tbody tr th:only-of-type {\n",
       "        vertical-align: middle;\n",
       "    }\n",
       "\n",
       "    .dataframe tbody tr th {\n",
       "        vertical-align: top;\n",
       "    }\n",
       "\n",
       "    .dataframe thead th {\n",
       "        text-align: right;\n",
       "    }\n",
       "</style>\n",
       "<table border=\"1\" class=\"dataframe\">\n",
       "  <thead>\n",
       "    <tr style=\"text-align: right;\">\n",
       "      <th></th>\n",
       "      <th></th>\n",
       "      <th>sum</th>\n",
       "      <th>count</th>\n",
       "      <th>mean</th>\n",
       "    </tr>\n",
       "    <tr>\n",
       "      <th>Priority</th>\n",
       "      <th>FY</th>\n",
       "      <th></th>\n",
       "      <th></th>\n",
       "      <th></th>\n",
       "    </tr>\n",
       "  </thead>\n",
       "  <tbody>\n",
       "    <tr>\n",
       "      <th rowspan=\"10\" valign=\"top\">0.0</th>\n",
       "      <th>2012</th>\n",
       "      <td>80.0</td>\n",
       "      <td>281</td>\n",
       "      <td>0.284698</td>\n",
       "    </tr>\n",
       "    <tr>\n",
       "      <th>2013</th>\n",
       "      <td>68.0</td>\n",
       "      <td>279</td>\n",
       "      <td>0.243728</td>\n",
       "    </tr>\n",
       "    <tr>\n",
       "      <th>2014</th>\n",
       "      <td>94.0</td>\n",
       "      <td>283</td>\n",
       "      <td>0.332155</td>\n",
       "    </tr>\n",
       "    <tr>\n",
       "      <th>2015</th>\n",
       "      <td>92.0</td>\n",
       "      <td>291</td>\n",
       "      <td>0.316151</td>\n",
       "    </tr>\n",
       "    <tr>\n",
       "      <th>2016</th>\n",
       "      <td>97.0</td>\n",
       "      <td>293</td>\n",
       "      <td>0.331058</td>\n",
       "    </tr>\n",
       "    <tr>\n",
       "      <th>2017</th>\n",
       "      <td>105.0</td>\n",
       "      <td>294</td>\n",
       "      <td>0.357143</td>\n",
       "    </tr>\n",
       "    <tr>\n",
       "      <th>2018</th>\n",
       "      <td>92.0</td>\n",
       "      <td>334</td>\n",
       "      <td>0.275449</td>\n",
       "    </tr>\n",
       "    <tr>\n",
       "      <th>2019</th>\n",
       "      <td>97.0</td>\n",
       "      <td>331</td>\n",
       "      <td>0.293051</td>\n",
       "    </tr>\n",
       "    <tr>\n",
       "      <th>2020</th>\n",
       "      <td>79.0</td>\n",
       "      <td>342</td>\n",
       "      <td>0.230994</td>\n",
       "    </tr>\n",
       "    <tr>\n",
       "      <th>2021</th>\n",
       "      <td>96.0</td>\n",
       "      <td>338</td>\n",
       "      <td>0.284024</td>\n",
       "    </tr>\n",
       "    <tr>\n",
       "      <th rowspan=\"10\" valign=\"top\">1.0</th>\n",
       "      <th>2012</th>\n",
       "      <td>35.0</td>\n",
       "      <td>102</td>\n",
       "      <td>0.343137</td>\n",
       "    </tr>\n",
       "    <tr>\n",
       "      <th>2013</th>\n",
       "      <td>25.0</td>\n",
       "      <td>82</td>\n",
       "      <td>0.304878</td>\n",
       "    </tr>\n",
       "    <tr>\n",
       "      <th>2014</th>\n",
       "      <td>43.0</td>\n",
       "      <td>108</td>\n",
       "      <td>0.398148</td>\n",
       "    </tr>\n",
       "    <tr>\n",
       "      <th>2015</th>\n",
       "      <td>39.0</td>\n",
       "      <td>136</td>\n",
       "      <td>0.286765</td>\n",
       "    </tr>\n",
       "    <tr>\n",
       "      <th>2016</th>\n",
       "      <td>49.0</td>\n",
       "      <td>159</td>\n",
       "      <td>0.308176</td>\n",
       "    </tr>\n",
       "    <tr>\n",
       "      <th>2017</th>\n",
       "      <td>67.0</td>\n",
       "      <td>169</td>\n",
       "      <td>0.396450</td>\n",
       "    </tr>\n",
       "    <tr>\n",
       "      <th>2018</th>\n",
       "      <td>56.0</td>\n",
       "      <td>203</td>\n",
       "      <td>0.275862</td>\n",
       "    </tr>\n",
       "    <tr>\n",
       "      <th>2019</th>\n",
       "      <td>46.0</td>\n",
       "      <td>186</td>\n",
       "      <td>0.247312</td>\n",
       "    </tr>\n",
       "    <tr>\n",
       "      <th>2020</th>\n",
       "      <td>70.0</td>\n",
       "      <td>234</td>\n",
       "      <td>0.299145</td>\n",
       "    </tr>\n",
       "    <tr>\n",
       "      <th>2021</th>\n",
       "      <td>59.0</td>\n",
       "      <td>234</td>\n",
       "      <td>0.252137</td>\n",
       "    </tr>\n",
       "  </tbody>\n",
       "</table>\n",
       "</div>\n",
       "      <button class=\"colab-df-convert\" onclick=\"convertToInteractive('df-9eb918b0-5f35-426e-9e06-56bb0d23a436')\"\n",
       "              title=\"Convert this dataframe to an interactive table.\"\n",
       "              style=\"display:none;\">\n",
       "        \n",
       "  <svg xmlns=\"http://www.w3.org/2000/svg\" height=\"24px\"viewBox=\"0 0 24 24\"\n",
       "       width=\"24px\">\n",
       "    <path d=\"M0 0h24v24H0V0z\" fill=\"none\"/>\n",
       "    <path d=\"M18.56 5.44l.94 2.06.94-2.06 2.06-.94-2.06-.94-.94-2.06-.94 2.06-2.06.94zm-11 1L8.5 8.5l.94-2.06 2.06-.94-2.06-.94L8.5 2.5l-.94 2.06-2.06.94zm10 10l.94 2.06.94-2.06 2.06-.94-2.06-.94-.94-2.06-.94 2.06-2.06.94z\"/><path d=\"M17.41 7.96l-1.37-1.37c-.4-.4-.92-.59-1.43-.59-.52 0-1.04.2-1.43.59L10.3 9.45l-7.72 7.72c-.78.78-.78 2.05 0 2.83L4 21.41c.39.39.9.59 1.41.59.51 0 1.02-.2 1.41-.59l7.78-7.78 2.81-2.81c.8-.78.8-2.07 0-2.86zM5.41 20L4 18.59l7.72-7.72 1.47 1.35L5.41 20z\"/>\n",
       "  </svg>\n",
       "      </button>\n",
       "      \n",
       "  <style>\n",
       "    .colab-df-container {\n",
       "      display:flex;\n",
       "      flex-wrap:wrap;\n",
       "      gap: 12px;\n",
       "    }\n",
       "\n",
       "    .colab-df-convert {\n",
       "      background-color: #E8F0FE;\n",
       "      border: none;\n",
       "      border-radius: 50%;\n",
       "      cursor: pointer;\n",
       "      display: none;\n",
       "      fill: #1967D2;\n",
       "      height: 32px;\n",
       "      padding: 0 0 0 0;\n",
       "      width: 32px;\n",
       "    }\n",
       "\n",
       "    .colab-df-convert:hover {\n",
       "      background-color: #E2EBFA;\n",
       "      box-shadow: 0px 1px 2px rgba(60, 64, 67, 0.3), 0px 1px 3px 1px rgba(60, 64, 67, 0.15);\n",
       "      fill: #174EA6;\n",
       "    }\n",
       "\n",
       "    [theme=dark] .colab-df-convert {\n",
       "      background-color: #3B4455;\n",
       "      fill: #D2E3FC;\n",
       "    }\n",
       "\n",
       "    [theme=dark] .colab-df-convert:hover {\n",
       "      background-color: #434B5C;\n",
       "      box-shadow: 0px 1px 3px 1px rgba(0, 0, 0, 0.15);\n",
       "      filter: drop-shadow(0px 1px 2px rgba(0, 0, 0, 0.3));\n",
       "      fill: #FFFFFF;\n",
       "    }\n",
       "  </style>\n",
       "\n",
       "      <script>\n",
       "        const buttonEl =\n",
       "          document.querySelector('#df-9eb918b0-5f35-426e-9e06-56bb0d23a436 button.colab-df-convert');\n",
       "        buttonEl.style.display =\n",
       "          google.colab.kernel.accessAllowed ? 'block' : 'none';\n",
       "\n",
       "        async function convertToInteractive(key) {\n",
       "          const element = document.querySelector('#df-9eb918b0-5f35-426e-9e06-56bb0d23a436');\n",
       "          const dataTable =\n",
       "            await google.colab.kernel.invokeFunction('convertToInteractive',\n",
       "                                                     [key], {});\n",
       "          if (!dataTable) return;\n",
       "\n",
       "          const docLinkHtml = 'Like what you see? Visit the ' +\n",
       "            '<a target=\"_blank\" href=https://colab.research.google.com/notebooks/data_table.ipynb>data table notebook</a>'\n",
       "            + ' to learn more about interactive tables.';\n",
       "          element.innerHTML = '';\n",
       "          dataTable['output_type'] = 'display_data';\n",
       "          await google.colab.output.renderOutput(dataTable, element);\n",
       "          const docLink = document.createElement('div');\n",
       "          docLink.innerHTML = docLinkHtml;\n",
       "          element.appendChild(docLink);\n",
       "        }\n",
       "      </script>\n",
       "    </div>\n",
       "  </div>\n",
       "  "
      ],
      "text/plain": [
       "                 sum  count      mean\n",
       "Priority FY                          \n",
       "0.0      2012   80.0    281  0.284698\n",
       "         2013   68.0    279  0.243728\n",
       "         2014   94.0    283  0.332155\n",
       "         2015   92.0    291  0.316151\n",
       "         2016   97.0    293  0.331058\n",
       "         2017  105.0    294  0.357143\n",
       "         2018   92.0    334  0.275449\n",
       "         2019   97.0    331  0.293051\n",
       "         2020   79.0    342  0.230994\n",
       "         2021   96.0    338  0.284024\n",
       "1.0      2012   35.0    102  0.343137\n",
       "         2013   25.0     82  0.304878\n",
       "         2014   43.0    108  0.398148\n",
       "         2015   39.0    136  0.286765\n",
       "         2016   49.0    159  0.308176\n",
       "         2017   67.0    169  0.396450\n",
       "         2018   56.0    203  0.275862\n",
       "         2019   46.0    186  0.247312\n",
       "         2020   70.0    234  0.299145\n",
       "         2021   59.0    234  0.252137"
      ]
     },
     "execution_count": 24,
     "metadata": {},
     "output_type": "execute_result"
    }
   ],
   "source": [
    "a_desc = a_p_new_cat.groupby([\"Priority\", \"FY\"])[\"New\"].agg([\"sum\", \"count\", \"mean\"])\n",
    "a_desc.to_csv(\"Autism Grouped by Priority and Ongoing or New Projects.csv\")\n",
    "a_desc"
   ]
  },
  {
   "cell_type": "code",
   "execution_count": 25,
   "metadata": {
    "colab": {
     "base_uri": "https://localhost:8080/",
     "height": 395
    },
    "executionInfo": {
     "elapsed": 192,
     "status": "ok",
     "timestamp": 1683156842201,
     "user": {
      "displayName": "Danny Tsoi",
      "userId": "06065604599370212945"
     },
     "user_tz": 240
    },
    "id": "cd5wVaSe5j7C",
    "outputId": "d05d6a79-2e9f-48c5-dc88-713f84feef71"
   },
   "outputs": [
    {
     "data": {
      "text/html": [
       "\n",
       "  <div id=\"df-3743215f-d8b1-498b-9120-84420443a219\">\n",
       "    <div class=\"colab-df-container\">\n",
       "      <div>\n",
       "<style scoped>\n",
       "    .dataframe tbody tr th:only-of-type {\n",
       "        vertical-align: middle;\n",
       "    }\n",
       "\n",
       "    .dataframe tbody tr th {\n",
       "        vertical-align: top;\n",
       "    }\n",
       "\n",
       "    .dataframe thead th {\n",
       "        text-align: right;\n",
       "    }\n",
       "</style>\n",
       "<table border=\"1\" class=\"dataframe\">\n",
       "  <thead>\n",
       "    <tr style=\"text-align: right;\">\n",
       "      <th></th>\n",
       "      <th>sum</th>\n",
       "      <th>count</th>\n",
       "      <th>mean</th>\n",
       "    </tr>\n",
       "    <tr>\n",
       "      <th>FY</th>\n",
       "      <th></th>\n",
       "      <th></th>\n",
       "      <th></th>\n",
       "    </tr>\n",
       "  </thead>\n",
       "  <tbody>\n",
       "    <tr>\n",
       "      <th>2012</th>\n",
       "      <td>102.0</td>\n",
       "      <td>383</td>\n",
       "      <td>0.266319</td>\n",
       "    </tr>\n",
       "    <tr>\n",
       "      <th>2013</th>\n",
       "      <td>82.0</td>\n",
       "      <td>361</td>\n",
       "      <td>0.227147</td>\n",
       "    </tr>\n",
       "    <tr>\n",
       "      <th>2014</th>\n",
       "      <td>108.0</td>\n",
       "      <td>391</td>\n",
       "      <td>0.276215</td>\n",
       "    </tr>\n",
       "    <tr>\n",
       "      <th>2015</th>\n",
       "      <td>136.0</td>\n",
       "      <td>427</td>\n",
       "      <td>0.318501</td>\n",
       "    </tr>\n",
       "    <tr>\n",
       "      <th>2016</th>\n",
       "      <td>159.0</td>\n",
       "      <td>452</td>\n",
       "      <td>0.351770</td>\n",
       "    </tr>\n",
       "    <tr>\n",
       "      <th>2017</th>\n",
       "      <td>169.0</td>\n",
       "      <td>463</td>\n",
       "      <td>0.365011</td>\n",
       "    </tr>\n",
       "    <tr>\n",
       "      <th>2018</th>\n",
       "      <td>203.0</td>\n",
       "      <td>537</td>\n",
       "      <td>0.378026</td>\n",
       "    </tr>\n",
       "    <tr>\n",
       "      <th>2019</th>\n",
       "      <td>186.0</td>\n",
       "      <td>517</td>\n",
       "      <td>0.359768</td>\n",
       "    </tr>\n",
       "    <tr>\n",
       "      <th>2020</th>\n",
       "      <td>234.0</td>\n",
       "      <td>576</td>\n",
       "      <td>0.406250</td>\n",
       "    </tr>\n",
       "    <tr>\n",
       "      <th>2021</th>\n",
       "      <td>234.0</td>\n",
       "      <td>572</td>\n",
       "      <td>0.409091</td>\n",
       "    </tr>\n",
       "  </tbody>\n",
       "</table>\n",
       "</div>\n",
       "      <button class=\"colab-df-convert\" onclick=\"convertToInteractive('df-3743215f-d8b1-498b-9120-84420443a219')\"\n",
       "              title=\"Convert this dataframe to an interactive table.\"\n",
       "              style=\"display:none;\">\n",
       "        \n",
       "  <svg xmlns=\"http://www.w3.org/2000/svg\" height=\"24px\"viewBox=\"0 0 24 24\"\n",
       "       width=\"24px\">\n",
       "    <path d=\"M0 0h24v24H0V0z\" fill=\"none\"/>\n",
       "    <path d=\"M18.56 5.44l.94 2.06.94-2.06 2.06-.94-2.06-.94-.94-2.06-.94 2.06-2.06.94zm-11 1L8.5 8.5l.94-2.06 2.06-.94-2.06-.94L8.5 2.5l-.94 2.06-2.06.94zm10 10l.94 2.06.94-2.06 2.06-.94-2.06-.94-.94-2.06-.94 2.06-2.06.94z\"/><path d=\"M17.41 7.96l-1.37-1.37c-.4-.4-.92-.59-1.43-.59-.52 0-1.04.2-1.43.59L10.3 9.45l-7.72 7.72c-.78.78-.78 2.05 0 2.83L4 21.41c.39.39.9.59 1.41.59.51 0 1.02-.2 1.41-.59l7.78-7.78 2.81-2.81c.8-.78.8-2.07 0-2.86zM5.41 20L4 18.59l7.72-7.72 1.47 1.35L5.41 20z\"/>\n",
       "  </svg>\n",
       "      </button>\n",
       "      \n",
       "  <style>\n",
       "    .colab-df-container {\n",
       "      display:flex;\n",
       "      flex-wrap:wrap;\n",
       "      gap: 12px;\n",
       "    }\n",
       "\n",
       "    .colab-df-convert {\n",
       "      background-color: #E8F0FE;\n",
       "      border: none;\n",
       "      border-radius: 50%;\n",
       "      cursor: pointer;\n",
       "      display: none;\n",
       "      fill: #1967D2;\n",
       "      height: 32px;\n",
       "      padding: 0 0 0 0;\n",
       "      width: 32px;\n",
       "    }\n",
       "\n",
       "    .colab-df-convert:hover {\n",
       "      background-color: #E2EBFA;\n",
       "      box-shadow: 0px 1px 2px rgba(60, 64, 67, 0.3), 0px 1px 3px 1px rgba(60, 64, 67, 0.15);\n",
       "      fill: #174EA6;\n",
       "    }\n",
       "\n",
       "    [theme=dark] .colab-df-convert {\n",
       "      background-color: #3B4455;\n",
       "      fill: #D2E3FC;\n",
       "    }\n",
       "\n",
       "    [theme=dark] .colab-df-convert:hover {\n",
       "      background-color: #434B5C;\n",
       "      box-shadow: 0px 1px 3px 1px rgba(0, 0, 0, 0.15);\n",
       "      filter: drop-shadow(0px 1px 2px rgba(0, 0, 0, 0.3));\n",
       "      fill: #FFFFFF;\n",
       "    }\n",
       "  </style>\n",
       "\n",
       "      <script>\n",
       "        const buttonEl =\n",
       "          document.querySelector('#df-3743215f-d8b1-498b-9120-84420443a219 button.colab-df-convert');\n",
       "        buttonEl.style.display =\n",
       "          google.colab.kernel.accessAllowed ? 'block' : 'none';\n",
       "\n",
       "        async function convertToInteractive(key) {\n",
       "          const element = document.querySelector('#df-3743215f-d8b1-498b-9120-84420443a219');\n",
       "          const dataTable =\n",
       "            await google.colab.kernel.invokeFunction('convertToInteractive',\n",
       "                                                     [key], {});\n",
       "          if (!dataTable) return;\n",
       "\n",
       "          const docLinkHtml = 'Like what you see? Visit the ' +\n",
       "            '<a target=\"_blank\" href=https://colab.research.google.com/notebooks/data_table.ipynb>data table notebook</a>'\n",
       "            + ' to learn more about interactive tables.';\n",
       "          element.innerHTML = '';\n",
       "          dataTable['output_type'] = 'display_data';\n",
       "          await google.colab.output.renderOutput(dataTable, element);\n",
       "          const docLink = document.createElement('div');\n",
       "          docLink.innerHTML = docLinkHtml;\n",
       "          element.appendChild(docLink);\n",
       "        }\n",
       "      </script>\n",
       "    </div>\n",
       "  </div>\n",
       "  "
      ],
      "text/plain": [
       "        sum  count      mean\n",
       "FY                          \n",
       "2012  102.0    383  0.266319\n",
       "2013   82.0    361  0.227147\n",
       "2014  108.0    391  0.276215\n",
       "2015  136.0    427  0.318501\n",
       "2016  159.0    452  0.351770\n",
       "2017  169.0    463  0.365011\n",
       "2018  203.0    537  0.378026\n",
       "2019  186.0    517  0.359768\n",
       "2020  234.0    576  0.406250\n",
       "2021  234.0    572  0.409091"
      ]
     },
     "execution_count": 25,
     "metadata": {},
     "output_type": "execute_result"
    }
   ],
   "source": [
    "a_desc_CAT = a_p_new_cat.groupby([\"FY\"])[\"Priority\"].agg([\"sum\", \"count\", \"mean\"])\n",
    "a_desc_CAT"
   ]
  },
  {
   "cell_type": "code",
   "execution_count": 26,
   "metadata": {
    "colab": {
     "base_uri": "https://localhost:8080/",
     "height": 395
    },
    "executionInfo": {
     "elapsed": 240,
     "status": "ok",
     "timestamp": 1683156847936,
     "user": {
      "displayName": "Danny Tsoi",
      "userId": "06065604599370212945"
     },
     "user_tz": 240
    },
    "id": "CJotwBgICAPB",
    "outputId": "f0426315-0edf-4373-af8c-7d5217b7cfa0"
   },
   "outputs": [
    {
     "data": {
      "text/html": [
       "\n",
       "  <div id=\"df-0522fd93-c547-4aba-b8bb-29898858004d\">\n",
       "    <div class=\"colab-df-container\">\n",
       "      <div>\n",
       "<style scoped>\n",
       "    .dataframe tbody tr th:only-of-type {\n",
       "        vertical-align: middle;\n",
       "    }\n",
       "\n",
       "    .dataframe tbody tr th {\n",
       "        vertical-align: top;\n",
       "    }\n",
       "\n",
       "    .dataframe thead th {\n",
       "        text-align: right;\n",
       "    }\n",
       "</style>\n",
       "<table border=\"1\" class=\"dataframe\">\n",
       "  <thead>\n",
       "    <tr style=\"text-align: right;\">\n",
       "      <th></th>\n",
       "      <th>sum</th>\n",
       "      <th>count</th>\n",
       "      <th>mean</th>\n",
       "    </tr>\n",
       "    <tr>\n",
       "      <th>FY</th>\n",
       "      <th></th>\n",
       "      <th></th>\n",
       "      <th></th>\n",
       "    </tr>\n",
       "  </thead>\n",
       "  <tbody>\n",
       "    <tr>\n",
       "      <th>2012</th>\n",
       "      <td>115.0</td>\n",
       "      <td>383</td>\n",
       "      <td>0.300261</td>\n",
       "    </tr>\n",
       "    <tr>\n",
       "      <th>2013</th>\n",
       "      <td>93.0</td>\n",
       "      <td>361</td>\n",
       "      <td>0.257618</td>\n",
       "    </tr>\n",
       "    <tr>\n",
       "      <th>2014</th>\n",
       "      <td>137.0</td>\n",
       "      <td>391</td>\n",
       "      <td>0.350384</td>\n",
       "    </tr>\n",
       "    <tr>\n",
       "      <th>2015</th>\n",
       "      <td>131.0</td>\n",
       "      <td>427</td>\n",
       "      <td>0.306792</td>\n",
       "    </tr>\n",
       "    <tr>\n",
       "      <th>2016</th>\n",
       "      <td>146.0</td>\n",
       "      <td>452</td>\n",
       "      <td>0.323009</td>\n",
       "    </tr>\n",
       "    <tr>\n",
       "      <th>2017</th>\n",
       "      <td>172.0</td>\n",
       "      <td>463</td>\n",
       "      <td>0.371490</td>\n",
       "    </tr>\n",
       "    <tr>\n",
       "      <th>2018</th>\n",
       "      <td>148.0</td>\n",
       "      <td>537</td>\n",
       "      <td>0.275605</td>\n",
       "    </tr>\n",
       "    <tr>\n",
       "      <th>2019</th>\n",
       "      <td>143.0</td>\n",
       "      <td>517</td>\n",
       "      <td>0.276596</td>\n",
       "    </tr>\n",
       "    <tr>\n",
       "      <th>2020</th>\n",
       "      <td>149.0</td>\n",
       "      <td>576</td>\n",
       "      <td>0.258681</td>\n",
       "    </tr>\n",
       "    <tr>\n",
       "      <th>2021</th>\n",
       "      <td>155.0</td>\n",
       "      <td>572</td>\n",
       "      <td>0.270979</td>\n",
       "    </tr>\n",
       "  </tbody>\n",
       "</table>\n",
       "</div>\n",
       "      <button class=\"colab-df-convert\" onclick=\"convertToInteractive('df-0522fd93-c547-4aba-b8bb-29898858004d')\"\n",
       "              title=\"Convert this dataframe to an interactive table.\"\n",
       "              style=\"display:none;\">\n",
       "        \n",
       "  <svg xmlns=\"http://www.w3.org/2000/svg\" height=\"24px\"viewBox=\"0 0 24 24\"\n",
       "       width=\"24px\">\n",
       "    <path d=\"M0 0h24v24H0V0z\" fill=\"none\"/>\n",
       "    <path d=\"M18.56 5.44l.94 2.06.94-2.06 2.06-.94-2.06-.94-.94-2.06-.94 2.06-2.06.94zm-11 1L8.5 8.5l.94-2.06 2.06-.94-2.06-.94L8.5 2.5l-.94 2.06-2.06.94zm10 10l.94 2.06.94-2.06 2.06-.94-2.06-.94-.94-2.06-.94 2.06-2.06.94z\"/><path d=\"M17.41 7.96l-1.37-1.37c-.4-.4-.92-.59-1.43-.59-.52 0-1.04.2-1.43.59L10.3 9.45l-7.72 7.72c-.78.78-.78 2.05 0 2.83L4 21.41c.39.39.9.59 1.41.59.51 0 1.02-.2 1.41-.59l7.78-7.78 2.81-2.81c.8-.78.8-2.07 0-2.86zM5.41 20L4 18.59l7.72-7.72 1.47 1.35L5.41 20z\"/>\n",
       "  </svg>\n",
       "      </button>\n",
       "      \n",
       "  <style>\n",
       "    .colab-df-container {\n",
       "      display:flex;\n",
       "      flex-wrap:wrap;\n",
       "      gap: 12px;\n",
       "    }\n",
       "\n",
       "    .colab-df-convert {\n",
       "      background-color: #E8F0FE;\n",
       "      border: none;\n",
       "      border-radius: 50%;\n",
       "      cursor: pointer;\n",
       "      display: none;\n",
       "      fill: #1967D2;\n",
       "      height: 32px;\n",
       "      padding: 0 0 0 0;\n",
       "      width: 32px;\n",
       "    }\n",
       "\n",
       "    .colab-df-convert:hover {\n",
       "      background-color: #E2EBFA;\n",
       "      box-shadow: 0px 1px 2px rgba(60, 64, 67, 0.3), 0px 1px 3px 1px rgba(60, 64, 67, 0.15);\n",
       "      fill: #174EA6;\n",
       "    }\n",
       "\n",
       "    [theme=dark] .colab-df-convert {\n",
       "      background-color: #3B4455;\n",
       "      fill: #D2E3FC;\n",
       "    }\n",
       "\n",
       "    [theme=dark] .colab-df-convert:hover {\n",
       "      background-color: #434B5C;\n",
       "      box-shadow: 0px 1px 3px 1px rgba(0, 0, 0, 0.15);\n",
       "      filter: drop-shadow(0px 1px 2px rgba(0, 0, 0, 0.3));\n",
       "      fill: #FFFFFF;\n",
       "    }\n",
       "  </style>\n",
       "\n",
       "      <script>\n",
       "        const buttonEl =\n",
       "          document.querySelector('#df-0522fd93-c547-4aba-b8bb-29898858004d button.colab-df-convert');\n",
       "        buttonEl.style.display =\n",
       "          google.colab.kernel.accessAllowed ? 'block' : 'none';\n",
       "\n",
       "        async function convertToInteractive(key) {\n",
       "          const element = document.querySelector('#df-0522fd93-c547-4aba-b8bb-29898858004d');\n",
       "          const dataTable =\n",
       "            await google.colab.kernel.invokeFunction('convertToInteractive',\n",
       "                                                     [key], {});\n",
       "          if (!dataTable) return;\n",
       "\n",
       "          const docLinkHtml = 'Like what you see? Visit the ' +\n",
       "            '<a target=\"_blank\" href=https://colab.research.google.com/notebooks/data_table.ipynb>data table notebook</a>'\n",
       "            + ' to learn more about interactive tables.';\n",
       "          element.innerHTML = '';\n",
       "          dataTable['output_type'] = 'display_data';\n",
       "          await google.colab.output.renderOutput(dataTable, element);\n",
       "          const docLink = document.createElement('div');\n",
       "          docLink.innerHTML = docLinkHtml;\n",
       "          element.appendChild(docLink);\n",
       "        }\n",
       "      </script>\n",
       "    </div>\n",
       "  </div>\n",
       "  "
      ],
      "text/plain": [
       "        sum  count      mean\n",
       "FY                          \n",
       "2012  115.0    383  0.300261\n",
       "2013   93.0    361  0.257618\n",
       "2014  137.0    391  0.350384\n",
       "2015  131.0    427  0.306792\n",
       "2016  146.0    452  0.323009\n",
       "2017  172.0    463  0.371490\n",
       "2018  148.0    537  0.275605\n",
       "2019  143.0    517  0.276596\n",
       "2020  149.0    576  0.258681\n",
       "2021  155.0    572  0.270979"
      ]
     },
     "execution_count": 26,
     "metadata": {},
     "output_type": "execute_result"
    }
   ],
   "source": [
    "a_desc_New_Ongoing = a_p_new_cat.groupby([\"FY\"])[\"New\"].agg([\"sum\", \"count\", \"mean\"])\n",
    "a_desc_New_Ongoing"
   ]
  },
  {
   "cell_type": "code",
   "execution_count": 67,
   "metadata": {
    "colab": {
     "base_uri": "https://localhost:8080/"
    },
    "executionInfo": {
     "elapsed": 6,
     "status": "ok",
     "timestamp": 1683137953180,
     "user": {
      "displayName": "Danny Tsoi",
      "userId": "06065604599370212945"
     },
     "user_tz": 240
    },
    "id": "AW9JKcNtM8pE",
    "outputId": "de798e1a-443f-45fa-a0cb-24c0479144f6"
   },
   "outputs": [
    {
     "data": {
      "text/plain": [
       "Index(['FY', 'Priority', 'BUDGET_START_YEAR', 'BUDGET_END_YEAR',\n",
       "       'PROJECT_START_YEAR', 'PROJECT_END_YEAR', 'Ongoing_New', 'PI_NAMEs',\n",
       "       'PI_IDS', 'APPLICATION_ID'],\n",
       "      dtype='object')"
      ]
     },
     "execution_count": 67,
     "metadata": {},
     "output_type": "execute_result"
    }
   ],
   "source": [
    "a_p_new_cat = pd.read_csv(\"Autism_New_Projects_CAT.csv\", encoding='latin-1')\n",
    "a_p_new_cat.columns"
   ]
  },
  {
   "cell_type": "code",
   "execution_count": 29,
   "metadata": {
    "colab": {
     "base_uri": "https://localhost:8080/",
     "height": 602
    },
    "executionInfo": {
     "elapsed": 888,
     "status": "ok",
     "timestamp": 1683156954912,
     "user": {
      "displayName": "Danny Tsoi",
      "userId": "06065604599370212945"
     },
     "user_tz": 240
    },
    "id": "7lJul4GC2gN4",
    "outputId": "5d4c36e7-554e-4721-b698-c42f705f525d"
   },
   "outputs": [
    {
     "name": "stderr",
     "output_type": "stream",
     "text": [
      "/usr/local/lib/python3.10/dist-packages/seaborn/categorical.py:166: FutureWarning: Setting a gradient palette using color= is deprecated and will be removed in version 0.13. Set `palette='dark:red'` for same effect.\n",
      "  warnings.warn(msg, FutureWarning)\n"
     ]
    },
    {
     "data": {
      "text/plain": [
       "<seaborn.axisgrid.FacetGrid at 0x7fc92c136380>"
      ]
     },
     "execution_count": 29,
     "metadata": {},
     "output_type": "execute_result"
    },
    {
     "data": {
      "image/png": "[encoded data removed]",
      "text/plain": [
       "<Figure size 572x500 with 1 Axes>"
      ]
     },
     "metadata": {},
     "output_type": "display_data"
    }
   ],
   "source": [
    "a_desc = pd.read_csv(\"Autism Grouped by Priority and Ongoing or New Projects.csv\", encoding='latin-1')\n",
    "\n",
    "# Graph distribution of Project Activity - Ongoing and New by Year\n",
    "\n",
    "# Barplot for each FY\n",
    "\n",
    "yearly_active_projects = sns.catplot(data=a_desc, x=\"FY\", y =\"sum\", color=\"red\", hue=\"Priority\")\n",
    "\n",
    "# Rotate label\n",
    "plt.xticks(rotation=90, ha='right')\n",
    "\n",
    "# Change the x-axis label\n",
    "yearly_active_projects.set(xlabel =\"Fiscal Year\", \n",
    "# Change the y-axis label\n",
    "                    ylabel = \"Number of New Autism Projects\",\n",
    "# Change the title\n",
    "                   title = \"Funding for Autism Projects with New Research Priorities Has Been Increasing Since 2012 At Similar Trend as Previous Priorities\",\n",
    "                    label = \"Priority\")\n"
   ]
  },
  {
   "cell_type": "markdown",
   "metadata": {
    "id": "K-BTKbrZ7j-k"
   },
   "source": [
    "# Measure - PI and Associated Active Projects Grouped by Research Priorities"
   ]
  },
  {
   "cell_type": "code",
   "execution_count": 30,
   "metadata": {
    "colab": {
     "base_uri": "https://localhost:8080/"
    },
    "executionInfo": {
     "elapsed": 312,
     "status": "ok",
     "timestamp": 1683156963291,
     "user": {
      "displayName": "Danny Tsoi",
      "userId": "06065604599370212945"
     },
     "user_tz": 240
    },
    "id": "vjGlo479Te0G",
    "outputId": "047b0bd8-44cd-4ddc-feb8-4044460de4b6"
   },
   "outputs": [
    {
     "data": {
      "text/plain": [
       "Index(['FY', 'Priority', 'New', 'BUDGET_START_YEAR', 'BUDGET_END_YEAR',\n",
       "       'PROJECT_START_YEAR', 'PROJECT_END_YEAR', 'PI_NAMEs', 'PI_IDS',\n",
       "       'APPLICATION_ID'],\n",
       "      dtype='object')"
      ]
     },
     "execution_count": 30,
     "metadata": {},
     "output_type": "execute_result"
    }
   ],
   "source": [
    "# Make cohort based on what is active dates - Budget start, Project start, and FY\n",
    "a_PI = pd.read_csv(\"Autism_New_Projects_CAT.csv\", encoding = 'latin-1')\n",
    "\n",
    "a_PI.columns"
   ]
  },
  {
   "cell_type": "code",
   "execution_count": 70,
   "metadata": {
    "executionInfo": {
     "elapsed": 306,
     "status": "ok",
     "timestamp": 1683137965771,
     "user": {
      "displayName": "Danny Tsoi",
      "userId": "06065604599370212945"
     },
     "user_tz": 240
    },
    "id": "vi3i5bQvJ0-t"
   },
   "outputs": [],
   "source": [
    "# Group PI names based on activity for FY"
   ]
  },
  {
   "cell_type": "code",
   "execution_count": 71,
   "metadata": {
    "executionInfo": {
     "elapsed": 4,
     "status": "ok",
     "timestamp": 1683137969253,
     "user": {
      "displayName": "Danny Tsoi",
      "userId": "06065604599370212945"
     },
     "user_tz": 240
    },
    "id": "y8WFpWDjtvEm"
   },
   "outputs": [],
   "source": [
    "# Exploding PI_NAMEs into split\n",
    "\n",
    "# a_PI = a_p[\"PI_NAMEs\"].str.split(';').explode\n"
   ]
  },
  {
   "cell_type": "code",
   "execution_count": 32,
   "metadata": {
    "colab": {
     "base_uri": "https://localhost:8080/",
     "height": 1000
    },
    "executionInfo": {
     "elapsed": 473,
     "status": "ok",
     "timestamp": 1683156973895,
     "user": {
      "displayName": "Danny Tsoi",
      "userId": "06065604599370212945"
     },
     "user_tz": 240
    },
    "id": "eC1A6C2UZfxC",
    "outputId": "bdf0f64e-d9ac-4fd3-95ae-5d4331081670"
   },
   "outputs": [
    {
     "data": {
      "text/html": [
       "\n",
       "  <div id=\"df-8ca4bab1-4b20-470f-ac6d-778e4ee881de\">\n",
       "    <div class=\"colab-df-container\">\n",
       "      <div>\n",
       "<style scoped>\n",
       "    .dataframe tbody tr th:only-of-type {\n",
       "        vertical-align: middle;\n",
       "    }\n",
       "\n",
       "    .dataframe tbody tr th {\n",
       "        vertical-align: top;\n",
       "    }\n",
       "\n",
       "    .dataframe thead th {\n",
       "        text-align: right;\n",
       "    }\n",
       "</style>\n",
       "<table border=\"1\" class=\"dataframe\">\n",
       "  <thead>\n",
       "    <tr style=\"text-align: right;\">\n",
       "      <th></th>\n",
       "      <th>FY</th>\n",
       "      <th>Priority</th>\n",
       "      <th>New</th>\n",
       "      <th>PI_IDS</th>\n",
       "    </tr>\n",
       "  </thead>\n",
       "  <tbody>\n",
       "    <tr>\n",
       "      <th>0</th>\n",
       "      <td>2012</td>\n",
       "      <td>0.0</td>\n",
       "      <td>0.0</td>\n",
       "      <td>225</td>\n",
       "    </tr>\n",
       "    <tr>\n",
       "      <th>1</th>\n",
       "      <td>2012</td>\n",
       "      <td>0.0</td>\n",
       "      <td>1.0</td>\n",
       "      <td>80</td>\n",
       "    </tr>\n",
       "    <tr>\n",
       "      <th>2</th>\n",
       "      <td>2012</td>\n",
       "      <td>1.0</td>\n",
       "      <td>0.0</td>\n",
       "      <td>69</td>\n",
       "    </tr>\n",
       "    <tr>\n",
       "      <th>3</th>\n",
       "      <td>2012</td>\n",
       "      <td>1.0</td>\n",
       "      <td>1.0</td>\n",
       "      <td>36</td>\n",
       "    </tr>\n",
       "    <tr>\n",
       "      <th>4</th>\n",
       "      <td>2013</td>\n",
       "      <td>0.0</td>\n",
       "      <td>0.0</td>\n",
       "      <td>240</td>\n",
       "    </tr>\n",
       "    <tr>\n",
       "      <th>5</th>\n",
       "      <td>2013</td>\n",
       "      <td>0.0</td>\n",
       "      <td>1.0</td>\n",
       "      <td>70</td>\n",
       "    </tr>\n",
       "    <tr>\n",
       "      <th>6</th>\n",
       "      <td>2013</td>\n",
       "      <td>1.0</td>\n",
       "      <td>0.0</td>\n",
       "      <td>66</td>\n",
       "    </tr>\n",
       "    <tr>\n",
       "      <th>7</th>\n",
       "      <td>2013</td>\n",
       "      <td>1.0</td>\n",
       "      <td>1.0</td>\n",
       "      <td>25</td>\n",
       "    </tr>\n",
       "    <tr>\n",
       "      <th>8</th>\n",
       "      <td>2014</td>\n",
       "      <td>0.0</td>\n",
       "      <td>0.0</td>\n",
       "      <td>222</td>\n",
       "    </tr>\n",
       "    <tr>\n",
       "      <th>9</th>\n",
       "      <td>2014</td>\n",
       "      <td>0.0</td>\n",
       "      <td>1.0</td>\n",
       "      <td>94</td>\n",
       "    </tr>\n",
       "    <tr>\n",
       "      <th>10</th>\n",
       "      <td>2014</td>\n",
       "      <td>1.0</td>\n",
       "      <td>0.0</td>\n",
       "      <td>77</td>\n",
       "    </tr>\n",
       "    <tr>\n",
       "      <th>11</th>\n",
       "      <td>2014</td>\n",
       "      <td>1.0</td>\n",
       "      <td>1.0</td>\n",
       "      <td>43</td>\n",
       "    </tr>\n",
       "    <tr>\n",
       "      <th>12</th>\n",
       "      <td>2015</td>\n",
       "      <td>0.0</td>\n",
       "      <td>0.0</td>\n",
       "      <td>230</td>\n",
       "    </tr>\n",
       "    <tr>\n",
       "      <th>13</th>\n",
       "      <td>2015</td>\n",
       "      <td>0.0</td>\n",
       "      <td>1.0</td>\n",
       "      <td>92</td>\n",
       "    </tr>\n",
       "    <tr>\n",
       "      <th>14</th>\n",
       "      <td>2015</td>\n",
       "      <td>1.0</td>\n",
       "      <td>0.0</td>\n",
       "      <td>102</td>\n",
       "    </tr>\n",
       "    <tr>\n",
       "      <th>15</th>\n",
       "      <td>2015</td>\n",
       "      <td>1.0</td>\n",
       "      <td>1.0</td>\n",
       "      <td>38</td>\n",
       "    </tr>\n",
       "    <tr>\n",
       "      <th>16</th>\n",
       "      <td>2016</td>\n",
       "      <td>0.0</td>\n",
       "      <td>0.0</td>\n",
       "      <td>222</td>\n",
       "    </tr>\n",
       "    <tr>\n",
       "      <th>17</th>\n",
       "      <td>2016</td>\n",
       "      <td>0.0</td>\n",
       "      <td>1.0</td>\n",
       "      <td>91</td>\n",
       "    </tr>\n",
       "    <tr>\n",
       "      <th>18</th>\n",
       "      <td>2016</td>\n",
       "      <td>1.0</td>\n",
       "      <td>0.0</td>\n",
       "      <td>125</td>\n",
       "    </tr>\n",
       "    <tr>\n",
       "      <th>19</th>\n",
       "      <td>2016</td>\n",
       "      <td>1.0</td>\n",
       "      <td>1.0</td>\n",
       "      <td>49</td>\n",
       "    </tr>\n",
       "    <tr>\n",
       "      <th>20</th>\n",
       "      <td>2017</td>\n",
       "      <td>0.0</td>\n",
       "      <td>0.0</td>\n",
       "      <td>216</td>\n",
       "    </tr>\n",
       "    <tr>\n",
       "      <th>21</th>\n",
       "      <td>2017</td>\n",
       "      <td>0.0</td>\n",
       "      <td>1.0</td>\n",
       "      <td>109</td>\n",
       "    </tr>\n",
       "    <tr>\n",
       "      <th>22</th>\n",
       "      <td>2017</td>\n",
       "      <td>1.0</td>\n",
       "      <td>0.0</td>\n",
       "      <td>134</td>\n",
       "    </tr>\n",
       "    <tr>\n",
       "      <th>23</th>\n",
       "      <td>2017</td>\n",
       "      <td>1.0</td>\n",
       "      <td>1.0</td>\n",
       "      <td>66</td>\n",
       "    </tr>\n",
       "    <tr>\n",
       "      <th>24</th>\n",
       "      <td>2018</td>\n",
       "      <td>0.0</td>\n",
       "      <td>0.0</td>\n",
       "      <td>260</td>\n",
       "    </tr>\n",
       "    <tr>\n",
       "      <th>25</th>\n",
       "      <td>2018</td>\n",
       "      <td>0.0</td>\n",
       "      <td>1.0</td>\n",
       "      <td>92</td>\n",
       "    </tr>\n",
       "    <tr>\n",
       "      <th>26</th>\n",
       "      <td>2018</td>\n",
       "      <td>1.0</td>\n",
       "      <td>0.0</td>\n",
       "      <td>168</td>\n",
       "    </tr>\n",
       "    <tr>\n",
       "      <th>27</th>\n",
       "      <td>2018</td>\n",
       "      <td>1.0</td>\n",
       "      <td>1.0</td>\n",
       "      <td>56</td>\n",
       "    </tr>\n",
       "    <tr>\n",
       "      <th>28</th>\n",
       "      <td>2019</td>\n",
       "      <td>0.0</td>\n",
       "      <td>0.0</td>\n",
       "      <td>253</td>\n",
       "    </tr>\n",
       "    <tr>\n",
       "      <th>29</th>\n",
       "      <td>2019</td>\n",
       "      <td>0.0</td>\n",
       "      <td>1.0</td>\n",
       "      <td>96</td>\n",
       "    </tr>\n",
       "    <tr>\n",
       "      <th>30</th>\n",
       "      <td>2019</td>\n",
       "      <td>1.0</td>\n",
       "      <td>0.0</td>\n",
       "      <td>164</td>\n",
       "    </tr>\n",
       "    <tr>\n",
       "      <th>31</th>\n",
       "      <td>2019</td>\n",
       "      <td>1.0</td>\n",
       "      <td>1.0</td>\n",
       "      <td>45</td>\n",
       "    </tr>\n",
       "    <tr>\n",
       "      <th>32</th>\n",
       "      <td>2020</td>\n",
       "      <td>0.0</td>\n",
       "      <td>0.0</td>\n",
       "      <td>262</td>\n",
       "    </tr>\n",
       "    <tr>\n",
       "      <th>33</th>\n",
       "      <td>2020</td>\n",
       "      <td>0.0</td>\n",
       "      <td>1.0</td>\n",
       "      <td>79</td>\n",
       "    </tr>\n",
       "    <tr>\n",
       "      <th>34</th>\n",
       "      <td>2020</td>\n",
       "      <td>1.0</td>\n",
       "      <td>0.0</td>\n",
       "      <td>159</td>\n",
       "    </tr>\n",
       "    <tr>\n",
       "      <th>35</th>\n",
       "      <td>2020</td>\n",
       "      <td>1.0</td>\n",
       "      <td>1.0</td>\n",
       "      <td>68</td>\n",
       "    </tr>\n",
       "    <tr>\n",
       "      <th>36</th>\n",
       "      <td>2021</td>\n",
       "      <td>0.0</td>\n",
       "      <td>0.0</td>\n",
       "      <td>248</td>\n",
       "    </tr>\n",
       "    <tr>\n",
       "      <th>37</th>\n",
       "      <td>2021</td>\n",
       "      <td>0.0</td>\n",
       "      <td>1.0</td>\n",
       "      <td>96</td>\n",
       "    </tr>\n",
       "    <tr>\n",
       "      <th>38</th>\n",
       "      <td>2021</td>\n",
       "      <td>1.0</td>\n",
       "      <td>0.0</td>\n",
       "      <td>165</td>\n",
       "    </tr>\n",
       "    <tr>\n",
       "      <th>39</th>\n",
       "      <td>2021</td>\n",
       "      <td>1.0</td>\n",
       "      <td>1.0</td>\n",
       "      <td>58</td>\n",
       "    </tr>\n",
       "  </tbody>\n",
       "</table>\n",
       "</div>\n",
       "      <button class=\"colab-df-convert\" onclick=\"convertToInteractive('df-8ca4bab1-4b20-470f-ac6d-778e4ee881de')\"\n",
       "              title=\"Convert this dataframe to an interactive table.\"\n",
       "              style=\"display:none;\">\n",
       "        \n",
       "  <svg xmlns=\"http://www.w3.org/2000/svg\" height=\"24px\"viewBox=\"0 0 24 24\"\n",
       "       width=\"24px\">\n",
       "    <path d=\"M0 0h24v24H0V0z\" fill=\"none\"/>\n",
       "    <path d=\"M18.56 5.44l.94 2.06.94-2.06 2.06-.94-2.06-.94-.94-2.06-.94 2.06-2.06.94zm-11 1L8.5 8.5l.94-2.06 2.06-.94-2.06-.94L8.5 2.5l-.94 2.06-2.06.94zm10 10l.94 2.06.94-2.06 2.06-.94-2.06-.94-.94-2.06-.94 2.06-2.06.94z\"/><path d=\"M17.41 7.96l-1.37-1.37c-.4-.4-.92-.59-1.43-.59-.52 0-1.04.2-1.43.59L10.3 9.45l-7.72 7.72c-.78.78-.78 2.05 0 2.83L4 21.41c.39.39.9.59 1.41.59.51 0 1.02-.2 1.41-.59l7.78-7.78 2.81-2.81c.8-.78.8-2.07 0-2.86zM5.41 20L4 18.59l7.72-7.72 1.47 1.35L5.41 20z\"/>\n",
       "  </svg>\n",
       "      </button>\n",
       "      \n",
       "  <style>\n",
       "    .colab-df-container {\n",
       "      display:flex;\n",
       "      flex-wrap:wrap;\n",
       "      gap: 12px;\n",
       "    }\n",
       "\n",
       "    .colab-df-convert {\n",
       "      background-color: #E8F0FE;\n",
       "      border: none;\n",
       "      border-radius: 50%;\n",
       "      cursor: pointer;\n",
       "      display: none;\n",
       "      fill: #1967D2;\n",
       "      height: 32px;\n",
       "      padding: 0 0 0 0;\n",
       "      width: 32px;\n",
       "    }\n",
       "\n",
       "    .colab-df-convert:hover {\n",
       "      background-color: #E2EBFA;\n",
       "      box-shadow: 0px 1px 2px rgba(60, 64, 67, 0.3), 0px 1px 3px 1px rgba(60, 64, 67, 0.15);\n",
       "      fill: #174EA6;\n",
       "    }\n",
       "\n",
       "    [theme=dark] .colab-df-convert {\n",
       "      background-color: #3B4455;\n",
       "      fill: #D2E3FC;\n",
       "    }\n",
       "\n",
       "    [theme=dark] .colab-df-convert:hover {\n",
       "      background-color: #434B5C;\n",
       "      box-shadow: 0px 1px 3px 1px rgba(0, 0, 0, 0.15);\n",
       "      filter: drop-shadow(0px 1px 2px rgba(0, 0, 0, 0.3));\n",
       "      fill: #FFFFFF;\n",
       "    }\n",
       "  </style>\n",
       "\n",
       "      <script>\n",
       "        const buttonEl =\n",
       "          document.querySelector('#df-8ca4bab1-4b20-470f-ac6d-778e4ee881de button.colab-df-convert');\n",
       "        buttonEl.style.display =\n",
       "          google.colab.kernel.accessAllowed ? 'block' : 'none';\n",
       "\n",
       "        async function convertToInteractive(key) {\n",
       "          const element = document.querySelector('#df-8ca4bab1-4b20-470f-ac6d-778e4ee881de');\n",
       "          const dataTable =\n",
       "            await google.colab.kernel.invokeFunction('convertToInteractive',\n",
       "                                                     [key], {});\n",
       "          if (!dataTable) return;\n",
       "\n",
       "          const docLinkHtml = 'Like what you see? Visit the ' +\n",
       "            '<a target=\"_blank\" href=https://colab.research.google.com/notebooks/data_table.ipynb>data table notebook</a>'\n",
       "            + ' to learn more about interactive tables.';\n",
       "          element.innerHTML = '';\n",
       "          dataTable['output_type'] = 'display_data';\n",
       "          await google.colab.output.renderOutput(dataTable, element);\n",
       "          const docLink = document.createElement('div');\n",
       "          docLink.innerHTML = docLinkHtml;\n",
       "          element.appendChild(docLink);\n",
       "        }\n",
       "      </script>\n",
       "    </div>\n",
       "  </div>\n",
       "  "
      ],
      "text/plain": [
       "      FY  Priority  New  PI_IDS\n",
       "0   2012       0.0  0.0     225\n",
       "1   2012       0.0  1.0      80\n",
       "2   2012       1.0  0.0      69\n",
       "3   2012       1.0  1.0      36\n",
       "4   2013       0.0  0.0     240\n",
       "5   2013       0.0  1.0      70\n",
       "6   2013       1.0  0.0      66\n",
       "7   2013       1.0  1.0      25\n",
       "8   2014       0.0  0.0     222\n",
       "9   2014       0.0  1.0      94\n",
       "10  2014       1.0  0.0      77\n",
       "11  2014       1.0  1.0      43\n",
       "12  2015       0.0  0.0     230\n",
       "13  2015       0.0  1.0      92\n",
       "14  2015       1.0  0.0     102\n",
       "15  2015       1.0  1.0      38\n",
       "16  2016       0.0  0.0     222\n",
       "17  2016       0.0  1.0      91\n",
       "18  2016       1.0  0.0     125\n",
       "19  2016       1.0  1.0      49\n",
       "20  2017       0.0  0.0     216\n",
       "21  2017       0.0  1.0     109\n",
       "22  2017       1.0  0.0     134\n",
       "23  2017       1.0  1.0      66\n",
       "24  2018       0.0  0.0     260\n",
       "25  2018       0.0  1.0      92\n",
       "26  2018       1.0  0.0     168\n",
       "27  2018       1.0  1.0      56\n",
       "28  2019       0.0  0.0     253\n",
       "29  2019       0.0  1.0      96\n",
       "30  2019       1.0  0.0     164\n",
       "31  2019       1.0  1.0      45\n",
       "32  2020       0.0  0.0     262\n",
       "33  2020       0.0  1.0      79\n",
       "34  2020       1.0  0.0     159\n",
       "35  2020       1.0  1.0      68\n",
       "36  2021       0.0  0.0     248\n",
       "37  2021       0.0  1.0      96\n",
       "38  2021       1.0  0.0     165\n",
       "39  2021       1.0  1.0      58"
      ]
     },
     "execution_count": 32,
     "metadata": {},
     "output_type": "execute_result"
    }
   ],
   "source": [
    "a_p_PI = a_p.groupby([\"FY\", \"Priority\", \"New\"])[\"PI_IDS\"].nunique().to_frame().reset_index()\n",
    "\n",
    "a_p_PI\n"
   ]
  },
  {
   "cell_type": "code",
   "execution_count": 33,
   "metadata": {
    "executionInfo": {
     "elapsed": 383,
     "status": "ok",
     "timestamp": 1683156981522,
     "user": {
      "displayName": "Danny Tsoi",
      "userId": "06065604599370212945"
     },
     "user_tz": 240
    },
    "id": "kWt1_8Mc-aV4"
   },
   "outputs": [],
   "source": [
    "\n",
    "a_p_PI.to_csv(\"Autism_New_Projects_CAT_PI.csv\")\n",
    "\n"
   ]
  },
  {
   "cell_type": "code",
   "execution_count": 34,
   "metadata": {
    "colab": {
     "base_uri": "https://localhost:8080/",
     "height": 580
    },
    "executionInfo": {
     "elapsed": 1510,
     "status": "ok",
     "timestamp": 1683156989995,
     "user": {
      "displayName": "Danny Tsoi",
      "userId": "06065604599370212945"
     },
     "user_tz": 240
    },
    "id": "TXGMlJVDvszG",
    "outputId": "c45b75e3-c09b-4b2d-cb8e-271b02e24797"
   },
   "outputs": [
    {
     "name": "stderr",
     "output_type": "stream",
     "text": [
      "/usr/local/lib/python3.10/dist-packages/seaborn/categorical.py:166: FutureWarning: Setting a gradient palette using color= is deprecated and will be removed in version 0.13. Set `palette='dark:red'` for same effect.\n",
      "  warnings.warn(msg, FutureWarning)\n"
     ]
    },
    {
     "data": {
      "text/plain": [
       "<seaborn.axisgrid.FacetGrid at 0x7fc92bf73580>"
      ]
     },
     "execution_count": 34,
     "metadata": {},
     "output_type": "execute_result"
    },
    {
     "data": {
      "image/png": "[encoded data removed]",
      "text/plain": [
       "<Figure size 1072x500 with 2 Axes>"
      ]
     },
     "metadata": {},
     "output_type": "display_data"
    }
   ],
   "source": [
    "a_p_PI = pd.read_csv(\"Autism_New_Projects_CAT_PI.csv\")\n",
    "\n",
    "# Graph distribution of PI Activity - Ongoing and New by Year\n",
    "\n",
    "# Barplot for each FY\n",
    "yearly_PI_projects = sns.catplot(data=a_p_PI, x=\"FY\", y =\"PI_IDS\", color=\"red\", hue=\"Priority\", col=\"New\")\n",
    "\n",
    "# Rotate label\n",
    "plt.xticks(rotation=90, ha='right')\n",
    "\n",
    "# Change the x-axis label\n",
    "yearly_PI_projects.set(xlabel =\"Fiscal Year\", \n",
    "# Change the y-axis label\n",
    "                    ylabel = \"Number of Unique PI\",\n",
    "# Change the title\n",
    "                   #title = \"Number of New PIs Has Been Increasing Since 2014\",\n",
    "                    label = \"Priority\")\n"
   ]
  },
  {
   "cell_type": "code",
   "execution_count": 75,
   "metadata": {
    "executionInfo": {
     "elapsed": 1527,
     "status": "ok",
     "timestamp": 1683138005794,
     "user": {
      "displayName": "Danny Tsoi",
      "userId": "06065604599370212945"
     },
     "user_tz": 240
    },
    "id": "QULPLl9hvFKO"
   },
   "outputs": [],
   "source": [
    "a_p_PI.to_csv('autism_PI.csv')"
   ]
  },
  {
   "cell_type": "markdown",
   "metadata": {
    "id": "v9fDMMFv7_Bs"
   },
   "source": [
    "# Measure - Total Costs Related to Research Priority\n"
   ]
  },
  {
   "cell_type": "code",
   "execution_count": 35,
   "metadata": {
    "colab": {
     "base_uri": "https://localhost:8080/"
    },
    "executionInfo": {
     "elapsed": 569,
     "status": "ok",
     "timestamp": 1683157000711,
     "user": {
      "displayName": "Danny Tsoi",
      "userId": "06065604599370212945"
     },
     "user_tz": 240
    },
    "id": "tyeCE7v8IuVg",
    "outputId": "3e266f65-9fb8-4386-e34f-899f62c569fc"
   },
   "outputs": [
    {
     "data": {
      "text/plain": [
       "Index(['Unnamed: 0.2', 'Unnamed: 0.1', 'Unnamed: 0', 'APPLICATION_ID',\n",
       "       'ACTIVITY', 'ADMINISTERING_IC', 'APPLICATION_TYPE', 'ARRA_FUNDED',\n",
       "       'AWARD_NOTICE_DATE', 'BUDGET_START', 'BUDGET_END', 'CFDA_CODE',\n",
       "       'CORE_PROJECT_NUM', 'ED_INST_TYPE', 'FOA_NUMBER', 'FULL_PROJECT_NUM',\n",
       "       'FUNDING_MECHANISM', 'FY', 'IC_NAME', 'NIH_SPENDING_CATS', 'ORG_CITY',\n",
       "       'ORG_COUNTRY', 'ORG_DEPT', 'ORG_DISTRICT', 'ORG_DUNS', 'ORG_FIPS',\n",
       "       'ORG_NAME', 'ORG_STATE', 'ORG_ZIPCODE', 'PHR', 'PI_IDS', 'PI_NAMEs',\n",
       "       'PROGRAM_OFFICER_NAME', 'PROJECT_START', 'PROJECT_END', 'PROJECT_TERMS',\n",
       "       'PROJECT_TITLE', 'SERIAL_NUMBER', 'STUDY_SECTION', 'STUDY_SECTION_NAME',\n",
       "       'SUBPROJECT_ID', 'SUFFIX', 'SUPPORT_YEAR', 'DIRECT_COST_AMT',\n",
       "       'INDIRECT_COST_AMT', 'TOTAL_COST', 'TOTAL_COST_SUB_PROJECT',\n",
       "       'PROJECT_START_YEAR', 'PROJECT_END_YEAR', 'BUDGET_START_YEAR',\n",
       "       'BUDGET_END_YEAR', 'New', 'Priority'],\n",
       "      dtype='object')"
      ]
     },
     "execution_count": 35,
     "metadata": {},
     "output_type": "execute_result"
    }
   ],
   "source": [
    "# Group changes in total cost per project based on research priorities across the different FY\n",
    "\n",
    "a_t = pd.read_csv(\"autism_with_CAT.csv\", encoding = 'latin-1')\n",
    "\n",
    "a_t.columns\n",
    "\n"
   ]
  },
  {
   "cell_type": "code",
   "execution_count": 36,
   "metadata": {
    "colab": {
     "base_uri": "https://localhost:8080/"
    },
    "executionInfo": {
     "elapsed": 557,
     "status": "ok",
     "timestamp": 1683157003177,
     "user": {
      "displayName": "Danny Tsoi",
      "userId": "06065604599370212945"
     },
     "user_tz": 240
    },
    "id": "78LIu4qm2KdK",
    "outputId": "9f6e8af6-1b80-4bd7-c854-dc7f006496aa"
   },
   "outputs": [
    {
     "data": {
      "text/plain": [
       "count    2.000000e+01\n",
       "mean     1.459859e+08\n",
       "std      8.624345e+07\n",
       "min      3.526776e+07\n",
       "25%      9.367863e+07\n",
       "50%      1.384883e+08\n",
       "75%      1.641553e+08\n",
       "max      3.536360e+08\n",
       "Name: TOTAL_COST, dtype: float64"
      ]
     },
     "execution_count": 36,
     "metadata": {},
     "output_type": "execute_result"
    }
   ],
   "source": [
    "a_tc = a_t.groupby([\"FY\", \"Priority\"])[\"TOTAL_COST\"].sum()\n",
    "\n",
    "a_tc.to_csv(\"autism_total_cost_CAT.csv\")\n",
    "\n",
    "a_tc.describe()"
   ]
  },
  {
   "cell_type": "code",
   "execution_count": 37,
   "metadata": {
    "colab": {
     "base_uri": "https://localhost:8080/",
     "height": 602
    },
    "executionInfo": {
     "elapsed": 919,
     "status": "ok",
     "timestamp": 1683157006647,
     "user": {
      "displayName": "Danny Tsoi",
      "userId": "06065604599370212945"
     },
     "user_tz": 240
    },
    "id": "U4EToJOF31YJ",
    "outputId": "7f4aa2c8-1d0f-4dee-b026-e5e759da3c9b"
   },
   "outputs": [
    {
     "name": "stderr",
     "output_type": "stream",
     "text": [
      "/usr/local/lib/python3.10/dist-packages/seaborn/categorical.py:166: FutureWarning: Setting a gradient palette using color= is deprecated and will be removed in version 0.13. Set `palette='dark:red'` for same effect.\n",
      "  warnings.warn(msg, FutureWarning)\n"
     ]
    },
    {
     "data": {
      "text/plain": [
       "<seaborn.axisgrid.FacetGrid at 0x7fc92d034190>"
      ]
     },
     "execution_count": 37,
     "metadata": {},
     "output_type": "execute_result"
    },
    {
     "data": {
      "image/png": "[encoded data removed]",
      "text/plain": [
       "<Figure size 572x500 with 1 Axes>"
      ]
     },
     "metadata": {},
     "output_type": "display_data"
    }
   ],
   "source": [
    "a_tc = pd.read_csv(\"autism_total_cost_CAT.csv\")\n",
    "\n",
    "\n",
    "# Graph distribution of Project Total Costs\n",
    "\n",
    "# Barplot for each FY\n",
    "\n",
    "yearly_total_costs = sns.catplot(data=a_tc, x=\"FY\", y =\"TOTAL_COST\", color=\"red\", hue=\"Priority\", )\n",
    "\n",
    "# Rotate label\n",
    "plt.xticks(rotation=90, ha='right')\n",
    "\n",
    "# Change the x-axis label\n",
    "yearly_total_costs.set(xlabel =\"Fiscal Year\", \n",
    "# Change the y-axis label\n",
    "                    ylabel = \"TOTAL COST\",\n",
    "# Change the title\n",
    "                   title = \"Total Cost for Projects Has Been Increasing Since 2014\",\n",
    "                    label = \"Priority\")\n"
   ]
  }
 ],
 "metadata": {
  "colab": {
   "provenance": [
    {
     "file_id": "1gbAd5309u_BAQWLP9KZS6G0xEVzEs9NR",
     "timestamp": 1678985036515
    }
   ]
  },
  "kernelspec": {
   "display_name": "Python 3 (ipykernel)",
   "language": "python",
   "name": "python3"
  },
  "language_info": {
   "codemirror_mode": {
    "name": "ipython",
    "version": 3
   },
   "file_extension": ".py",
   "mimetype": "text/x-python",
   "name": "python",
   "nbconvert_exporter": "python",
   "pygments_lexer": "ipython3",
   "version": "3.9.13"
  }
 },
 "nbformat": 4,
 "nbformat_minor": 1
}
